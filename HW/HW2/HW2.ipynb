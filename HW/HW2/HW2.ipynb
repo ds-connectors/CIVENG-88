{
 "cells": [
  {
   "cell_type": "markdown",
   "metadata": {},
   "source": [
    "# CE - 88 Data Science for Smart Cities\n",
    "\n",
    "**Due date: Monday, October 30th 11:59pm**\n",
    "\n",
    "## Homework 2"
   ]
  },
  {
   "cell_type": "markdown",
   "metadata": {},
   "source": [
    "### 1. Least square linear regression (30 points)\n",
    "\n",
    "You are given the set of data:\n",
    "\n",
    "{(-2,1),(-1,3),(0,4),(2,3),(4,7)}\n",
    "\n",
    "**1.1 (5 points)** Find the least square regression line of the set. The regression line must be modeled as $y = \\theta_1 x + \\theta_2$. Type a list of $\\theta_1$ and $\\theta_2$ into the answer, i.e., [$\\theta_1$, $\\theta_2$]\n",
    "\n",
    "**1.2 (5 points)** Find $R^2$ of the regression line (Your answer needs to be rounded to 2-decimal places)."
   ]
  },
  {
   "cell_type": "code",
   "execution_count": 3,
   "metadata": {},
   "outputs": [
    {
     "data": {
      "text/plain": [
       "45.43"
      ]
     },
     "execution_count": 3,
     "metadata": {},
     "output_type": "execute_result"
    }
   ],
   "source": [
    "# Your analysis and answers here:"
   ]
  },
  {
   "cell_type": "markdown",
   "metadata": {},
   "source": [
    "Now, you want to predict daily average power loads by given daily average temperature during summer (June - Aug) for the year 2016, with given power loads data in 2014 and 2015, using linear regression. That is, train your linear regressor with the summer data in 2014 and 2015 (Use \"DUQ\" column for the power load) and predict daily average power loads by daily average temperatures over the 2016 summer.\n",
    "\n",
    "Use the following function to convert \"date\" string into datetime object.\n"
   ]
  },
  {
   "cell_type": "code",
   "execution_count": null,
   "metadata": {
    "collapsed": true
   },
   "outputs": [],
   "source": [
    "from datetime import datetime\n",
    "def getDatetimeObj(dateStr, fmt):\n",
    "    \"\"\"\n",
    "    Convert string in date format to datatime object\n",
    "    \"\"\"\n",
    "    try:\n",
    "        t = datetime.strptime(dateStr, fmt)\n",
    "    except ValueError as v:\n",
    "        if len(v.args) > 0 and v.args[0].startswith('unconverted data remains: '):\n",
    "            dateStr = dateStr[:-(len(v.args[0]) - 26)]\n",
    "            t = datetime.strptime(dateStr, fmt)\n",
    "        else:\n",
    "            raise\n",
    "    return t\n",
    "\n",
    "# Example:\n",
    "# table_load = ds.Table.read_table(\"2014.csv\")\n",
    "# table_load[\"DAY\"] = table_load.select(\"DAY\").apply(lambda x: getDatetimeObj(x[0],\"%m/%d/%y\"))"
   ]
  },
  {
   "cell_type": "markdown",
   "metadata": {},
   "source": [
    "**1.3 (10 points)** Among your predictions, find the \"average\" maximum power load (Your answer needs to be rounded)\n",
    "\n",
    "**1.4 (5 points)** To validate the regression, find $R^2$ of your predction (Your answer needs to be rounded to 2-decimal places).\n",
    "\n",
    "**1.5 (5 points)** Visualize your regression line over the datapoints."
   ]
  },
  {
   "cell_type": "code",
   "execution_count": null,
   "metadata": {
    "collapsed": true
   },
   "outputs": [],
   "source": [
    "# Your analysis and answers here:# Your analysis and answers here:"
   ]
  },
  {
   "cell_type": "markdown",
   "metadata": {},
   "source": [
    "### 2. Naive Bayes (30 points)\n",
    "\n",
    "In this question we are going to use Naive Bayes to predict the amount bikers given some features about the season, weather and the hour of the day. Specifically the features are as follow:\n",
    "\n",
    "- **season**: can take 4 values $\\in \\{1,2,3,4\\}$\n",
    "\n",
    "\n",
    "- **hour**: representing hour of the day. The data here is already been categorized into four categories:\n",
    "    - cateogory 1: hour $\\in \\{0,1,2,3,4,5\\}$\n",
    "    - cateogory 2: hour $\\in \\{6,7,8,9,10,11\\}$\n",
    "    - cateogory 3: hour $\\in \\{12,13,14,15,16,17\\}$\n",
    "    - cateogory 4: hour $\\in \\{18,19,20,21,22,23\\}$\n",
    "    \n",
    "    \n",
    "- **workingday**: is 0 if it is a holiday and 1 if it is a working day.\n",
    "\n",
    "\n",
    "- **weather**: representing the weather. The data here is already been categorized into three categories:\n",
    "    - cateogory 1: clear, few clouds, partly cloudy\n",
    "    - cateogory 2: mist, cloudy\n",
    "    - cateogory 3: light snow, thunderstorm\n",
    "  \n",
    "  \n",
    "- **temp**: representing the temperature that is categorized in five categories:\n",
    "    - cateogory 1: temp $\\in [0,0.2]$\n",
    "    - cateogory 2: temp $\\in (0.2,0.4]$\n",
    "    - cateogory 3: temp $\\in (0.4,0.6]$\n",
    "    - cateogory 4: temp $\\in (0.6,0.8]$\n",
    "    - cateogory 5: temp $\\in (0.8,1]$   \n",
    " \n",
    " \n",
    "- **hum**: representing the humidity that is categorized in five categories:\n",
    "    - cateogory 1: hum $\\in [0,0.2]$\n",
    "    - cateogory 2: hum $\\in (0.2,0.4]$\n",
    "    - cateogory 3: hum $\\in (0.4,0.6]$\n",
    "    - cateogory 4: hum $\\in (0.6,0.8]$\n",
    "    - cateogory 5: hum $\\in (0.8,1]$\n",
    " \n",
    " \n",
    "- **windspeed**: representing the wind speed that is categorized in five categories:\n",
    "    - cateogory 1: windspeed $\\in [0,0.2]$\n",
    "    - cateogory 2: windspeed $\\in (0.2,0.4]$\n",
    "    - cateogory 3: windspeed $\\in (0.4,0.6]$\n",
    "    - cateogory 4: windspeed $\\in (0.6,0.8]$\n",
    "    - cateogory 5: windspeed $\\in (0.8,1]$\n",
    "\n",
    "\n",
    "- **Class label**: the class labels are number of bikers which are categorized as follow:\n",
    "    - cateogory 1: count $\\in [0,100]$\n",
    "    - cateogory 2: count $\\in [101,200]$\n",
    "    - cateogory 3: count $\\in [201,300]$\n",
    "    - cateogory 4: count $\\in [301,400]$\n",
    "    - cateogory 5: count $\\in [401,500]$\n",
    "    - cateogory 6: count $\\in [501,600]$\n",
    "    - cateogory 7: count $\\in [601,700]$\n",
    "\n",
    "**Part 1. (10 points)** You are given two datasets, bike_train.csv and bike_test.csv. First learn a Naive Bayes classifier basad on the training data and calculate the training accuracy. \n",
    "\n",
    "**Part 2. (10 points)** Then, apply your trained model to the testing dataset and predict the number of bikers and calculate the testing accuracy in prediction. What can you say about comparison among the training and testing accuracy? \n",
    "\n",
    "**Part 3. (10 points)** What if you only use two features of season and and workingday for predicting the number of bikers for the testing data? How testing accuracy is different with respect to trainig accuracy? "
   ]
  },
  {
   "cell_type": "code",
   "execution_count": 3,
   "metadata": {},
   "outputs": [
    {
     "data": {
      "text/html": [
       "<table border=\"1\" class=\"dataframe\">\n",
       "    <thead>\n",
       "        <tr>\n",
       "            <th>season</th> <th>hour</th> <th>workingday</th> <th>weather</th> <th>temp</th> <th>hum</th> <th>windspeed</th> <th>count</th>\n",
       "        </tr>\n",
       "    </thead>\n",
       "    <tbody>\n",
       "        <tr>\n",
       "            <td>1     </td> <td>1   </td> <td>1         </td> <td>1      </td> <td>1   </td> <td>3   </td> <td>1        </td> <td>1    </td>\n",
       "        </tr>\n",
       "    </tbody>\n",
       "        <tr>\n",
       "            <td>1     </td> <td>2   </td> <td>0         </td> <td>2      </td> <td>3   </td> <td>2   </td> <td>2        </td> <td>1    </td>\n",
       "        </tr>\n",
       "    </tbody>\n",
       "        <tr>\n",
       "            <td>1     </td> <td>2   </td> <td>0         </td> <td>1      </td> <td>1   </td> <td>3   </td> <td>2        </td> <td>1    </td>\n",
       "        </tr>\n",
       "    </tbody>\n",
       "        <tr>\n",
       "            <td>2     </td> <td>1   </td> <td>1         </td> <td>2      </td> <td>2   </td> <td>4   </td> <td>2        </td> <td>1    </td>\n",
       "        </tr>\n",
       "    </tbody>\n",
       "        <tr>\n",
       "            <td>1     </td> <td>4   </td> <td>1         </td> <td>1      </td> <td>2   </td> <td>2   </td> <td>2        </td> <td>1    </td>\n",
       "        </tr>\n",
       "    </tbody>\n",
       "        <tr>\n",
       "            <td>3     </td> <td>1   </td> <td>1         </td> <td>1      </td> <td>4   </td> <td>3   </td> <td>1        </td> <td>1    </td>\n",
       "        </tr>\n",
       "    </tbody>\n",
       "        <tr>\n",
       "            <td>4     </td> <td>3   </td> <td>1         </td> <td>3      </td> <td>2   </td> <td>5   </td> <td>2        </td> <td>1    </td>\n",
       "        </tr>\n",
       "    </tbody>\n",
       "        <tr>\n",
       "            <td>4     </td> <td>4   </td> <td>1         </td> <td>1      </td> <td>4   </td> <td>3   </td> <td>2        </td> <td>6    </td>\n",
       "        </tr>\n",
       "    </tbody>\n",
       "        <tr>\n",
       "            <td>1     </td> <td>4   </td> <td>0         </td> <td>1      </td> <td>2   </td> <td>3   </td> <td>1        </td> <td>1    </td>\n",
       "        </tr>\n",
       "    </tbody>\n",
       "        <tr>\n",
       "            <td>1     </td> <td>1   </td> <td>1         </td> <td>3      </td> <td>2   </td> <td>5   </td> <td>2        </td> <td>1    </td>\n",
       "        </tr>\n",
       "    </tbody>\n",
       "</table>\n",
       "<p>... (2750 rows omitted)</p"
      ],
      "text/plain": [
       "season | hour | workingday | weather | temp | hum  | windspeed | count\n",
       "1      | 1    | 1          | 1       | 1    | 3    | 1         | 1\n",
       "1      | 2    | 0          | 2       | 3    | 2    | 2         | 1\n",
       "1      | 2    | 0          | 1       | 1    | 3    | 2         | 1\n",
       "2      | 1    | 1          | 2       | 2    | 4    | 2         | 1\n",
       "1      | 4    | 1          | 1       | 2    | 2    | 2         | 1\n",
       "3      | 1    | 1          | 1       | 4    | 3    | 1         | 1\n",
       "4      | 3    | 1          | 3       | 2    | 5    | 2         | 1\n",
       "4      | 4    | 1          | 1       | 4    | 3    | 2         | 6\n",
       "1      | 4    | 0          | 1       | 2    | 3    | 1         | 1\n",
       "1      | 1    | 1          | 3       | 2    | 5    | 2         | 1\n",
       "... (2750 rows omitted)"
      ]
     },
     "execution_count": 3,
     "metadata": {},
     "output_type": "execute_result"
    }
   ],
   "source": [
    "# Your analysis and answers here:\n",
    "from datascience import *\n",
    "table_train = Table.read_table('bike_test.csv')\n",
    "table_train"
   ]
  },
  {
   "cell_type": "markdown",
   "metadata": {},
   "source": [
    "### 3. Bayesian networks (40 points)\n",
    "\n",
    "This question will refer to the graphical model shown below, which encode a set of independencies among the following variables: Season (S), Flu (F), Dehydration (D), Chills (C), Headache (H), Nausea (N), and Dizziness (Z).\n",
    "\n",
    "<img src=\"flu.png\", width=\"500\">\n",
    "\n",
    "**Part 1: Independencies in Bayesian networks (12 points)** \n",
    "\n",
    "Consider the model shown above. Indicate whether the following independence statements are true or false according to this model. Provide a very brief justification of your answer (think of active trails and d-separation).\n",
    "\n",
    "1- Season $\\perp$ Chills\n",
    "\n",
    "\n",
    "2- Season $\\perp$ Chills $\\mid$ Flu\n",
    "\n",
    "\n",
    "3- Season $\\perp$ Headache $\\mid$ Flu\n",
    "\n",
    "\n",
    "4- Season $\\perp$ Headache $\\mid$ Flu, Dehydration\n",
    "\n",
    "\n",
    "5- Season $\\perp$ Nausea $\\mid$ Dehydration\n",
    "\n",
    "\n",
    "6- Season $\\perp$ Nausea $\\mid$ Dehydration, Headache\n",
    "\n",
    "\n",
    "7- Flu $\\perp$ Dehydration\n",
    "\n",
    "\n",
    "8- Flu $\\perp$ Dehydration $\\mid$ Season, Headache\n",
    "\n",
    "\n",
    "9- Flu $\\perp$ Dehydration $\\mid$ Season\n",
    "\n",
    "\n",
    "10- Flu $\\perp$ Dehydration $\\mid$ Season, Nausea\n",
    "\n",
    "\n",
    "11- Chills $\\perp$ Nausea \n",
    "\n",
    "\n",
    "12- Chills $\\perp$ Nausea $\\mid$ Headache\n",
    "\n",
    "\n",
    "\n",
    "**Part 2: Factorized joint distributions (3 points)** \n",
    "\n",
    "1- Using the Bayesian network shown above write down the factorized form of the joint distribution over all of the variables, $p(S,F,D,C,H,N,Z)$\n",
    "\n",
    "\n",
    "**Part 3: Evaluating probability queries (25 points)**\n",
    "\n",
    "Assume you are given the conditional probability tables listed below for the model shown in the first figure. Evaluate each of the probabilities queries listed below and show your calculations.\n",
    "\n",
    "<img src=\"flu2.png\", width=\"500\">\n",
    "\n",
    "\n",
    "1- What is the probability that you have the flu, when no prior information is known?\n",
    "\n",
    "\n",
    "2- What is the probability that you have the flu, given that it is winter?\n",
    "\n",
    "\n",
    "3- What is the probability that you have the flu, given that it is winter and that you have a headache?\n",
    "\n",
    "\n",
    "4- What is the probability that you have the flu, given that it is winter, you have a headache, and you know that you are dehydrated?\n",
    "\n",
    "\n",
    "5- Does knowing your are dehydrated increase or decrease your likelihood of having the flu? Intuitively, does this make sense?"
   ]
  },
  {
   "cell_type": "code",
   "execution_count": null,
   "metadata": {
    "collapsed": true
   },
   "outputs": [],
   "source": [
    "# Your analysis and answers here:# Your analysis and answers here:"
   ]
  },
  {
   "cell_type": "markdown",
   "metadata": {},
   "source": [
    "### Bonus Question: (20 points) \n",
    "\n",
    "Let $H_i$ be a random variable taking on values $l$ and $r$ that denotes the handedness of some individual $i$. A simple hypothesis for handedness is that it is inherited in the following way:\n",
    "\n",
    "- there is a single gene $G_i$ that effects $H_i$,\n",
    "\n",
    "\n",
    "- $H_i = G_i$ with probability $p > 0.5$,\n",
    "\n",
    "\n",
    "- the gene is inherited from a single parent, and it is equally likely to be inherited from either,\n",
    "\n",
    "\n",
    "- there is a small non-zero probability $m$ that the gene mutates after inheritance (e.g. if the child inherits from the father and $G_{father} = r$, then with probability $m$, $G_{child} = l$).\n",
    "\n",
    "\n",
    "(a) (10 points) Draw a Bayes' network with nodes $G_i$ and $H_i$ for $i \\in \\{child, mother, father\\}$ that shows this hypothesis.\n",
    "\n",
    "\n",
    "(b) (4 points) Answer the following using d-separation argument.\n",
    "\n",
    "- is $H_{mother}$ independent of $H_{father}$?\n",
    "\n",
    "\n",
    "- is $H_{mother}$ independent of $H_{father}$ given $H_{child}$?\n",
    "\n",
    "\n",
    "- is $H_{child}$ independent of $G_{mother}$ given $G_{child}$?\n",
    "\n",
    "\n",
    "- is $H_{child}$ independent of $G_{mother}$ given $H_{mother}$?\n",
    "\n",
    "\n",
    "(c) (2 points) Give the conditional probability table for $G_{child}$.\n",
    "\n",
    "\n",
    "\n",
    "(d) (2 points) Suppose $p(G_{father} = l) = p(G_{mother} = l) = x$. Derive an expression for $p(G_{child} = l)$ in terms of $x$ and $m$ by conditioning on the parent nodes. \n",
    "\n",
    "\n",
    "(e) (2 points) Suppose genetic equilibrium holds, i.e. that the distribution of genes in every generation is the same. Calculate $x$. Do you think the hypothesis for handedness described in this question holds? Explain.\n"
   ]
  },
  {
   "cell_type": "code",
   "execution_count": null,
   "metadata": {
    "collapsed": true
   },
   "outputs": [],
   "source": [
    "# Your analysis and answers here:"
   ]
  },
  {
   "cell_type": "markdown",
   "metadata": {},
   "source": [
    "# Load OKpy"
   ]
  },
  {
   "cell_type": "code",
   "execution_count": null,
   "metadata": {
    "collapsed": true
   },
   "outputs": [],
   "source": [
    "from client.api.notebook import Notebook\n",
    "ok = Notebook('HW2.ok')\n",
    "_ = ok.auth(inline=True)"
   ]
  },
  {
   "cell_type": "markdown",
   "metadata": {},
   "source": [
    "# Submit to OKpy"
   ]
  },
  {
   "cell_type": "code",
   "execution_count": null,
   "metadata": {
    "collapsed": true
   },
   "outputs": [],
   "source": [
    "_ = ok.submit()"
   ]
  }
 ],
 "metadata": {
  "kernelspec": {
   "display_name": "Python 3",
   "language": "python",
   "name": "python3"
  },
  "language_info": {
   "codemirror_mode": {
    "name": "ipython",
    "version": 3
   },
   "file_extension": ".py",
   "mimetype": "text/x-python",
   "name": "python",
   "nbconvert_exporter": "python",
   "pygments_lexer": "ipython3",
   "version": "3.6.1"
  },
  "varInspector": {
   "cols": {
    "lenName": 16,
    "lenType": 16,
    "lenVar": 40
   },
   "kernels_config": {
    "python": {
     "delete_cmd_postfix": "",
     "delete_cmd_prefix": "del ",
     "library": "var_list.py",
     "varRefreshCmd": "print(var_dic_list())"
    },
    "r": {
     "delete_cmd_postfix": ") ",
     "delete_cmd_prefix": "rm(",
     "library": "var_list.r",
     "varRefreshCmd": "cat(var_dic_list()) "
    }
   },
   "types_to_exclude": [
    "module",
    "function",
    "builtin_function_or_method",
    "instance",
    "_Feature"
   ],
   "window_display": false
  }
 },
 "nbformat": 4,
 "nbformat_minor": 2
}
