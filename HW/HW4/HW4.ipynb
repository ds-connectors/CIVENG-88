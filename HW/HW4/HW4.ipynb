{
 "cells": [
  {
   "cell_type": "markdown",
   "metadata": {},
   "source": [
    "# CE - 88 Data Science for Smart Cities\n",
    "\n",
    "**Due date: Monday, November 27th 11:59pm**\n",
    "\n",
    "## Homework 4"
   ]
  },
  {
   "cell_type": "markdown",
   "metadata": {},
   "source": [
    "### $k$-Nearest Neighbors\n",
    "\n",
    "\n",
    "### 1. Conceptual question (20 points)\n",
    "\n",
    "In figure below, we show a set of training points classified as being either black or white. Consider using the $k$-Nearest Neighbors algorithm to classify new points.\n",
    "\n",
    "\n",
    "<img src=\"fig1.png\", width=\"700\">\n",
    "\n",
    "\n",
    "\n",
    "**part 1.** How is the point marked by \"?\" classified using Euclidean distance as the distance metric for $k = 1,2$ and $3$?\n",
    "\n",
    "**part 2.** Are there any points in the training set that would be misclassified using $k = 1$? If so, identify them. \n",
    "\n",
    "**part 3.** Come up with a simple distance metric that would properly classify all the points in the training set for $k = 1$?\n",
    "\n",
    "**part 4.** What happens when $k = 5$ using your distance metric?\n",
    "\n",
    "**part 5.** How does your distance metric classify the \"?\" for $k = 1, 2$ and $3$?"
   ]
  },
  {
   "cell_type": "code",
   "execution_count": 7,
   "metadata": {
    "collapsed": true
   },
   "outputs": [],
   "source": [
    "# Your analysis here:"
   ]
  },
  {
   "cell_type": "markdown",
   "metadata": {},
   "source": [
    "### 2. $k$-NN vs. linear regression (40 points)\n",
    "\n",
    "In this question, you will compare the performance of $k$-NN and Linear Regression on prediction of load with respect to temperature readings (same database as homework 2). You are given two databases: (1) \"Reg_Training.csv\" which contains the data of months June and July in year 2016 for training, and (2) \"Reg_Testing.csv\", which contains the data of month of August in year 2016 for testing. \n",
    "\n",
    "**Part 1.** Fit a line to the training data using any library or formula that you want. Then use the line to predict the power in the testing data. Then compute the least square error of your predictions. For example, if your predictions are $\\hat{y_i}$, and the actual power load in the testing data is $y_i$, then the least square error is:\n",
    "\n",
    "$\\frac{1}{N}\\sum_{i=1}^{N} (y_i - \\hat{y_i})^2$"
   ]
  },
  {
   "cell_type": "code",
   "execution_count": null,
   "metadata": {
    "collapsed": true
   },
   "outputs": [],
   "source": [
    "# Your analysis here:"
   ]
  },
  {
   "cell_type": "markdown",
   "metadata": {},
   "source": [
    "**Part 2.** Implement the $k$-NN method with $k = {1,3,5}$. Use the training data to find the nearest neighbors for each testing data and the predict the power in the testing data. Find the least square error same as above. \n",
    "\n",
    "- What is the relationship between error in prediction and $k$? \n",
    "\n",
    "- Which method (linear regression or $k$-NN) is performing better? why? "
   ]
  },
  {
   "cell_type": "code",
   "execution_count": null,
   "metadata": {
    "collapsed": true
   },
   "outputs": [],
   "source": [
    "# Your analysis here:"
   ]
  },
  {
   "cell_type": "markdown",
   "metadata": {},
   "source": [
    "### 3. $k$-NN for classification (40 points)\n",
    "\n",
    "In this question, you will use $k$-NN for classification purposes. You are given two databases: (1) \"Class_Training.csv\" which contains the training data of bike sharing, and (2) \"Class_Testing.csv\", which contains the testing data of bikesharing. Treat season, weather, temp and hum as features and count as class label. \n",
    "\n",
    "Use the training data and implement $k$-NN with $k = {1,3,7}$ to find the class lables for testing data. Plot the relationship between $k$ and the accuracy in predicting the class labels. \n",
    "\n"
   ]
  },
  {
   "cell_type": "code",
   "execution_count": null,
   "metadata": {
    "collapsed": true
   },
   "outputs": [],
   "source": [
    "# Your analysis here:"
   ]
  },
  {
   "cell_type": "markdown",
   "metadata": {},
   "source": [
    "# Load OKpy"
   ]
  },
  {
   "cell_type": "code",
   "execution_count": null,
   "metadata": {
    "collapsed": true
   },
   "outputs": [],
   "source": [
    "from client.api.notebook import Notebook\n",
    "ok = Notebook('HW4.ok')\n",
    "_ = ok.auth(inline=True)"
   ]
  },
  {
   "cell_type": "markdown",
   "metadata": {},
   "source": [
    "# Submit to OKpy"
   ]
  },
  {
   "cell_type": "code",
   "execution_count": null,
   "metadata": {
    "collapsed": true
   },
   "outputs": [],
   "source": [
    "_ = ok.submit()"
   ]
  }
 ],
 "metadata": {
  "kernelspec": {
   "display_name": "Python 3",
   "language": "python",
   "name": "python3"
  },
  "language_info": {
   "codemirror_mode": {
    "name": "ipython",
    "version": 3
   },
   "file_extension": ".py",
   "mimetype": "text/x-python",
   "name": "python",
   "nbconvert_exporter": "python",
   "pygments_lexer": "ipython3",
   "version": "3.6.1"
  },
  "varInspector": {
   "cols": {
    "lenName": 16,
    "lenType": 16,
    "lenVar": 40
   },
   "kernels_config": {
    "python": {
     "delete_cmd_postfix": "",
     "delete_cmd_prefix": "del ",
     "library": "var_list.py",
     "varRefreshCmd": "print(var_dic_list())"
    },
    "r": {
     "delete_cmd_postfix": ") ",
     "delete_cmd_prefix": "rm(",
     "library": "var_list.r",
     "varRefreshCmd": "cat(var_dic_list()) "
    }
   },
   "types_to_exclude": [
    "module",
    "function",
    "builtin_function_or_method",
    "instance",
    "_Feature"
   ],
   "window_display": false
  }
 },
 "nbformat": 4,
 "nbformat_minor": 2
}
