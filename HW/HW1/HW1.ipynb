{
 "cells": [
  {
   "cell_type": "markdown",
   "metadata": {},
   "source": [
    "# Theoretical questions"
   ]
  },
  {
   "cell_type": "markdown",
   "metadata": {
    "collapsed": true
   },
   "source": [
    "#### 1. Basic probability and statistics\n",
    "\n",
    "The joint probability of variables $x$ and $y$ is modeled by:\n",
    "\n",
    "$\n",
    "    p(x,y)=\\left\\{\n",
    "                \\begin{array}{ll}\n",
    "                  72(xy^2-xy^3-x^2y^2+x^2y^3) \\hspace{1cm}  x,y \\in [0,1]\\\\\n",
    "                  0  \\hspace{5.8cm} \\text{otherwise}\n",
    "                \\end{array}\n",
    "              \\right.\n",
    "  $\n",
    "  \n",
    "Are $x$ and $y$ independent? If yes, please answer with number 1, else answer with 0"
   ]
  },
  {
   "cell_type": "code",
   "execution_count": 14,
   "metadata": {
    "collapsed": true
   },
   "outputs": [],
   "source": [
    "# Your answer here:\n",
    "\n",
    "q1 = ..."
   ]
  },
  {
   "cell_type": "markdown",
   "metadata": {},
   "source": [
    "#### 2. Joint and marginal probabilities\n",
    "\n",
    "$X$ defines the maximum seismic intensity experienced by a site in the next 10 years, and it may assume 4 values: $X_1 = $ 'low', $X_2 = $ 'medium', $X_3 = $ 'high', and $X_4 = $ 'very high'.\n",
    "\n",
    "$Y$ defines the seismic damage on the building in that site, and it may assume 5 values: $Y_1 = $ 'no damage', $Y_2 = $ 'mild damage', $Y_3 = $ 'medium damage', $Y_4 = $ 'severe damage', and $Y_5 = $ 'collapse'.\n",
    "\n",
    "Marginal probability of $X$ and conditional probability of $Y$ given $X$ are modeled as:\n",
    "\n",
    "<img src=\"hw1_1.png\", width=\"500\">\n",
    "\n",
    "**2.1.** For each damage state, calculate the marginal probability of damage $p(Y)$.\n",
    "\n",
    "**hint: this is a column vector of length 5; note: Multiply the answer by 100 (percentage) and give the answer up to one decimal.**"
   ]
  },
  {
   "cell_type": "code",
   "execution_count": 15,
   "metadata": {},
   "outputs": [],
   "source": [
    "# Your analysis here:\n"
   ]
  },
  {
   "cell_type": "code",
   "execution_count": 16,
   "metadata": {
    "collapsed": true
   },
   "outputs": [],
   "source": [
    "# Your answer here:\n",
    "\n",
    "q2 = ..."
   ]
  },
  {
   "cell_type": "markdown",
   "metadata": {
    "collapsed": true
   },
   "source": [
    "**2.2.** For each damage state, calculate the conditional probability of damage given $X = X_2$\n",
    "\n",
    "**note: we are calculating $p(Y \\mid X = X_2)$; Multiply the answer by 100 (percentage) and give the answer up to one decimal (to round to 1 decimal use numpy.round('your vector', 1)).**"
   ]
  },
  {
   "cell_type": "code",
   "execution_count": null,
   "metadata": {
    "collapsed": true
   },
   "outputs": [],
   "source": [
    "# Your analysis here:\n"
   ]
  },
  {
   "cell_type": "code",
   "execution_count": 423,
   "metadata": {
    "collapsed": true
   },
   "outputs": [],
   "source": [
    "# Your answer here:\n",
    "\n",
    "q3 = ..."
   ]
  },
  {
   "cell_type": "markdown",
   "metadata": {},
   "source": [
    "**2.3.** For each damage state, calculate the joint probability of having that damage state and $X = X_2$\n",
    "\n",
    "**note: we are calculating $p(X_2 , Y)$; Multiply the answer by 100 (percentage) and give the answer up to one decimal. (to round to 1 decimal use numpy.round('your vector', 1))**"
   ]
  },
  {
   "cell_type": "code",
   "execution_count": 17,
   "metadata": {},
   "outputs": [],
   "source": [
    "# Your analysis here:\n"
   ]
  },
  {
   "cell_type": "code",
   "execution_count": 18,
   "metadata": {
    "collapsed": true
   },
   "outputs": [],
   "source": [
    "# Your answer here:\n",
    "\n",
    "q4 = ..."
   ]
  },
  {
   "cell_type": "markdown",
   "metadata": {},
   "source": [
    "**2.4.** For each seismic intensity, calculate the conditional probability of that intensity given $Y = Y_3$\n",
    "\n",
    "**note: we are calculating $p(X \\mid Y = Y_3)$; Multiply the answer by 100 (percentage) and give the answer up to one decimal. (to round to 1 decimal use numpy.round('your vector', 1))**"
   ]
  },
  {
   "cell_type": "code",
   "execution_count": 19,
   "metadata": {},
   "outputs": [],
   "source": [
    "# Your analysis here:\n"
   ]
  },
  {
   "cell_type": "code",
   "execution_count": 20,
   "metadata": {
    "collapsed": true
   },
   "outputs": [],
   "source": [
    "# Your answer here:\n",
    "\n",
    "q5 = ..."
   ]
  },
  {
   "cell_type": "markdown",
   "metadata": {},
   "source": [
    "#### 3. Contuning on probability\n",
    "\n",
    "On day zero, the number of trucks in a parking lot is $X_0$. Assume $X_0 = 1$ with probability 20%, $X_0 = 2$ with probability 50% and $X_0 = 3$, with probability 30%. Between day zero and day one, assume one truck can leave (with probability 25%), one truck can be added (with probability 25%), or the number of trucks can stay the same (with probability 50%). $X_1$ is the number of trucks on day one."
   ]
  },
  {
   "cell_type": "markdown",
   "metadata": {},
   "source": [
    "**3.1.** What is the probability that $X_1 = 1$?"
   ]
  },
  {
   "cell_type": "code",
   "execution_count": null,
   "metadata": {
    "collapsed": true
   },
   "outputs": [],
   "source": [
    "# Your analysis here:\n"
   ]
  },
  {
   "cell_type": "code",
   "execution_count": 21,
   "metadata": {
    "collapsed": true
   },
   "outputs": [],
   "source": [
    "# Your answer here:\n",
    "\n",
    "q6 = ..."
   ]
  },
  {
   "cell_type": "markdown",
   "metadata": {},
   "source": [
    "**3.2.** What is the probability that $X_1 = 5$?"
   ]
  },
  {
   "cell_type": "code",
   "execution_count": 23,
   "metadata": {
    "collapsed": true
   },
   "outputs": [],
   "source": [
    "# Your analysis here:\n"
   ]
  },
  {
   "cell_type": "code",
   "execution_count": 22,
   "metadata": {
    "collapsed": true
   },
   "outputs": [],
   "source": [
    "# Your answer here:\n",
    "\n",
    "q7 = ..."
   ]
  },
  {
   "cell_type": "markdown",
   "metadata": {},
   "source": [
    "**3.3.** What is the probability that $X_1 > X_0$?"
   ]
  },
  {
   "cell_type": "code",
   "execution_count": 24,
   "metadata": {
    "collapsed": true
   },
   "outputs": [],
   "source": [
    "# Your analysis here:\n"
   ]
  },
  {
   "cell_type": "code",
   "execution_count": 25,
   "metadata": {
    "collapsed": true
   },
   "outputs": [],
   "source": [
    "# Your answer here:\n",
    "\n",
    "q8 = ..."
   ]
  },
  {
   "cell_type": "markdown",
   "metadata": {},
   "source": [
    "**3.4.** If there are 3 trucks at day one, what is the conditional probability that there were 2 trucks at day zero?"
   ]
  },
  {
   "cell_type": "code",
   "execution_count": 26,
   "metadata": {
    "collapsed": true
   },
   "outputs": [],
   "source": [
    "# Your analysis here:\n"
   ]
  },
  {
   "cell_type": "code",
   "execution_count": 27,
   "metadata": {
    "collapsed": true
   },
   "outputs": [],
   "source": [
    "# Your answer here:\n",
    "\n",
    "q9 = ..."
   ]
  },
  {
   "cell_type": "markdown",
   "metadata": {},
   "source": [
    "# Real-data exploration"
   ]
  },
  {
   "cell_type": "markdown",
   "metadata": {},
   "source": [
    "#### 4. Census Data\n",
    "\n",
    "In this question load the census data (bay_area_census_age.csv) and implement your method to answer following questions:\n",
    "\n",
    "**4.1.** identify census tracts with predominantly young population (we can define the predominantly young population as if the portion of population under 29 years old is more than 80% of the total population). Your output should be a list of census tract ids (this is the 'NAME' field in the data table).\n",
    "\n",
    "**note: Once you find those tracts just enter the numbers below, for example if you find two tracts ('Census Tract 21', 'Census Tract 434'), your answer would be [21,434]**\n",
    "\n",
    "\n",
    "\n"
   ]
  },
  {
   "cell_type": "code",
   "execution_count": 28,
   "metadata": {},
   "outputs": [],
   "source": [
    "# Your analysis here:\n",
    "\n"
   ]
  },
  {
   "cell_type": "code",
   "execution_count": 29,
   "metadata": {
    "collapsed": true
   },
   "outputs": [],
   "source": [
    "# Your final answer here:\n",
    "\n",
    "q10 = ..."
   ]
  },
  {
   "cell_type": "markdown",
   "metadata": {},
   "source": [
    "**4.2** Find the three closest tracts to Paris Baguette in Downtown Berkeley (latitude = 37.869941, longitude = -122.268377), and report the mean and standard deviation of total population in those tracts. \n",
    "\n",
    "**note: the function to find the distance of tracts to the specific lat/long is provided below. Please round your answers.**"
   ]
  },
  {
   "cell_type": "code",
   "execution_count": 431,
   "metadata": {
    "collapsed": true
   },
   "outputs": [],
   "source": [
    "def distance_on_sphere(lat1, long1, lat2, long2):\n",
    "\n",
    "    # Convert latitude and longitude to spherical coordinates in radians.\n",
    "    degrees_to_radians = np.pi/180.0\n",
    "        \n",
    "    # phi = 90 - latitude\n",
    "    phi1 = (90.0 - lat1)*degrees_to_radians\n",
    "    phi2 = (90.0 - lat2)*degrees_to_radians\n",
    "        \n",
    "    # theta = longitude\n",
    "    theta1 = long1*degrees_to_radians\n",
    "    theta2 = long2*degrees_to_radians\n",
    "        \n",
    "    # We can compute spherical distance from spherical coordinates.\n",
    "    cos = (np.sin(phi1)*np.sin(phi2)*np.cos(theta1-theta2)+\n",
    "           np.cos(phi1)*np.cos(phi2))\n",
    "    arc = np.arccos( cos )\n",
    "\n",
    "    # Multiply arc by the radius of the earth to get length.\n",
    "    return 3960.*arc #to get distance in miles\n",
    "\n",
    "def rotate_table(table):\n",
    "    '''transforms a 2 x n table to be an n x 2 table'''\n",
    "    return Table().with_columns(['Columns', list(table.labels),\n",
    "                                 'Values', list(table.to_array()[0])])"
   ]
  },
  {
   "cell_type": "code",
   "execution_count": 30,
   "metadata": {
    "scrolled": true
   },
   "outputs": [],
   "source": [
    "# Your analysis here:\n"
   ]
  },
  {
   "cell_type": "code",
   "execution_count": 31,
   "metadata": {
    "collapsed": true
   },
   "outputs": [],
   "source": [
    "# Enter mean here:\n",
    "\n",
    "q11 = ...\n",
    "\n",
    "# Enter standard deviation here:\n",
    "\n",
    "q12 = ..."
   ]
  },
  {
   "cell_type": "markdown",
   "metadata": {},
   "source": [
    "#### 5. Traffic count on Bay Bridge\n",
    "\n",
    "In this question load the traffic data on bay bridge (pems_output.csv.csv) and implement your method for: \n",
    "\n",
    "\n",
    "**5.1** identifying the best (most Flow) lane to travel on for the following period of time: \n",
    "between 8pm to 11pm\n",
    "\n",
    "**note: the functions to get the hours (as we had in Lab 1) is given below** \n",
    "\n",
    "**If your answer is Lane 1, enter just number 1, and 2 or 3 or 4 for other lanes respectively.**"
   ]
  },
  {
   "cell_type": "code",
   "execution_count": 32,
   "metadata": {},
   "outputs": [],
   "source": [
    "# Your analysis here:\n"
   ]
  },
  {
   "cell_type": "code",
   "execution_count": 33,
   "metadata": {
    "collapsed": true
   },
   "outputs": [],
   "source": [
    "# Your final answer here:\n",
    "\n",
    "q13 = ..."
   ]
  },
  {
   "cell_type": "markdown",
   "metadata": {},
   "source": [
    "**5.2.** identifying the worst (least flow) lane to travel on for the following period of time: \n",
    "between 8pm to 11pm between 5pm to 8pm"
   ]
  },
  {
   "cell_type": "code",
   "execution_count": 34,
   "metadata": {},
   "outputs": [],
   "source": [
    "# Your analysis here:\n"
   ]
  },
  {
   "cell_type": "code",
   "execution_count": 35,
   "metadata": {
    "collapsed": true
   },
   "outputs": [],
   "source": [
    "# Your final answer here:\n",
    "\n",
    "q14 = ..."
   ]
  },
  {
   "cell_type": "markdown",
   "metadata": {},
   "source": [
    "#### 6. TAZ data\n",
    "\n",
    "In this question you will play with some data from the Metropolitan Transportation Commission on travel time from one Traffic Analysis Zone (TAZ) to another. \n",
    "\n",
    "##### The Dataset\n",
    "\n",
    "##### MTC travel skims\n",
    "\n",
    "The Metropolitan Transportation Commission (MTC) is the regional transportation planning organization for the Bay Area. They host a database with average travel time, cost, and distance from each traffic analysis zone (TAZ) to all other TAZs in the Bay Area. The files have data for driving alone, carpooling, walking to transit, driving to transit, walking, and biking. \n",
    "\n",
    "We have pre-processed the data from the morning commute to include only TAZs around San Francisco, Oakland and Berkeley. The file with inter-TAZ travel time is sf_oak_traveltimes_bymode.csv.\n",
    "\n",
    "More info on the dataset can be found here - http://analytics.mtc.ca.gov/foswiki/Main/SimpleSkims. \n",
    "The descriptions of the columns in the data set are shown below:\n",
    "\n",
    "|column|description|\n",
    "|---|---|\n",
    "|origin|Origin transportation analysis zone|\n",
    "|destination|Destination transportation analysis zone|\n",
    "|drive alone|Door-to-door time for the drive alone travel mode (i.e. single occupant private automobile)|\n",
    "|shared ride (2 people)|Door-to-door time for the shared ride 2 travel mode (i.e. double occupant private automobile)|\n",
    "|shared ride (3 people)|Door-to-door time for the shared ride 3+ travel mode (i.e. three-or-more occupants traveling in a private vehicle)|\n",
    "|walk|Door-to-door time for walking|\n",
    "|bike|Door-to-door time for bicycling|\n",
    "|walk-transit-walk|Door-to-door time for walk to transit to walk paths|\n",
    "|drive-transit-walk|Door-to-door time for drive to transit to walk paths|\n",
    "| walk-transit-drive|Door-to-door time for walk to transit to drive paths (returning home on a park-and-ride tour)|\n",
    "\n",
    "\n",
    "(The raw data with all Bay Area TAZs can be found at https://mtcdrive.app.box.com/2015-03-116)\n",
    "\n",
    "\n",
    "**6.1:** what is the drive alone travel time from origin TAZ 10 (in downtown SF) to destination TAZ \n",
    "1019 (the TAZ at UC Berkeley) according to this dataset?"
   ]
  },
  {
   "cell_type": "code",
   "execution_count": 36,
   "metadata": {},
   "outputs": [],
   "source": [
    "# Your analysis here:\n"
   ]
  },
  {
   "cell_type": "code",
   "execution_count": 37,
   "metadata": {
    "collapsed": true
   },
   "outputs": [],
   "source": [
    "# Your final answer here:\n",
    "\n",
    "q15 = ..."
   ]
  },
  {
   "cell_type": "markdown",
   "metadata": {},
   "source": [
    "**6.2:** what is the worst mode of travel (least travel time) for the above mentioned origin-destination according to the data? \n",
    "\n",
    "**note: if you get the travel time of -999, that means that mode is not available, simply disregard those**\n",
    "\n",
    "**Please just enter the name of the travel model as a string below**"
   ]
  },
  {
   "cell_type": "code",
   "execution_count": 38,
   "metadata": {},
   "outputs": [],
   "source": [
    "# Your analysis here:\n"
   ]
  },
  {
   "cell_type": "code",
   "execution_count": 39,
   "metadata": {
    "collapsed": true
   },
   "outputs": [],
   "source": [
    "# Your final answer here:\n",
    "\n",
    "q16 = ..."
   ]
  },
  {
   "cell_type": "markdown",
   "metadata": {},
   "source": [
    "**6.3** Among the first 100 destinations, which one is the closet to origin 10 only consideting the travel model, biking\n",
    "\n",
    "**note: exclude those destinations where biking is not available (travel time is -999)**"
   ]
  },
  {
   "cell_type": "code",
   "execution_count": 40,
   "metadata": {},
   "outputs": [],
   "source": [
    "# Your analysis here:\n"
   ]
  },
  {
   "cell_type": "code",
   "execution_count": 41,
   "metadata": {
    "collapsed": true
   },
   "outputs": [],
   "source": [
    "# Your final answer here:\n",
    "\n",
    "q17 = ..."
   ]
  },
  {
   "cell_type": "markdown",
   "metadata": {},
   "source": [
    "#### Bonus question\n",
    "\n",
    "###### Conditional independence\n",
    "\n",
    "The notation $X \\perp Y$ indicates that random variables $X$ and $Y$ are independent. Similarly, $X \\perp Y \\mid Z$ means that $X$ and $Y$ are conditionally independent given $Z$, that is $p(x \\perp y \\mid z) = p(x \\mid z)p(y \\mid z)$.\n",
    "\n",
    "Is the following statements about conditional independence true or false? **If it is true answer with number 1, if false answer with number 0.**\n",
    "\n",
    "- $(X \\perp (Y,W) \\mid Z)$ implies $X \\perp Y \\mid Z$"
   ]
  },
  {
   "cell_type": "code",
   "execution_count": 42,
   "metadata": {
    "collapsed": true
   },
   "outputs": [],
   "source": [
    "# Your answer here:\n",
    "\n",
    "q18 = ..."
   ]
  },
  {
   "cell_type": "markdown",
   "metadata": {},
   "source": [
    "- $(X \\perp Y \\mid Z)$ and $((X,Y) \\perp W \\mid Z)$ implies $X \\perp W \\mid Z$\n"
   ]
  },
  {
   "cell_type": "code",
   "execution_count": 43,
   "metadata": {
    "collapsed": true
   },
   "outputs": [],
   "source": [
    "# Your answer here:\n",
    "\n",
    "q19 = ..."
   ]
  },
  {
   "cell_type": "markdown",
   "metadata": {},
   "source": [
    "- $(X \\perp (Y,W) \\mid Z)$ and $(Y \\perp W \\mid Z)$ implies $(X,W) \\perp Y \\mid Z$"
   ]
  },
  {
   "cell_type": "code",
   "execution_count": 44,
   "metadata": {
    "collapsed": true
   },
   "outputs": [],
   "source": [
    "# Your answer here:\n",
    "\n",
    "q20 = ..."
   ]
  },
  {
   "cell_type": "markdown",
   "metadata": {},
   "source": [
    "--------------------------------------------------------------------------\n",
    "\n",
    "# Load OKpy"
   ]
  },
  {
   "cell_type": "code",
   "execution_count": null,
   "metadata": {
    "collapsed": true
   },
   "outputs": [],
   "source": [
    "from client.api.notebook import Notebook\n",
    "ok = Notebook('HW1.ok')\n",
    "_ = ok.auth(inline=True)"
   ]
  },
  {
   "cell_type": "markdown",
   "metadata": {},
   "source": [
    "# Submit to OKpy"
   ]
  },
  {
   "cell_type": "code",
   "execution_count": null,
   "metadata": {
    "collapsed": true
   },
   "outputs": [],
   "source": [
    "_ = ok.submit()"
   ]
  }
 ],
 "metadata": {
  "kernelspec": {
   "display_name": "Python 3",
   "language": "python",
   "name": "python3"
  },
  "language_info": {
   "codemirror_mode": {
    "name": "ipython",
    "version": 3
   },
   "file_extension": ".py",
   "mimetype": "text/x-python",
   "name": "python",
   "nbconvert_exporter": "python",
   "pygments_lexer": "ipython3",
   "version": "3.6.1"
  },
  "varInspector": {
   "cols": {
    "lenName": 16,
    "lenType": 16,
    "lenVar": 40
   },
   "kernels_config": {
    "python": {
     "delete_cmd_postfix": "",
     "delete_cmd_prefix": "del ",
     "library": "var_list.py",
     "varRefreshCmd": "print(var_dic_list())"
    },
    "r": {
     "delete_cmd_postfix": ") ",
     "delete_cmd_prefix": "rm(",
     "library": "var_list.r",
     "varRefreshCmd": "cat(var_dic_list()) "
    }
   },
   "types_to_exclude": [
    "module",
    "function",
    "builtin_function_or_method",
    "instance",
    "_Feature"
   ],
   "window_display": false
  }
 },
 "nbformat": 4,
 "nbformat_minor": 2
}
