{
 "cells": [
  {
   "cell_type": "code",
   "execution_count": 47,
   "metadata": {},
   "outputs": [],
   "source": [
    "from datascience import *\n",
    "import numpy as np"
   ]
  },
  {
   "cell_type": "code",
   "execution_count": 48,
   "metadata": {},
   "outputs": [],
   "source": [
    "#Import Tables\n",
    "Init_table = Table.read_table('house_vote.csv')\n",
    "table_train = Table.read_table('house_train.csv')\n",
    "table_test = Table.read_table('house_test_without_label.csv')"
   ]
  },
  {
   "attachments": {
    "f936a04ed9ff39ee17b12b68d8782b78016efe44.png": {
     "image/png": "[encoded data removed]"
    }
   },
   "cell_type": "markdown",
   "metadata": {},
   "source": [
    "![f936a04ed9ff39ee17b12b68d8782b78016efe44.png](attachment:f936a04ed9ff39ee17b12b68d8782b78016efe44.png)"
   ]
  },
  {
   "cell_type": "markdown",
   "metadata": {},
   "source": [
    "In the lab example y represents whether someone is a republican or democrat and x_i represents their vote for some proposal i"
   ]
  },
  {
   "cell_type": "markdown",
   "metadata": {},
   "source": [
    "## Calculate The Prior \n",
    "$P(Y)$\n",
    "\n",
    "The prior in this example will be the probability that someone is a Republican or Democrat. This probability is equal to the proportion of each category, i.e probability of someone being a democrat is (# of democrats) / (# of congresspeople) "
   ]
  },
  {
   "cell_type": "code",
   "execution_count": 49,
   "metadata": {},
   "outputs": [
    {
     "data": {
      "text/plain": [
       "[0.3834355828220859, 0.6165644171779141]"
      ]
     },
     "execution_count": 49,
     "metadata": {},
     "output_type": "execute_result"
    }
   ],
   "source": [
    "rep_table = table_train.where('V1','republican')\n",
    "num_rep = rep_table.num_rows\n",
    "dem_table = table_train.where('V1','democrat')\n",
    "num_dem = dem_table.num_rows\n",
    "Y = [(num_rep / table_train.num_rows), (num_dem / table_train.num_rows)]\n",
    "Y"
   ]
  },
  {
   "cell_type": "markdown",
   "metadata": {},
   "source": [
    "## Calculate the conditional likelihood \n",
    "$p(X_i \\mid Y)$\n",
    "\n",
    "Example: The conditional likelihood that someone 'Yes' on vote 1 given they are Republican equals (# Republicans that voted 'Yes' on vote 1) / (# total Republicans)"
   ]
  },
  {
   "cell_type": "code",
   "execution_count": 50,
   "metadata": {},
   "outputs": [
    {
     "data": {
      "text/plain": [
       "array([[ 0.16935484,  0.83064516],\n",
       "       [ 0.53271028,  0.46728972],\n",
       "       [ 0.1147541 ,  0.8852459 ],\n",
       "       [ 0.98373984,  0.01626016],\n",
       "       [ 0.95934959,  0.04065041],\n",
       "       [ 0.87804878,  0.12195122],\n",
       "       [ 0.24793388,  0.75206612],\n",
       "       [ 0.13675214,  0.86324786],\n",
       "       [ 0.09756098,  0.90243902],\n",
       "       [ 0.55284553,  0.44715447],\n",
       "       [ 0.09166667,  0.90833333],\n",
       "       [ 0.88695652,  0.11304348],\n",
       "       [ 0.8559322 ,  0.1440678 ],\n",
       "       [ 0.99159664,  0.00840336],\n",
       "       [ 0.09565217,  0.90434783],\n",
       "       [ 0.63551402,  0.36448598]])"
      ]
     },
     "execution_count": 50,
     "metadata": {},
     "output_type": "execute_result"
    }
   ],
   "source": [
    "#First create the matrix in which we will put in the values\n",
    "X_rep = np.zeros(((table_train.num_columns-2),2))\n",
    "X_dem = np.zeros(((table_train.num_columns-2),2))\n",
    "\n",
    "#Each row will correspond with proposal\n",
    "#Each column will correspond to the vote\n",
    "    #Ex. The third row and second column of X_rep contains the probability that vote='No' for vote 3 given Republican\n",
    "for i in range(1,(len(X_rep) + 1)): #For every vote\n",
    "    X_rep[(i-1),0] = (sum(rep_table[i+1] == 'y')) / (rep_table.num_rows) #(#of Republicans that voted yes) / (#Republicans) \n",
    "    X_rep[(i-1),1] = (sum(rep_table[i+1] == 'n')) / (rep_table.num_rows) #(#of Republicans that voted no) / (#Republicans)\n",
    "    X_rep[(i-1),] = X_rep[(i-1),] / sum(X_rep[(i-1),])\n",
    "    X_dem[(i-1),0] = (sum(dem_table[i+1] == 'y')) / (dem_table.num_rows) #(#of Democrats that voted yes) / (#Democrats)\n",
    "    X_dem[(i-1),1] = (sum(dem_table[i+1] == 'n')) / (dem_table.num_rows) #(#of Democrats that voted no) / (#Democrats)\n",
    "    X_dem[(i-1),] = X_dem[(i-1),] / sum(X_dem[(i-1),])\n",
    "X_rep\n"
   ]
  },
  {
   "cell_type": "markdown",
   "metadata": {},
   "source": [
    "## First testing on training data"
   ]
  },
  {
   "cell_type": "code",
   "execution_count": 51,
   "metadata": {},
   "outputs": [
    {
     "data": {
      "text/plain": [
       "array([[  1.,   0.,   1., ...,   0.,   1.,   0.],\n",
       "       [  1.,   0.,   1., ...,   0.,   1.,  nan],\n",
       "       [ nan,   0.,   0., ...,   0.,   1.,   1.],\n",
       "       ..., \n",
       "       [  0.,   0.,   0., ...,   0.,   1.,  nan],\n",
       "       [  1.,   0.,   1., ...,   0.,   1.,   1.],\n",
       "       [  0.,   0.,   0., ...,   0.,   0.,   0.]])"
      ]
     },
     "execution_count": 51,
     "metadata": {},
     "output_type": "execute_result"
    }
   ],
   "source": [
    "#Turn the the training table into a matrix\n",
    "X_train = np.empty((table_train.num_rows,16))\n",
    "for i in range(1,table_train.num_rows):\n",
    "    x = np.asarray(table_train.rows[(i-1)][2:18])\n",
    "    x[x == 'y'] = 0; x[x == 'n'] = 1\n",
    "    X_train[(i-1),] = x.astype(np.float)\n",
    "X_train"
   ]
  },
  {
   "cell_type": "markdown",
   "metadata": {},
   "source": [
    "## Calculating the posterior of class given data for train set\n",
    "$p(Y \\mid X_1, X_2, ...)$\n",
    "\n",
    "Remember that we are using NAIVE  Bayes' Theorem"
   ]
  },
  {
   "cell_type": "code",
   "execution_count": 72,
   "metadata": {
    "scrolled": true
   },
   "outputs": [
    {
     "data": {
      "text/plain": [
       "array([[  1.,   0.,   1., ...,   0.,   1.,   0.],\n",
       "       [  1.,   0.,   1., ...,   0.,   1.,  nan],\n",
       "       [ nan,   0.,   0., ...,   0.,   1.,   1.],\n",
       "       ..., \n",
       "       [  0.,   0.,   0., ...,   0.,   1.,  nan],\n",
       "       [  1.,   0.,   1., ...,   0.,   1.,   1.],\n",
       "       [  0.,   0.,   0., ...,   0.,   0.,   0.]])"
      ]
     },
     "execution_count": 72,
     "metadata": {},
     "output_type": "execute_result"
    }
   ],
   "source": [
    "Y_train = np.zeros((len(X_train),2))\n",
    "\n",
    "for i in range(1,len(Y_train)): #For every Congressperson\n",
    "    x = X_train[(i-1),] #Pick a Congressperson\n",
    "    y_rep = 1 #Start at 1\n",
    "    y_dem = 1 #Start at 1\n",
    "    for j in range(1,len(x)): #For every vote\n",
    "        if ~np.isnan(x[(j-1)]): #Ignore the Nan values\n",
    "            y_rep *= X_rep[(j-1),x[(j-1)].astype(np.int)] #Multiplying P(vote_j | Republican)\n",
    "            y_dem *= X_dem[(j-1),x[(j-1)].astype(np.int)] #Calculating P(vote_j | Democrat)\n",
    "    Y_train[(i-1),0] =  y_rep * Y[0] #Multiply by Prior \n",
    "    Y_train[(i-1),1] =  y_dem * Y[1] #Multiply by Prior\n",
    "    Y_train[(i-1),] = Y_train[(i-1),] / sum(Y_train[(i-1),]) #Optional but nice step which smooths the values by their porportion of each other so that their sum equals 1       \n",
    "X_train\n"
   ]
  },
  {
   "cell_type": "markdown",
   "metadata": {},
   "source": [
    "## Making predictions "
   ]
  },
  {
   "cell_type": "markdown",
   "metadata": {},
   "source": [
    "Now that we have the probability of someone being a Democrat / Republican, we will predict their party using whichever one is higher. Ex. If the probability of someone being a Democrat is 5% and the probability of them being a Republican is 1%, we will predict Democrat"
   ]
  },
  {
   "cell_type": "code",
   "execution_count": 53,
   "metadata": {},
   "outputs": [
    {
     "data": {
      "text/plain": [
       "array([0, 0, 0, 1, 1, 1, 0, 0, 0, 1, 0, 0, 1, 1, 0, 0, 1, 1, 0, 1, 1, 1, 1,\n",
       "       1, 1, 1, 1, 1, 0, 1, 0, 1, 1, 0, 1, 0, 0, 0, 0, 1, 1, 1, 1, 1, 1, 1,\n",
       "       1, 1, 1, 0, 1, 0, 1, 0, 1, 0, 0, 0, 0, 0, 1, 0, 1, 1, 1, 0, 0, 0, 1,\n",
       "       1, 1, 1, 1, 1, 1, 0, 0, 0, 1, 0, 1, 1, 0, 0, 0, 0, 0, 0, 1, 0, 1, 1,\n",
       "       1, 1, 1, 1, 0, 1, 1, 0, 0, 1, 1, 1, 1, 1, 0, 0, 1, 1, 1, 0, 1, 0, 1,\n",
       "       1, 1, 0, 1, 0, 0, 0, 0, 0, 1, 0, 0, 1, 1, 1, 1, 1, 0, 0, 0, 0, 0, 1,\n",
       "       1, 1, 1, 0, 0, 1, 1, 1, 0, 1, 0, 1, 0, 0, 1, 1, 0, 0, 0, 1, 0, 1, 0,\n",
       "       0, 0, 0, 0, 1, 0, 1, 0, 1, 1, 0, 1, 0, 1, 1, 1, 1, 1, 1, 1, 1, 1, 1,\n",
       "       1, 1, 1, 1, 0, 1, 0, 0, 1, 1, 1, 0, 1, 0, 1, 1, 1, 1, 1, 1, 0, 1, 0,\n",
       "       0, 1, 1, 1, 0, 1, 1, 0, 0, 1, 0, 1, 1, 1, 1, 1, 0, 0, 0, 1, 1, 0, 0,\n",
       "       0, 0, 1, 0, 1, 0, 1, 1, 1, 0, 0, 1, 0, 1, 1, 1, 1, 0, 1, 1, 0, 0, 1,\n",
       "       0, 1, 1, 0, 0, 1, 1, 1, 1, 1, 1, 1, 1, 0, 1, 1, 1, 1, 1, 1, 0, 0, 0,\n",
       "       0, 0, 0, 0, 1, 1, 0, 0, 1, 1, 1, 1, 1, 1, 1, 1, 1, 1, 1, 0, 0, 1, 1,\n",
       "       1, 0, 1, 0, 0, 0, 0, 0, 1, 0, 1, 0, 1, 1, 0, 0, 0, 1, 1, 1, 1, 1, 1,\n",
       "       1, 1, 0, 0])"
      ]
     },
     "execution_count": 53,
     "metadata": {},
     "output_type": "execute_result"
    }
   ],
   "source": [
    "Labels = np.argmax(Y_train,axis = 1)\n",
    "Labels"
   ]
  },
  {
   "cell_type": "code",
   "execution_count": 54,
   "metadata": {},
   "outputs": [
    {
     "data": {
      "text/html": [
       "<table border=\"1\" class=\"dataframe\">\n",
       "    <thead>\n",
       "        <tr>\n",
       "            <th>Unnamed: 0</th> <th>V1</th> <th>V2</th> <th>V3</th> <th>V4</th> <th>V5</th> <th>V6</th> <th>V7</th> <th>V8</th> <th>V9</th> <th>V10</th> <th>V11</th> <th>V12</th> <th>V13</th> <th>V14</th> <th>V15</th> <th>V16</th> <th>V17</th> <th>Prediction</th>\n",
       "        </tr>\n",
       "    </thead>\n",
       "    <tbody>\n",
       "        <tr>\n",
       "            <td>1         </td> <td>republican</td> <td>n   </td> <td>y   </td> <td>n   </td> <td>y   </td> <td>y   </td> <td>y   </td> <td>n   </td> <td>n   </td> <td>n   </td> <td>y   </td> <td>nan </td> <td>y   </td> <td>y   </td> <td>y   </td> <td>n   </td> <td>y   </td> <td>0         </td>\n",
       "        </tr>\n",
       "    </tbody>\n",
       "        <tr>\n",
       "            <td>2         </td> <td>republican</td> <td>n   </td> <td>y   </td> <td>n   </td> <td>y   </td> <td>y   </td> <td>y   </td> <td>n   </td> <td>n   </td> <td>n   </td> <td>n   </td> <td>n   </td> <td>y   </td> <td>y   </td> <td>y   </td> <td>n   </td> <td>nan </td> <td>0         </td>\n",
       "        </tr>\n",
       "    </tbody>\n",
       "        <tr>\n",
       "            <td>3         </td> <td>democrat  </td> <td>nan </td> <td>y   </td> <td>y   </td> <td>nan </td> <td>y   </td> <td>y   </td> <td>n   </td> <td>n   </td> <td>n   </td> <td>n   </td> <td>y   </td> <td>n   </td> <td>y   </td> <td>y   </td> <td>n   </td> <td>n   </td> <td>0         </td>\n",
       "        </tr>\n",
       "    </tbody>\n",
       "        <tr>\n",
       "            <td>4         </td> <td>democrat  </td> <td>n   </td> <td>y   </td> <td>y   </td> <td>n   </td> <td>nan </td> <td>y   </td> <td>n   </td> <td>n   </td> <td>n   </td> <td>n   </td> <td>y   </td> <td>n   </td> <td>y   </td> <td>n   </td> <td>n   </td> <td>y   </td> <td>1         </td>\n",
       "        </tr>\n",
       "    </tbody>\n",
       "        <tr>\n",
       "            <td>5         </td> <td>democrat  </td> <td>y   </td> <td>y   </td> <td>y   </td> <td>n   </td> <td>y   </td> <td>y   </td> <td>n   </td> <td>n   </td> <td>n   </td> <td>n   </td> <td>y   </td> <td>nan </td> <td>y   </td> <td>y   </td> <td>y   </td> <td>y   </td> <td>1         </td>\n",
       "        </tr>\n",
       "    </tbody>\n",
       "        <tr>\n",
       "            <td>6         </td> <td>democrat  </td> <td>n   </td> <td>y   </td> <td>y   </td> <td>n   </td> <td>y   </td> <td>y   </td> <td>n   </td> <td>n   </td> <td>n   </td> <td>n   </td> <td>n   </td> <td>n   </td> <td>y   </td> <td>y   </td> <td>y   </td> <td>y   </td> <td>1         </td>\n",
       "        </tr>\n",
       "    </tbody>\n",
       "        <tr>\n",
       "            <td>7         </td> <td>democrat  </td> <td>n   </td> <td>y   </td> <td>n   </td> <td>y   </td> <td>y   </td> <td>y   </td> <td>n   </td> <td>n   </td> <td>n   </td> <td>n   </td> <td>n   </td> <td>n   </td> <td>nan </td> <td>y   </td> <td>y   </td> <td>y   </td> <td>0         </td>\n",
       "        </tr>\n",
       "    </tbody>\n",
       "        <tr>\n",
       "            <td>8         </td> <td>republican</td> <td>n   </td> <td>y   </td> <td>n   </td> <td>y   </td> <td>y   </td> <td>y   </td> <td>n   </td> <td>n   </td> <td>n   </td> <td>n   </td> <td>n   </td> <td>n   </td> <td>y   </td> <td>y   </td> <td>nan </td> <td>y   </td> <td>0         </td>\n",
       "        </tr>\n",
       "    </tbody>\n",
       "        <tr>\n",
       "            <td>9         </td> <td>republican</td> <td>n   </td> <td>y   </td> <td>n   </td> <td>y   </td> <td>y   </td> <td>y   </td> <td>n   </td> <td>n   </td> <td>n   </td> <td>n   </td> <td>n   </td> <td>y   </td> <td>y   </td> <td>y   </td> <td>n   </td> <td>y   </td> <td>0         </td>\n",
       "        </tr>\n",
       "    </tbody>\n",
       "        <tr>\n",
       "            <td>10        </td> <td>democrat  </td> <td>y   </td> <td>y   </td> <td>y   </td> <td>n   </td> <td>n   </td> <td>n   </td> <td>y   </td> <td>y   </td> <td>y   </td> <td>n   </td> <td>n   </td> <td>n   </td> <td>n   </td> <td>n   </td> <td>nan </td> <td>nan </td> <td>1         </td>\n",
       "        </tr>\n",
       "    </tbody>\n",
       "</table>\n",
       "<p>... (316 rows omitted)</p"
      ],
      "text/plain": [
       "Unnamed: 0 | V1         | V2   | V3   | V4   | V5   | V6   | V7   | V8   | V9   | V10  | V11  | V12  | V13  | V14  | V15  | V16  | V17  | Prediction\n",
       "1          | republican | n    | y    | n    | y    | y    | y    | n    | n    | n    | y    | nan  | y    | y    | y    | n    | y    | 0\n",
       "2          | republican | n    | y    | n    | y    | y    | y    | n    | n    | n    | n    | n    | y    | y    | y    | n    | nan  | 0\n",
       "3          | democrat   | nan  | y    | y    | nan  | y    | y    | n    | n    | n    | n    | y    | n    | y    | y    | n    | n    | 0\n",
       "4          | democrat   | n    | y    | y    | n    | nan  | y    | n    | n    | n    | n    | y    | n    | y    | n    | n    | y    | 1\n",
       "5          | democrat   | y    | y    | y    | n    | y    | y    | n    | n    | n    | n    | y    | nan  | y    | y    | y    | y    | 1\n",
       "6          | democrat   | n    | y    | y    | n    | y    | y    | n    | n    | n    | n    | n    | n    | y    | y    | y    | y    | 1\n",
       "7          | democrat   | n    | y    | n    | y    | y    | y    | n    | n    | n    | n    | n    | n    | nan  | y    | y    | y    | 0\n",
       "8          | republican | n    | y    | n    | y    | y    | y    | n    | n    | n    | n    | n    | n    | y    | y    | nan  | y    | 0\n",
       "9          | republican | n    | y    | n    | y    | y    | y    | n    | n    | n    | n    | n    | y    | y    | y    | n    | y    | 0\n",
       "10         | democrat   | y    | y    | y    | n    | n    | n    | y    | y    | y    | n    | n    | n    | n    | n    | nan  | nan  | 1\n",
       "... (316 rows omitted)"
      ]
     },
     "execution_count": 54,
     "metadata": {},
     "output_type": "execute_result"
    }
   ],
   "source": [
    "table_train.with_column('Prediction', Labels)"
   ]
  },
  {
   "cell_type": "code",
   "execution_count": 55,
   "metadata": {},
   "outputs": [
    {
     "data": {
      "text/plain": [
       "0.92024539877300615"
      ]
     },
     "execution_count": 55,
     "metadata": {},
     "output_type": "execute_result"
    }
   ],
   "source": [
    "Truth = table_train.columns[1]\n",
    "Truth[Truth == 'democrat'] = 1 #Change all democrats to be 1\n",
    "Truth[Truth == 'republican'] = 0 #Change all republicans to be 0\n",
    "Truth = Truth.astype(np.int)\n",
    "sum(Labels == Truth) / len(Labels) # Number of matches / size of data"
   ]
  },
  {
   "cell_type": "markdown",
   "metadata": {},
   "source": [
    "# Test Data"
   ]
  },
  {
   "cell_type": "code",
   "execution_count": 56,
   "metadata": {},
   "outputs": [
    {
     "data": {
      "text/plain": [
       "array([[  0.,   0.,   1., ...,   0.,   1.,   0.],\n",
       "       [  1.,   0.,   1., ...,   0.,   1.,   0.],\n",
       "       [  0.,   0.,   0., ...,   1.,   1.,   0.],\n",
       "       ..., \n",
       "       [  1.,  nan,   1., ...,   0.,   1.,   0.],\n",
       "       [  1.,   1.,   1., ...,   0.,   1.,   0.],\n",
       "       [  0.,   0.,   0., ...,   0.,   0.,   0.]])"
      ]
     },
     "execution_count": 56,
     "metadata": {},
     "output_type": "execute_result"
    }
   ],
   "source": [
    "#Put data into Matrix form \n",
    "X_test = np.empty((table_test.num_rows,16))\n",
    "for i in range(1,table_test.num_rows):\n",
    "    x = np.asarray(table_test.rows[(i-1)][1:17])\n",
    "    x[x == 'y'] = 0; x[x == 'n'] = 1\n",
    "    X_test[(i-1),] = x.astype(np.float)\n",
    "X_test"
   ]
  },
  {
   "cell_type": "code",
   "execution_count": 57,
   "metadata": {
    "scrolled": true
   },
   "outputs": [
    {
     "data": {
      "text/plain": [
       "array([[  1.36983070e-04,   9.99863017e-01],\n",
       "       [  9.99999993e-01,   7.47601131e-09],\n",
       "       [  4.29895177e-12,   1.00000000e+00],\n",
       "       [  2.09079122e-11,   1.00000000e+00],\n",
       "       [  9.99999995e-01,   5.35571400e-09],\n",
       "       [  1.57427973e-12,   1.00000000e+00],\n",
       "       [  1.57988757e-13,   1.00000000e+00],\n",
       "       [  9.96824052e-12,   1.00000000e+00],\n",
       "       [  7.20409382e-09,   9.99999993e-01],\n",
       "       [  9.99999937e-01,   6.31759294e-08],\n",
       "       [  6.74050294e-07,   9.99999326e-01],\n",
       "       [  1.33753588e-12,   1.00000000e+00],\n",
       "       [  4.04987038e-10,   1.00000000e+00],\n",
       "       [  9.99999343e-01,   6.57229459e-07],\n",
       "       [  9.99998977e-01,   1.02298272e-06],\n",
       "       [  4.29517136e-07,   9.99999570e-01],\n",
       "       [  2.65989337e-05,   9.99973401e-01],\n",
       "       [  9.71261105e-01,   2.87388946e-02],\n",
       "       [  1.64358369e-12,   1.00000000e+00],\n",
       "       [  9.99972264e-01,   2.77364354e-05],\n",
       "       [  9.99999993e-01,   7.46229482e-09],\n",
       "       [  9.99999944e-01,   5.56141686e-08],\n",
       "       [  1.03818465e-10,   1.00000000e+00],\n",
       "       [  9.90809236e-01,   9.19076423e-03],\n",
       "       [  4.18417915e-08,   9.99999958e-01],\n",
       "       [  8.46869444e-01,   1.53130556e-01],\n",
       "       [  3.71323233e-05,   9.99962868e-01],\n",
       "       [  9.99943355e-01,   5.66450712e-05],\n",
       "       [  1.42998488e-09,   9.99999999e-01],\n",
       "       [  9.16782844e-06,   9.99990832e-01],\n",
       "       [  9.99999990e-01,   1.04165757e-08],\n",
       "       [  9.99999990e-01,   1.04165757e-08],\n",
       "       [  1.11507291e-05,   9.99988849e-01],\n",
       "       [  9.99999987e-01,   1.25693782e-08],\n",
       "       [  5.61736499e-09,   9.99999994e-01],\n",
       "       [  4.73265866e-03,   9.95267341e-01],\n",
       "       [  5.14073217e-08,   9.99999949e-01],\n",
       "       [  9.95940777e-01,   4.05922305e-03],\n",
       "       [  9.99973772e-01,   2.62281390e-05],\n",
       "       [  9.95167776e-01,   4.83222362e-03],\n",
       "       [  1.69597746e-10,   1.00000000e+00],\n",
       "       [  1.27856553e-08,   9.99999987e-01],\n",
       "       [  7.26377281e-09,   9.99999993e-01],\n",
       "       [  9.99999584e-01,   4.15706065e-07],\n",
       "       [  9.10102406e-08,   9.99999909e-01],\n",
       "       [  5.27796374e-11,   1.00000000e+00],\n",
       "       [  9.99984604e-01,   1.53960224e-05],\n",
       "       [  8.92531487e-01,   1.07468513e-01],\n",
       "       [  9.99999993e-01,   7.47601131e-09],\n",
       "       [  9.99998975e-01,   1.02486307e-06],\n",
       "       [  1.85952767e-13,   1.00000000e+00],\n",
       "       [  9.99985353e-01,   1.46465138e-05],\n",
       "       [  9.99999990e-01,   1.04165757e-08],\n",
       "       [  9.99999990e-01,   1.04165757e-08],\n",
       "       [  1.08726567e-10,   1.00000000e+00],\n",
       "       [  2.22707538e-05,   9.99977729e-01],\n",
       "       [  9.99973772e-01,   2.62281390e-05],\n",
       "       [  7.45308744e-08,   9.99999925e-01],\n",
       "       [  9.99964018e-01,   3.59823787e-05],\n",
       "       [  9.82568137e-01,   1.74318633e-02],\n",
       "       [  1.32364763e-05,   9.99986764e-01],\n",
       "       [  1.15814184e-05,   9.99988419e-01],\n",
       "       [  9.99999430e-01,   5.70312542e-07],\n",
       "       [  1.87366831e-13,   1.00000000e+00],\n",
       "       [  9.10631979e-01,   8.93680205e-02],\n",
       "       [  1.97385965e-10,   1.00000000e+00],\n",
       "       [  9.99999528e-01,   4.71695872e-07],\n",
       "       [  5.17530595e-03,   9.94824694e-01],\n",
       "       [  9.34905912e-02,   9.06509409e-01],\n",
       "       [  4.70982092e-08,   9.99999953e-01],\n",
       "       [  1.74332592e-06,   9.99998257e-01],\n",
       "       [  9.06646946e-01,   9.33530543e-02],\n",
       "       [  1.32641172e-04,   9.99867359e-01],\n",
       "       [  9.99999971e-01,   2.93168345e-08],\n",
       "       [  9.99998367e-01,   1.63268105e-06],\n",
       "       [  9.99999955e-01,   4.53415769e-08],\n",
       "       [  2.78966290e-02,   9.72103371e-01],\n",
       "       [  9.99999983e-01,   1.70781240e-08],\n",
       "       [  9.99999960e-01,   3.99144757e-08],\n",
       "       [  9.99999990e-01,   1.04165757e-08],\n",
       "       [  5.29343239e-02,   9.47065676e-01],\n",
       "       [  9.99999912e-01,   8.81869256e-08],\n",
       "       [  7.79426690e-07,   9.99999221e-01],\n",
       "       [  9.99999990e-01,   1.04165757e-08],\n",
       "       [  9.99999912e-01,   8.81869256e-08],\n",
       "       [  4.09766366e-11,   1.00000000e+00],\n",
       "       [  9.99999993e-01,   7.46229482e-09],\n",
       "       [  9.53786901e-01,   4.62130991e-02],\n",
       "       [  3.63950092e-11,   1.00000000e+00],\n",
       "       [  2.99003285e-08,   9.99999970e-01],\n",
       "       [  9.99997781e-01,   2.21945360e-06],\n",
       "       [  9.71700046e-11,   1.00000000e+00],\n",
       "       [  2.00057281e-09,   9.99999998e-01],\n",
       "       [  3.63950092e-11,   1.00000000e+00],\n",
       "       [  9.34638449e-01,   6.53615505e-02],\n",
       "       [  1.10535069e-06,   9.99998895e-01],\n",
       "       [  1.12025125e-11,   1.00000000e+00],\n",
       "       [  3.38573974e-09,   9.99999997e-01],\n",
       "       [  1.17740657e-08,   9.99999988e-01],\n",
       "       [  6.47219776e-11,   1.00000000e+00],\n",
       "       [  1.86705889e-12,   1.00000000e+00],\n",
       "       [  9.99996918e-01,   3.08219080e-06],\n",
       "       [  1.00284498e-09,   9.99999999e-01],\n",
       "       [  1.62340754e-07,   9.99999838e-01],\n",
       "       [  9.99977584e-01,   2.24163988e-05],\n",
       "       [  2.71739296e-10,   1.00000000e+00],\n",
       "       [  9.99999925e-01,   7.49251714e-08],\n",
       "       [  9.99999134e-01,   8.66037794e-07],\n",
       "       [  0.00000000e+00,   0.00000000e+00]])"
      ]
     },
     "execution_count": 57,
     "metadata": {},
     "output_type": "execute_result"
    }
   ],
   "source": [
    "#Loading test data into matrix\n",
    "Y_test = np.zeros((len(X_test),2))\n",
    "\n",
    "for i in range(1,len(Y_test)):\n",
    "    x = X_test[(i-1),]\n",
    "    y_rep = 1\n",
    "    y_dem = 1\n",
    "    for j in range(1,len(x)):\n",
    "        if ~np.isnan(x[(j-1)]):\n",
    "            y_rep = y_rep * X_rep[(j-1),x[(j-1)].astype(np.int)]\n",
    "            y_dem = y_dem * X_dem[(j-1),x[(j-1)].astype(np.int)]\n",
    "    Y_test[(i-1),0] =  y_rep * Y[0]\n",
    "    Y_test[(i-1),1] =  y_dem * Y[1]\n",
    "    Y_test[(i-1),] = Y_test[(i-1),] / sum(Y_test[(i-1),])\n",
    "Y_test"
   ]
  },
  {
   "cell_type": "markdown",
   "metadata": {},
   "source": [
    "# Prediction"
   ]
  },
  {
   "cell_type": "code",
   "execution_count": 58,
   "metadata": {},
   "outputs": [
    {
     "data": {
      "text/plain": [
       "array([1, 0, 1, 1, 0, 1, 1, 1, 1, 0, 1, 1, 1, 0, 0, 1, 1, 0, 1, 0, 0, 0, 1,\n",
       "       0, 1, 0, 1, 0, 1, 1, 0, 0, 1, 0, 1, 1, 1, 0, 0, 0, 1, 1, 1, 0, 1, 1,\n",
       "       0, 0, 0, 0, 1, 0, 0, 0, 1, 1, 0, 1, 0, 0, 1, 1, 0, 1, 0, 1, 0, 1, 1,\n",
       "       1, 1, 0, 1, 0, 0, 0, 1, 0, 0, 0, 1, 0, 1, 0, 0, 1, 0, 0, 1, 1, 0, 1,\n",
       "       1, 1, 0, 1, 1, 1, 1, 1, 1, 0, 1, 1, 0, 1, 0, 0, 0])"
      ]
     },
     "execution_count": 58,
     "metadata": {},
     "output_type": "execute_result"
    }
   ],
   "source": [
    "Labels = np.argmax(Y_test,axis = 1)\n",
    "Labels"
   ]
  },
  {
   "cell_type": "code",
   "execution_count": 59,
   "metadata": {},
   "outputs": [
    {
     "data": {
      "text/html": [
       "<table border=\"1\" class=\"dataframe\">\n",
       "    <thead>\n",
       "        <tr>\n",
       "            <th>Unnamed: 0</th> <th>V2</th> <th>V3</th> <th>V4</th> <th>V5</th> <th>V6</th> <th>V7</th> <th>V8</th> <th>V9</th> <th>V10</th> <th>V11</th> <th>V12</th> <th>V13</th> <th>V14</th> <th>V15</th> <th>V16</th> <th>V17</th> <th>Prediction</th>\n",
       "        </tr>\n",
       "    </thead>\n",
       "    <tbody>\n",
       "        <tr>\n",
       "            <td>327       </td> <td>y   </td> <td>y   </td> <td>n   </td> <td>y   </td> <td>n   </td> <td>n   </td> <td>y   </td> <td>y   </td> <td>y   </td> <td>n   </td> <td>y   </td> <td>n   </td> <td>n   </td> <td>y   </td> <td>n   </td> <td>y   </td> <td>1         </td>\n",
       "        </tr>\n",
       "    </tbody>\n",
       "        <tr>\n",
       "            <td>328       </td> <td>n   </td> <td>y   </td> <td>n   </td> <td>y   </td> <td>y   </td> <td>y   </td> <td>n   </td> <td>n   </td> <td>n   </td> <td>n   </td> <td>n   </td> <td>y   </td> <td>y   </td> <td>y   </td> <td>n   </td> <td>y   </td> <td>0         </td>\n",
       "        </tr>\n",
       "    </tbody>\n",
       "        <tr>\n",
       "            <td>329       </td> <td>y   </td> <td>y   </td> <td>y   </td> <td>n   </td> <td>n   </td> <td>n   </td> <td>y   </td> <td>y   </td> <td>y   </td> <td>n   </td> <td>y   </td> <td>n   </td> <td>n   </td> <td>n   </td> <td>n   </td> <td>y   </td> <td>1         </td>\n",
       "        </tr>\n",
       "    </tbody>\n",
       "        <tr>\n",
       "            <td>330       </td> <td>y   </td> <td>nan </td> <td>y   </td> <td>n   </td> <td>n   </td> <td>y   </td> <td>y   </td> <td>y   </td> <td>y   </td> <td>y   </td> <td>n   </td> <td>n   </td> <td>n   </td> <td>n   </td> <td>y   </td> <td>nan </td> <td>1         </td>\n",
       "        </tr>\n",
       "    </tbody>\n",
       "        <tr>\n",
       "            <td>331       </td> <td>n   </td> <td>y   </td> <td>n   </td> <td>y   </td> <td>y   </td> <td>y   </td> <td>n   </td> <td>n   </td> <td>n   </td> <td>y   </td> <td>n   </td> <td>y   </td> <td>y   </td> <td>y   </td> <td>n   </td> <td>n   </td> <td>0         </td>\n",
       "        </tr>\n",
       "    </tbody>\n",
       "        <tr>\n",
       "            <td>332       </td> <td>y   </td> <td>nan </td> <td>y   </td> <td>n   </td> <td>n   </td> <td>n   </td> <td>y   </td> <td>y   </td> <td>y   </td> <td>n   </td> <td>n   </td> <td>n   </td> <td>n   </td> <td>n   </td> <td>y   </td> <td>nan </td> <td>1         </td>\n",
       "        </tr>\n",
       "    </tbody>\n",
       "        <tr>\n",
       "            <td>333       </td> <td>y   </td> <td>n   </td> <td>y   </td> <td>n   </td> <td>n   </td> <td>n   </td> <td>y   </td> <td>y   </td> <td>y   </td> <td>n   </td> <td>y   </td> <td>n   </td> <td>n   </td> <td>n   </td> <td>y   </td> <td>nan </td> <td>1         </td>\n",
       "        </tr>\n",
       "    </tbody>\n",
       "        <tr>\n",
       "            <td>334       </td> <td>n   </td> <td>n   </td> <td>y   </td> <td>n   </td> <td>n   </td> <td>n   </td> <td>y   </td> <td>y   </td> <td>y   </td> <td>n   </td> <td>n   </td> <td>n   </td> <td>n   </td> <td>n   </td> <td>y   </td> <td>y   </td> <td>1         </td>\n",
       "        </tr>\n",
       "    </tbody>\n",
       "        <tr>\n",
       "            <td>335       </td> <td>n   </td> <td>y   </td> <td>y   </td> <td>n   </td> <td>n   </td> <td>y   </td> <td>y   </td> <td>y   </td> <td>nan </td> <td>n   </td> <td>y   </td> <td>y   </td> <td>n   </td> <td>n   </td> <td>y   </td> <td>y   </td> <td>1         </td>\n",
       "        </tr>\n",
       "    </tbody>\n",
       "        <tr>\n",
       "            <td>336       </td> <td>n   </td> <td>n   </td> <td>n   </td> <td>y   </td> <td>y   </td> <td>y   </td> <td>n   </td> <td>n   </td> <td>n   </td> <td>y   </td> <td>y   </td> <td>y   </td> <td>y   </td> <td>y   </td> <td>n   </td> <td>nan </td> <td>0         </td>\n",
       "        </tr>\n",
       "    </tbody>\n",
       "</table>\n",
       "<p>... (99 rows omitted)</p"
      ],
      "text/plain": [
       "Unnamed: 0 | V2   | V3   | V4   | V5   | V6   | V7   | V8   | V9   | V10  | V11  | V12  | V13  | V14  | V15  | V16  | V17  | Prediction\n",
       "327        | y    | y    | n    | y    | n    | n    | y    | y    | y    | n    | y    | n    | n    | y    | n    | y    | 1\n",
       "328        | n    | y    | n    | y    | y    | y    | n    | n    | n    | n    | n    | y    | y    | y    | n    | y    | 0\n",
       "329        | y    | y    | y    | n    | n    | n    | y    | y    | y    | n    | y    | n    | n    | n    | n    | y    | 1\n",
       "330        | y    | nan  | y    | n    | n    | y    | y    | y    | y    | y    | n    | n    | n    | n    | y    | nan  | 1\n",
       "331        | n    | y    | n    | y    | y    | y    | n    | n    | n    | y    | n    | y    | y    | y    | n    | n    | 0\n",
       "332        | y    | nan  | y    | n    | n    | n    | y    | y    | y    | n    | n    | n    | n    | n    | y    | nan  | 1\n",
       "333        | y    | n    | y    | n    | n    | n    | y    | y    | y    | n    | y    | n    | n    | n    | y    | nan  | 1\n",
       "334        | n    | n    | y    | n    | n    | n    | y    | y    | y    | n    | n    | n    | n    | n    | y    | y    | 1\n",
       "335        | n    | y    | y    | n    | n    | y    | y    | y    | nan  | n    | y    | y    | n    | n    | y    | y    | 1\n",
       "336        | n    | n    | n    | y    | y    | y    | n    | n    | n    | y    | y    | y    | y    | y    | n    | nan  | 0\n",
       "... (99 rows omitted)"
      ]
     },
     "execution_count": 59,
     "metadata": {},
     "output_type": "execute_result"
    }
   ],
   "source": [
    "table_test.with_column('Prediction', Labels)"
   ]
  },
  {
   "cell_type": "markdown",
   "metadata": {},
   "source": [
    "## Testing accuracy"
   ]
  },
  {
   "cell_type": "code",
   "execution_count": 62,
   "metadata": {},
   "outputs": [
    {
     "data": {
      "text/plain": [
       "0.87155963302752293"
      ]
     },
     "execution_count": 62,
     "metadata": {},
     "output_type": "execute_result"
    }
   ],
   "source": [
    "test = Table.read_table('house_test_with_label.csv') #Import answers\n",
    "Truth = test.columns[1]\n",
    "Truth[Truth == 'democrat'] = 1\n",
    "Truth[Truth == 'republican'] = 0\n",
    "Truth = Truth.astype(np.int)\n",
    "sum(Labels == Truth) / len(Labels)"
   ]
  },
  {
   "cell_type": "code",
   "execution_count": null,
   "metadata": {},
   "outputs": [],
   "source": []
  }
 ],
 "metadata": {
  "kernelspec": {
   "display_name": "Python 3",
   "language": "python",
   "name": "python3"
  },
  "language_info": {
   "codemirror_mode": {
    "name": "ipython",
    "version": 3
   },
   "file_extension": ".py",
   "mimetype": "text/x-python",
   "name": "python",
   "nbconvert_exporter": "python",
   "pygments_lexer": "ipython3",
   "version": "3.6.1"
  }
 },
 "nbformat": 4,
 "nbformat_minor": 2
}
