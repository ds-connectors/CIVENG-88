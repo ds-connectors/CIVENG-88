{
 "cells": [
  {
   "cell_type": "markdown",
   "metadata": {},
   "source": [
    "### CE88: Data Science for Smart Cities - 10/9/17\n",
    "\n",
    "# *Naive Bayes*\n",
    "\n",
    "Some imports first:"
   ]
  },
  {
   "cell_type": "code",
   "execution_count": 1,
   "metadata": {
    "collapsed": true
   },
   "outputs": [],
   "source": [
    "from datascience import *\n",
    "import numpy as np"
   ]
  },
  {
   "cell_type": "markdown",
   "metadata": {},
   "source": [
    "### Loading the data"
   ]
  },
  {
   "cell_type": "code",
   "execution_count": 2,
   "metadata": {
    "collapsed": true
   },
   "outputs": [],
   "source": [
    "Init_table = Table.read_table('house_vote.csv')\n",
    "Init_table"
   ]
  },
  {
   "cell_type": "markdown",
   "metadata": {},
   "source": [
    "### Dividing data into test and train sets"
   ]
  },
  {
   "cell_type": "code",
   "execution_count": 4,
   "metadata": {
    "collapsed": true
   },
   "outputs": [],
   "source": [
    "table_train = Table.read_table('house_train.csv')\n",
    "table_test = Table.read_table('house_test_without_label.csv')"
   ]
  },
  {
   "cell_type": "markdown",
   "metadata": {},
   "source": [
    "### Finding the prior distribution over class\n",
    "\n",
    "$p(Y)$"
   ]
  },
  {
   "cell_type": "code",
   "execution_count": 5,
   "metadata": {
    "collapsed": true
   },
   "outputs": [],
   "source": [
    "rep_table = table_train.where('V1','republican')\n",
    "num_rep = rep_table.num_rows\n",
    "dem_table = table_train.where('V1','democrat')\n",
    "num_dem = dem_table.num_rows"
   ]
  },
  {
   "cell_type": "code",
   "execution_count": 6,
   "metadata": {},
   "outputs": [
    {
     "data": {
      "text/plain": [
       "[0.3834355828220859, 0.6165644171779141]"
      ]
     },
     "execution_count": 6,
     "metadata": {},
     "output_type": "execute_result"
    }
   ],
   "source": [
    "Y = [(num_rep / table_train.num_rows), (num_dem / table_train.num_rows)]\n",
    "Y"
   ]
  },
  {
   "cell_type": "markdown",
   "metadata": {},
   "source": [
    "### Finding the conditional likelihood\n",
    "\n",
    "$p(X_i \\mid Y)$"
   ]
  },
  {
   "cell_type": "code",
   "execution_count": 7,
   "metadata": {
    "collapsed": true
   },
   "outputs": [],
   "source": [
    "X_rep = np.zeros(((table_train.num_columns-2),2))\n",
    "X_dem = np.zeros(((table_train.num_columns-2),2))\n",
    "\n",
    "for i in range(1,(len(X_rep) + 1)):\n",
    "    X_rep[(i-1),0] = (sum(rep_table[i+1] == 'y')) / (rep_table.num_rows)\n",
    "    X_rep[(i-1),1] = (sum(rep_table[i+1] == 'n')) / (rep_table.num_rows)\n",
    "    X_rep[(i-1),] = X_rep[(i-1),] / sum(X_rep[(i-1),])\n",
    "    X_dem[(i-1),0] = (sum(dem_table[i+1] == 'y')) / (dem_table.num_rows)\n",
    "    X_dem[(i-1),1] = (sum(dem_table[i+1] == 'n')) / (dem_table.num_rows)\n",
    "    X_dem[(i-1),] = X_dem[(i-1),] / sum(X_dem[(i-1),])\n"
   ]
  },
  {
   "cell_type": "markdown",
   "metadata": {},
   "source": [
    "### First testing on training data"
   ]
  },
  {
   "cell_type": "code",
   "execution_count": 28,
   "metadata": {
    "collapsed": true
   },
   "outputs": [],
   "source": [
    "X_train = np.empty((table_train.num_rows,16))\n",
    "for i in range(1,table_train.num_rows):\n",
    "    x = np.asarray(table_train.rows[(i-1)][2:18])\n",
    "    x[x == 'y'] = 0; x[x == 'n'] = 1\n",
    "    X_train[(i-1),] = x.astype(np.float)"
   ]
  },
  {
   "cell_type": "markdown",
   "metadata": {},
   "source": [
    "### Calculating the posterior of class given data for train set\n",
    "\n",
    "$p(Y \\mid X)$"
   ]
  },
  {
   "cell_type": "code",
   "execution_count": 11,
   "metadata": {
    "collapsed": true,
    "scrolled": true
   },
   "outputs": [],
   "source": [
    "Y_train = np.zeros((len(X_train),2))\n",
    "\n",
    "for i in range(1,len(Y_train)):\n",
    "    x = X_train[(i-1),]\n",
    "    y_rep = 1\n",
    "    y_dem = 1\n",
    "    for j in range(1,len(x)):\n",
    "        if ~np.isnan(x[(j-1)]):\n",
    "            y_rep = y_rep * X_rep[(j-1),x[(j-1)].astype(np.int)]\n",
    "            y_dem = y_dem * X_dem[(j-1),x[(j-1)].astype(np.int)]\n",
    "    Y_train[(i-1),0] =  y_rep * Y[0]\n",
    "    Y_train[(i-1),1] =  y_dem * Y[1]\n",
    "    Y_train[(i-1),] = Y_train[(i-1),] / sum(Y_train[(i-1),])"
   ]
  },
  {
   "cell_type": "code",
   "execution_count": 20,
   "metadata": {
    "collapsed": true
   },
   "outputs": [],
   "source": [
    "Labels = np.argmax(Y_train,axis = 1)\n"
   ]
  },
  {
   "cell_type": "markdown",
   "metadata": {},
   "source": [
    "### Estimating the training accuracy in prediciton"
   ]
  },
  {
   "cell_type": "code",
   "execution_count": 18,
   "metadata": {
    "collapsed": true
   },
   "outputs": [],
   "source": [
    "Truth = table_train.columns[1]\n",
    "Truth[Truth == 'democrat'] = 1\n",
    "Truth[Truth == 'republican'] = 0\n",
    "Truth = Truth.astype(np.int)"
   ]
  },
  {
   "cell_type": "code",
   "execution_count": 19,
   "metadata": {
    "scrolled": true
   },
   "outputs": [
    {
     "data": {
      "text/plain": [
       "0.92024539877300615"
      ]
     },
     "execution_count": 19,
     "metadata": {},
     "output_type": "execute_result"
    }
   ],
   "source": [
    "sum(Labels == Truth) / len(Labels)"
   ]
  },
  {
   "cell_type": "markdown",
   "metadata": {},
   "source": [
    "### Preparing the test data"
   ]
  },
  {
   "cell_type": "code",
   "execution_count": 23,
   "metadata": {
    "collapsed": true
   },
   "outputs": [],
   "source": [
    "X_test = np.empty((table_test.num_rows,16))\n",
    "for i in range(1,table_test.num_rows):\n",
    "    x = np.asarray(table_test.rows[(i-1)][1:17])\n",
    "    x[x == 'y'] = 0; x[x == 'n'] = 1\n",
    "    X_test[(i-1),] = x.astype(np.float)\n"
   ]
  },
  {
   "cell_type": "markdown",
   "metadata": {},
   "source": [
    "### Calculating the posterior of class given data for test set\n",
    "\n",
    "$p(Y \\mid X)$"
   ]
  },
  {
   "cell_type": "code",
   "execution_count": 24,
   "metadata": {
    "collapsed": true
   },
   "outputs": [],
   "source": [
    "Y_test = np.zeros((len(X_test),2))\n",
    "\n",
    "for i in range(1,len(Y_test)):\n",
    "    x = X_test[(i-1),]\n",
    "    y_rep = 1\n",
    "    y_dem = 1\n",
    "    for j in range(1,len(x)):\n",
    "        if ~np.isnan(x[(j-1)]):\n",
    "            y_rep = y_rep * X_rep[(j-1),x[(j-1)].astype(np.int)]\n",
    "            y_dem = y_dem * X_dem[(j-1),x[(j-1)].astype(np.int)]\n",
    "    Y_test[(i-1),0] =  y_rep * Y[0]\n",
    "    Y_test[(i-1),1] =  y_dem * Y[1]\n",
    "    Y_test[(i-1),] = Y_test[(i-1),] / sum(Y_test[(i-1),])"
   ]
  },
  {
   "cell_type": "markdown",
   "metadata": {},
   "source": [
    "### Estimating the test accuracy in prediciton"
   ]
  },
  {
   "cell_type": "code",
   "execution_count": 25,
   "metadata": {
    "collapsed": true
   },
   "outputs": [],
   "source": [
    "Labels = np.argmax(Y_test,axis = 1)"
   ]
  },
  {
   "cell_type": "code",
   "execution_count": 26,
   "metadata": {
    "collapsed": true
   },
   "outputs": [],
   "source": [
    "test = Table.read_table('house_test_with_label.csv')\n",
    "Truth = test.columns[1]\n",
    "Truth[Truth == 'democrat'] = 1\n",
    "Truth[Truth == 'republican'] = 0\n",
    "Truth = Truth.astype(np.int)"
   ]
  },
  {
   "cell_type": "code",
   "execution_count": 27,
   "metadata": {},
   "outputs": [
    {
     "data": {
      "text/plain": [
       "0.87155963302752293"
      ]
     },
     "execution_count": 27,
     "metadata": {},
     "output_type": "execute_result"
    }
   ],
   "source": [
    "sum(Labels == Truth) / len(Labels)"
   ]
  }
 ],
 "metadata": {
  "kernelspec": {
   "display_name": "Python 3",
   "language": "python",
   "name": "python3"
  },
  "language_info": {
   "codemirror_mode": {
    "name": "ipython",
    "version": 3
   },
   "file_extension": ".py",
   "mimetype": "text/x-python",
   "name": "python",
   "nbconvert_exporter": "python",
   "pygments_lexer": "ipython3",
   "version": "3.6.1"
  },
  "varInspector": {
   "cols": {
    "lenName": 16,
    "lenType": 16,
    "lenVar": 40
   },
   "kernels_config": {
    "python": {
     "delete_cmd_postfix": "",
     "delete_cmd_prefix": "del ",
     "library": "var_list.py",
     "varRefreshCmd": "print(var_dic_list())"
    },
    "r": {
     "delete_cmd_postfix": ") ",
     "delete_cmd_prefix": "rm(",
     "library": "var_list.r",
     "varRefreshCmd": "cat(var_dic_list()) "
    }
   },
   "types_to_exclude": [
    "module",
    "function",
    "builtin_function_or_method",
    "instance",
    "_Feature"
   ],
   "window_display": false
  }
 },
 "nbformat": 4,
 "nbformat_minor": 2
}
