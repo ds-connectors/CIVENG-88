{
 "cells": [
  {
   "cell_type": "markdown",
   "metadata": {},
   "source": [
    "#### <font color=\"grey\">CE88 Fall 2017 - Section 2 (GSI: Sangjae Bae, sangjae.bae@berkeley.edu)</font>\n",
    "<br>\n",
    "\n",
    "# <center>**CE88 Lab Section 2**</center>\n",
    "<center>September 18, 2017</center>\n",
    "\n",
    "## Goals: an introduction to basic linear algebra tools in Python and analysis of Census data\n",
    "\n",
    "## Agenda:\n",
    "1. Basic Vector and Matrix Routines & Opertations\n",
    "2. Shape Manipulation and Entry Selections\n",
    "3. Minilab #2: Census Data\n",
    "4. Quiz"
   ]
  },
  {
   "cell_type": "markdown",
   "metadata": {},
   "source": [
    "### First some imports\n",
    "Click in the box below and press 'Shift'+'Enter' to run the code."
   ]
  },
  {
   "cell_type": "code",
   "execution_count": null,
   "metadata": {
    "collapsed": true,
    "scrolled": true
   },
   "outputs": [],
   "source": [
    "import numpy as np"
   ]
  },
  {
   "cell_type": "markdown",
   "metadata": {},
   "source": [
    "## 1. Basic Vector and Matrix Routines & Operations"
   ]
  },
  {
   "cell_type": "markdown",
   "metadata": {},
   "source": [
    "### Create \"vectors\" and \"matrices\""
   ]
  },
  {
   "cell_type": "code",
   "execution_count": null,
   "metadata": {
    "collapsed": true
   },
   "outputs": [],
   "source": [
    "# Create Arrays\n",
    "a = np.array([1,2,3])            # 1D array construction\n",
    "b = np.array([[4,-5], [-2,3]])   # 2D array contruction\n",
    "c = np.ones((5,4))               # 1D array of ones\n",
    "d = np.zeros((5,4))              # 1D array of zeros\n",
    "e = np.random.randn(4)           # 1D array of random normal entries\n",
    "\n",
    "# Create Matrices\n",
    "A = np.matrix(np.random.random((2,2)))            # 2x2 matrix of random values\n",
    "B = np.asmatrix(b)                                # 2D array -> 2x2 matrix\n",
    "C = np.mat(np.random.random((10,5)))              # 10x5 matrix of random values\n",
    "D = np.mat([[3,4], [5,6]]);                       # 2x2 matrix from 2D list\n",
    "E = np.identity(3);                               # 3x3 identity matrix\n",
    "F = np.eye(3);                                    # 3x3 identity matrix\n",
    "G = np.matrix(np.diag(np.random.rand(5)))         # 2D diagonal matrix (2D array)\n",
    "\n",
    "# Check if array/matrix:\n",
    "print (D.__class__)"
   ]
  },
  {
   "cell_type": "markdown",
   "metadata": {
    "collapsed": true
   },
   "source": [
    "### Vector and Matrix Operations"
   ]
  },
  {
   "cell_type": "code",
   "execution_count": null,
   "metadata": {
    "collapsed": true,
    "scrolled": true
   },
   "outputs": [],
   "source": [
    "# Create vectors, multi-dimensional arrays, and matrices\n",
    "x = np.random.randn(4)\n",
    "y = np.random.randn(5)\n",
    "X = np.random.rand(5,4)\n",
    "Y = np.random.rand(5,4)\n",
    "M = np.random.randn(4,4)\n",
    "A = np.matrix(np.random.randn(5,4))\n",
    "B = np.matrix(np.random.randn(5,4))\n",
    "\n",
    "# Array Operations -- ELEMENTWISE multiplication\n",
    "X+Y, X-Y\n",
    "W = X*Y\n",
    "Z = X/Y    \n",
    "X*x                         # multiply rows by x\n",
    "np.dot(X,x)                 # Dot product\n",
    "np.linalg.inv(M)\n",
    "X.T, Y.T\n",
    "\n",
    "\n",
    "# It is important to understand the difference between: X*x and A*x\n",
    "\n",
    "# Matrix Operations\n",
    "C = A+B          # C = np.add(A,B)\n",
    "D = A-B          # D = np.subtract(A,B)\n",
    "A.T, B.T\n",
    "np.linalg.inv(A)\n",
    "\n",
    "A*np.asmatrix(x).T          # Dot product; = np.dot(A,x) = np.inner(A,x)\n",
    "np.multiply(A,x)            # Multiply rows by x"
   ]
  },
  {
   "cell_type": "markdown",
   "metadata": {},
   "source": [
    "### Solving linear equations\n",
    "Find x, y, z such that:<br><br>\n",
    "x + 3y + 2z = 4 <br>\n",
    "2x - y + z = 1 <br>\n",
    "3x + y - 2z = 2"
   ]
  },
  {
   "cell_type": "code",
   "execution_count": null,
   "metadata": {
    "collapsed": true
   },
   "outputs": [],
   "source": [
    "A = np.array([[1,3,2], [2,-1,1],[3,1,-2]])\n",
    "b = np.array([4,1,2])\n",
    "\n",
    "np.linalg.inv(A)     # explicitly form inverse\n",
    "\n",
    "# Q: x = np.linalg.inv(A) * b ?\n",
    "# A: No, b is an array and hence elementwise multiplication.\n",
    "#    The correct answers: \n",
    "#                         np.dot(np.linalg.inv(A), b) >> array\n",
    "#                         np.linalg.inv(A) * np.asmatrix(b).T >> matrix\n",
    "\n",
    "\n",
    "np.linalg.solve(A, b) # return A^(-1)*b, more efficient and numerically stable"
   ]
  },
  {
   "cell_type": "markdown",
   "metadata": {},
   "source": [
    "## 2. Shape Manipulation and Entry Selections"
   ]
  },
  {
   "cell_type": "markdown",
   "metadata": {},
   "source": [
    "### Shape Manipulation"
   ]
  },
  {
   "cell_type": "code",
   "execution_count": null,
   "metadata": {
    "collapsed": true
   },
   "outputs": [],
   "source": [
    "A = np.random.randn(4,4)\n",
    "B = np.random.randn(2,4)\n",
    "C = np.random.randn(4,2)\n",
    "x = np.random.randn(5)\n",
    "y = np.random.rand(5)\n",
    "\n",
    "z = np.concatenate([x,y])  # concatenate 1D arrays\n",
    "\n",
    "D = np.vstack([A,B])       # A and B stacked vertically >> must have same number of columns\n",
    "E = np.hstack([A,C])       # A and C stacked horizontally >> must have same number of rows\n",
    "\n",
    "# print(E)\n",
    "# np.hsplit(D,2)             # Split the array horizontally at the 2nd index\n",
    "# np.vsplit(E,2)             # Split the array vertically at the 2nd index"
   ]
  },
  {
   "cell_type": "markdown",
   "metadata": {},
   "source": [
    "### Entry Selection"
   ]
  },
  {
   "cell_type": "code",
   "execution_count": null,
   "metadata": {
    "collapsed": true
   },
   "outputs": [],
   "source": [
    "A[0,0]   # select single entry\n",
    "A[0,:]   # select entire column\n",
    "A[0:3,1] # slice indexing\n",
    "\n",
    "# integer indexing\n",
    "idx_int = np.array([0,1,2])\n",
    "A[idx_int,3]\n",
    "\n",
    "print(A)\n",
    "# boolean indexing\n",
    "idx_bool = np.array([True, True, True, False]) # ==> 1,2,3 th rows\n",
    "\n",
    "# fancy indexing on two dimensions\n",
    "idx_bool2 = np.array([True, False, True, True]) # ==> 1,3,4 th columns\n",
    "A[idx_bool, idx_bool2]     # not what you want\n",
    "A[idx_bool,:][:,idx_bool2] # what you want\n",
    "\n",
    "# Collecting columns with column names -- VERY IMPORTANT\n"
   ]
  },
  {
   "cell_type": "markdown",
   "metadata": {},
   "source": [
    "## 3. Minilab #2: Census Data \n",
    "In the following lab we will take a look at some census data. A [census](https://en.wikipedia.org/wiki/Census) is the procedure of systematically acquiring and recording information about the members of a given population. The U.S. is required to take census data every 10 years. Information on the race, ethnicity, age, household size, family size etc. are recorded per [census tract](https://en.wikipedia.org/wiki/Census_tract).\n",
    "\n",
    "In this lab we will look at the distribution of population age for a few Berkeley census tracts."
   ]
  },
  {
   "cell_type": "markdown",
   "metadata": {},
   "source": [
    "### Some imports"
   ]
  },
  {
   "cell_type": "code",
   "execution_count": null,
   "metadata": {
    "collapsed": true
   },
   "outputs": [],
   "source": [
    "from datascience import *\n",
    "import numpy as np\n",
    "%matplotlib inline"
   ]
  },
  {
   "cell_type": "markdown",
   "metadata": {},
   "source": [
    "### Next, reading the data\n",
    "\n",
    "Sites like http://census.ire.org/ provide a nice interface to allow you to download census data. But we have downloaded the relevant data and cleaned it for you. Read in the csv below to see what the data looks like."
   ]
  },
  {
   "cell_type": "code",
   "execution_count": null,
   "metadata": {
    "collapsed": true
   },
   "outputs": [],
   "source": [
    "data = Table.read_table('bay_area_census_age.csv')\n",
    " \n",
    "data"
   ]
  },
  {
   "cell_type": "markdown",
   "metadata": {},
   "source": [
    "### About the data\n",
    "In the table above, we have total population, male population, female population, and population by age group for all the census tracts in the bay area. \n",
    "\n",
    "In addition we have some **geographic properties** of each census tract including the land area, water area, and latitude and longitude coordinates for a point inside the census tract.\n",
    "\n",
    "Below is a map with the Bay Area census tracts highlighted in blue.\n",
    "\n",
    "<img src=\"CA_census_tracts.jpg\", width=\"500\">"
   ]
  },
  {
   "cell_type": "markdown",
   "metadata": {},
   "source": [
    "### Using a function\n",
    "\n",
    "**Don't be scared by the code below** - we will get into the details later in the course. \n",
    "For now just recognize that the code below is a *function* used to compute the distance between two (latitude, longitude) coordinates. Rotate table is another function we will need later in the lab. Press 'Shift' + 'Enter' to run the code in the box below, we will use these functions shortly.\n",
    "\n",
    "#### Computing the distance on a sphere aka great circle distance\n",
    "For more detail please see https://en.wikipedia.org/wiki/Great-circle_distance\n"
   ]
  },
  {
   "cell_type": "code",
   "execution_count": null,
   "metadata": {
    "collapsed": true
   },
   "outputs": [],
   "source": [
    "def distance_on_sphere(lat1, long1, lat2, long2):\n",
    "\n",
    "    # Convert latitude and longitude to spherical coordinates in radians.\n",
    "    degrees_to_radians = np.pi/180.0\n",
    "        \n",
    "    # phi = 90 - latitude\n",
    "    phi1 = (90.0 - lat1)*degrees_to_radians\n",
    "    phi2 = (90.0 - lat2)*degrees_to_radians\n",
    "        \n",
    "    # theta = longitude\n",
    "    theta1 = long1*degrees_to_radians\n",
    "    theta2 = long2*degrees_to_radians\n",
    "        \n",
    "    # We can compute spherical distance from spherical coordinates.\n",
    "    cos = (np.sin(phi1)*np.sin(phi2)*np.cos(theta1-theta2)+\n",
    "           np.cos(phi1)*np.cos(phi2))\n",
    "    arc = np.arccos( cos )\n",
    "\n",
    "    # Multiply arc by the radius of the earth to get length.\n",
    "    return 3960.*arc #to get distance in miles\n",
    "\n",
    "def rotate_table(table):\n",
    "    '''transforms a 2 x n table to be an n x 2 table'''\n",
    "    return Table().with_columns(['Columns', list(table.labels),\n",
    "                                 'Values', list(table.to_array()[0])])"
   ]
  },
  {
   "cell_type": "markdown",
   "metadata": {},
   "source": [
    "### Find the census tract closest to the Channing-Bowditch apartments (just South of Campus)\n",
    "Now we will use the distance_on_sphere() function to find the census tract closest to the Channing-Bowditch apartments. From [Google Maps](https://goo.gl/maps/5xudrVbixun) we learn that the apartment is located at 37.867495, -122.257617 (lat, lon). We use the .apply() method to calculate the distance between each census tract and the Channing Bodwitch apartment."
   ]
  },
  {
   "cell_type": "code",
   "execution_count": null,
   "metadata": {
    "collapsed": true
   },
   "outputs": [],
   "source": [
    "#return closest to 37.867495, -122.257617 (Channing-Bowditch apartments): https://goo.gl/maps/5xudrVbixun\n",
    "lat1, lon1 = 37.867495, -122.257617\n",
    "\n",
    "# calculate the distance from the Channing-Bowditch apartments to each tract. Save this in the data table \n",
    "# in a column labeled 'distance to Channing'\n",
    "data['distance to Channing'] = data.apply(lambda lat2, lon2 : distance_on_sphere(lat1, lon1, lat2, lon2), \n",
    "                                          ['INTPTLAT10', 'INTPTLON10'])\n",
    "\n",
    "#select the row where 'distance to Channing' is minimum. \n",
    "# This is the closest census tract to the Channing Apartments\n",
    "channing_tract = data.where(data['distance to Channing'] == min(data['distance to Channing']))\n",
    "\n",
    "#let's take a look at what this looks like.\n",
    "channing_tract"
   ]
  },
  {
   "cell_type": "markdown",
   "metadata": {},
   "source": [
    "### Create a horizontal bar graph of population vs. age group\n",
    "We can use the barh function to create a bar graph. The function needs the data to be oriented in a single column. Right now the data is all oriented in one row. We will use the rotate table function (above) to rotate the table. We will save this table as a variable called tograph."
   ]
  },
  {
   "cell_type": "code",
   "execution_count": null,
   "metadata": {
    "collapsed": true
   },
   "outputs": [],
   "source": [
    "tograph = channing_tract.select(['Under 5 years', '5 to 9 years', '10 to 14 years',\n",
    "                                 '15 to 19 years','20 to 24 years','25 to 29 years',\n",
    "                                 '30 to 34 years','35 to 39 years','40 to 44 years',\n",
    "                                 '45 to 49 years','50 to 54 years','55 to 59 years',\n",
    "                                 '60 to 64 years','65 to 69 years','70 to 74 years',\n",
    "                                 '75 to 79 years','80 to 84 years','85 years and over'])\n",
    "tograph = rotate_table(tograph)\n",
    "tograph"
   ]
  },
  {
   "cell_type": "markdown",
   "metadata": {},
   "source": [
    "### Run the code below to create the bar graph."
   ]
  },
  {
   "cell_type": "code",
   "execution_count": null,
   "metadata": {
    "collapsed": true
   },
   "outputs": [],
   "source": [
    "tograph.relabel('Columns', 'Age group')\n",
    "tograph.relabel('Values', 'Count')\n",
    "tograph.barh('Age group')"
   ]
  },
  {
   "cell_type": "markdown",
   "metadata": {},
   "source": [
    "**Question 1: ** What can we say about the data plotted above? Which age groups have the highest population. Do you think this is representative of the population for the rest of the Bay Area?"
   ]
  },
  {
   "cell_type": "code",
   "execution_count": null,
   "metadata": {
    "collapsed": true
   },
   "outputs": [],
   "source": [
    "# Answer here:"
   ]
  },
  {
   "cell_type": "markdown",
   "metadata": {},
   "source": [
    "### Populations of merged age groups.\n",
    "Now, we want to analyse the populations of the census track closest to the Channing-Bowditch apartment in terms of merged age groups. Specifically, we want to see how the population looks like for the age group: over 35 years. Print the table for the age group of over 35 years.\n",
    "\n"
   ]
  },
  {
   "cell_type": "markdown",
   "metadata": {},
   "source": [
    "**Question 2: **What can you say about the populations of the age group?"
   ]
  },
  {
   "cell_type": "code",
   "execution_count": null,
   "metadata": {
    "collapsed": true
   },
   "outputs": [],
   "source": [
    "mergedGroup = channing_tract.select(['35 to 39 years','40 to 44 years',\n",
    "                                 '45 to 49 years','50 to 54 years','55 to 59 years',\n",
    "                                 '60 to 64 years','65 to 69 years','70 to 74 years',\n",
    "                                 '75 to 79 years','80 to 84 years','85 years and over'])\n",
    "\n",
    "# Solution #1\n",
    "channing_tract['35 years and over'] = np.sum(np.asarray(mergedGroup.row(0)))\n",
    "\n",
    "# Solution #2\n",
    "popSum = np.zeros(len(mergedGroup.column(0)))\n",
    "\n",
    "for col in mergedGroup.column_labels:\n",
    "    popSum += mergedGroup.column(col)\n",
    "\n",
    "channing_tract['35 years and over'] = popSum\n",
    "\n",
    "\n",
    "\n",
    "channing_tract"
   ]
  },
  {
   "cell_type": "markdown",
   "metadata": {},
   "source": [
    "### Populations of merged counties.\n",
    "Now, we want to analyse the entire populations for the age group 20 to 24 over counties. Specifically, we want to see how the population looks like for the county group: county id <= 75. Print the table for the age group of county id <= 75."
   ]
  },
  {
   "cell_type": "markdown",
   "metadata": {},
   "source": [
    "** Question 3: ** What can you say about the populations of the county group?"
   ]
  },
  {
   "cell_type": "code",
   "execution_count": null,
   "metadata": {
    "collapsed": true
   },
   "outputs": [],
   "source": [
    "# Answer here:\n",
    "data.where(data['COUNTY'] <= 75).column('20 to 24 years')\n",
    "np.sum(data.where(data['COUNTY'] <= 75).column('20 to 24 years'))"
   ]
  }
 ],
 "metadata": {
  "kernelspec": {
   "display_name": "Python [py36]",
   "language": "python",
   "name": "Python [py36]"
  },
  "language_info": {
   "codemirror_mode": {
    "name": "ipython",
    "version": 3
   },
   "file_extension": ".py",
   "mimetype": "text/x-python",
   "name": "python",
   "nbconvert_exporter": "python",
   "pygments_lexer": "ipython3",
   "version": "3.6.1"
  },
  "varInspector": {
   "cols": {
    "lenName": 16,
    "lenType": 16,
    "lenVar": 40
   },
   "kernels_config": {
    "python": {
     "delete_cmd_postfix": "",
     "delete_cmd_prefix": "del ",
     "library": "var_list.py",
     "varRefreshCmd": "print(var_dic_list())"
    },
    "r": {
     "delete_cmd_postfix": ") ",
     "delete_cmd_prefix": "rm(",
     "library": "var_list.r",
     "varRefreshCmd": "cat(var_dic_list()) "
    }
   },
   "position": {
    "height": "602px",
    "left": "717px",
    "right": "20px",
    "top": "98px",
    "width": "536px"
   },
   "types_to_exclude": [
    "module",
    "function",
    "builtin_function_or_method",
    "instance",
    "_Feature"
   ],
   "window_display": false
  }
 },
 "nbformat": 4,
 "nbformat_minor": 1
}
