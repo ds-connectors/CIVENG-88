{
 "cells": [
  {
   "cell_type": "markdown",
   "metadata": {},
   "source": [
    "### CE88: Data Science for Smart Cities - 11/06/17\n",
    "\n",
    "# *Decision Making*\n"
   ]
  },
  {
   "cell_type": "markdown",
   "metadata": {},
   "source": [
    "Consider that you are in charge of the maintenance of one of the piles of Bay Bridge as indicated by the variable $F$ in the figure (a). The pile of the bridge can be in two possible state of *No Damage* or *Damaged*. You also have access to to sensor readings in locations $B$, $D$, and $E$ of the bridge, which each can indicate *No Damage* or *Damaged* in each location. The conditional relationship among the sensor readings and the condition of the pile is given in figure (b). \n",
    "\n",
    "<img src=\"fig.png\", width=\"600\">\n",
    "\n",
    "\n",
    "As a decision maker, you have two possible actions that you can take: *Do Nothing* or *Repair* the pile. The conditional probability table of the sensor at location $D$ and each other child nodes given its parent is given as below:\n",
    "\n",
    "<img src=\"d.png\", width=\"600\">\n",
    "\n",
    "<img src=\"cond_table.png\", width=\"600\">\n",
    "\n",
    "Also the loss based on the actions that you take and the condition state of the pile is given as below:\n",
    "\n",
    "<img src=\"loss.png\", width=\"600\">\n"
   ]
  },
  {
   "cell_type": "markdown",
   "metadata": {},
   "source": [
    "**Part 1.** Find the optimal action and the expected optimal loss, if no information on sensor readings are given."
   ]
  },
  {
   "cell_type": "markdown",
   "metadata": {
    "collapsed": true
   },
   "source": [
    "Loss depends on $F$, so we first need to find the $p(F)$, but $F$ depends on its parent $B$, and $B$ depends on its parent $D$, so we first caluclate $p(B)$:\n",
    "\n",
    "$p(B) = \\sum_{D} p(B \\mid D) p(D) = p(B \\mid D = ND) p(D = ND) + p(B \\mid D = Dam) p(D = Dam) = [0.903, 0.097]$\n",
    "\n",
    "then we go to $F$:\n",
    "\n",
    "$p(F) = \\sum_{B} p(F \\mid B) p(B) = [0.859, 0.141]$\n",
    "\n",
    "Now that we have $p(F)$ we can calculate the optimal action and loss:\n",
    "\n",
    "if we pick *Do Nothing*: $EL[Do Nothing] = p(F = ND) L(Do Nothing,F = ND) + p(F = Dam) L(Do Nothing, F = Dam) = 0.859 \\times 0 + 0.141 \\times 100  = \\$14.11K$\n",
    "\n",
    "if we pick *Repair*: $EL[Repair] = p(F = ND) L(Repair,F = ND) + p(F = Dam) L(Repair, F = Dam) = 0.859 \\times 20 + 0.141 \\times 20  = \\$20K$\n",
    "\n",
    "So the optimal loss is $EL^* = \\min(EL[Do Nothing], EL[Repair]) = \\$14.11K$ and optimal action is $a^* = Do Nothing$\n"
   ]
  },
  {
   "cell_type": "markdown",
   "metadata": {},
   "source": [
    "**Part 2.** What is the value of information of observing the sensor readings at location $E$?"
   ]
  },
  {
   "cell_type": "markdown",
   "metadata": {
    "collapsed": true
   },
   "source": [
    "The formula for value of information was $VOI = EL^* - (EL^*\\mid E$)$\n",
    "\n",
    "Now we need to find the $EL \\mid E$, so we need to start from $D$ and do variable elimination given the evidence $E$, until we reach the variable $F$. \n",
    "\n",
    "So first we find $p(F \\mid E = Dam)$"
   ]
  },
  {
   "cell_type": "markdown",
   "metadata": {},
   "source": [
    "We start with variable $D$:\n",
    "\n",
    "$p(D \\mid E) = \\frac{p(E \\mid D)p(D)}{p(E)}$\n",
    "\n",
    "$p(D \\mid E = Dam) = [0.48, 0.52]$, \n",
    "\n",
    "Then we calculate $p(B \\mid E = Dam)$:\n",
    "\n",
    "$p(B \\mid E = Dam) = \\sum_D p(B \\mid D , E = Dam) p(D \\mid E = Dam)= [0.4612, 0.5388]$\n",
    "\n",
    "Next step:\n",
    "\n",
    "$p(F \\mid E = Dam) = \\sum_B p(F \\mid B , E = Dam) p(B \\mid E = Dam)= [0.4436, 0.5564]$\n",
    "\n",
    "\n",
    "\n",
    "\n"
   ]
  },
  {
   "cell_type": "markdown",
   "metadata": {},
   "source": [
    "Now that we have the $p(F \\mid E = Dam)$, we can find the optimal action and loss under this scenario:\n",
    "\n",
    "if we pick *Do Nothing*: $EL[Do Nothing \\mid E = Dam] = p(F = ND \\mid E = Dam) L(Do Nothing, F = ND) + p(F = Dam \\mid E = Dam) L(Do Nothing, F = Dam) = 0.4436 \\times 0 + 0.5564 \\times 100 = \\$55.64K$.\n",
    "\n",
    "\n",
    "\n",
    "if we pick *Repair*: $EL[Repair \\mid E = Dam] = p(F = ND \\mid E = Dam) L(Repair, F = ND) + p(F = Dam \\mid E = Dam) L(Repair, F = Dam) = 0.4436 \\times 20 + 0.5564 \\times 20 = \\$20K$\n",
    "\n",
    "So the optimal loss is $EL^* \\mid E = Dam = \\$20K$ and the optimal action is $a^* = Repair$."
   ]
  },
  {
   "cell_type": "markdown",
   "metadata": {},
   "source": [
    "Now we do the same analysis to find $EL^* \\mid E = ND$ which turn out to be $\\$9.7K$ with the optimal action $a^* = Do Nothing$"
   ]
  },
  {
   "cell_type": "markdown",
   "metadata": {},
   "source": [
    "Now $EL^* \\mid E = p(E = Dam) (EL^* \\mid E = Dam) + p(E = ND) (EL^* \\mid E = ND)$\n",
    "\n",
    "So you can see that we need marginal probability $E$, i.e. $p(E)$. This is easy to calculate from $D$:\n",
    "\n",
    "$p(E) = \\sum_{D} p(E \\mid D) p(D) = p(E \\mid D = ND) p(D = ND) + p(E \\mid D = Dam) p(D = Dam) = [0.903, 0.097]$\n",
    "\n",
    "\n",
    "So now we can calculate the optimal expected loss given observation of $E$:\n",
    "\n",
    "$EL^* \\mid E = 0.097 \\times 20 + 0.903 \\times 9.7 = \\$10.7$K\n",
    "\n",
    "Now the value of information is:\n",
    "\n",
    "$VOI = EL^* - (EL^*\\mid E$) = 14.11 - 10.7 = $\\$3.41$K"
   ]
  },
  {
   "cell_type": "code",
   "execution_count": null,
   "metadata": {
    "collapsed": true
   },
   "outputs": [],
   "source": []
  }
 ],
 "metadata": {
  "kernelspec": {
   "display_name": "Python 3",
   "language": "python",
   "name": "python3"
  },
  "language_info": {
   "codemirror_mode": {
    "name": "ipython",
    "version": 3
   },
   "file_extension": ".py",
   "mimetype": "text/x-python",
   "name": "python",
   "nbconvert_exporter": "python",
   "pygments_lexer": "ipython3",
   "version": "3.6.1"
  },
  "varInspector": {
   "cols": {
    "lenName": 16,
    "lenType": 16,
    "lenVar": 40
   },
   "kernels_config": {
    "python": {
     "delete_cmd_postfix": "",
     "delete_cmd_prefix": "del ",
     "library": "var_list.py",
     "varRefreshCmd": "print(var_dic_list())"
    },
    "r": {
     "delete_cmd_postfix": ") ",
     "delete_cmd_prefix": "rm(",
     "library": "var_list.r",
     "varRefreshCmd": "cat(var_dic_list()) "
    }
   },
   "types_to_exclude": [
    "module",
    "function",
    "builtin_function_or_method",
    "instance",
    "_Feature"
   ],
   "window_display": false
  }
 },
 "nbformat": 4,
 "nbformat_minor": 2
}
