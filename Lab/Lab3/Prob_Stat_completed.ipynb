{
 "cells": [
  {
   "cell_type": "code",
   "execution_count": 1,
   "metadata": {
    "collapsed": true,
    "scrolled": true
   },
   "outputs": [],
   "source": [
    "import numpy as np\n",
    "from datascience import *\n",
    "import matplotlib.pyplot as plots\n",
    "%matplotlib inline\n"
   ]
  },
  {
   "cell_type": "code",
   "execution_count": 2,
   "metadata": {
    "collapsed": true
   },
   "outputs": [],
   "source": [
    "x = Table().with_columns(['Y', [0,1,0,1,1,0,1,1],\n",
    "                        'X1', [0,1,0,1,1,1,0,1],\n",
    "                        'X2',[0,0,1,1,0,0,1,0],   \n",
    "])"
   ]
  },
  {
   "cell_type": "code",
   "execution_count": 3,
   "metadata": {},
   "outputs": [
    {
     "name": "stdout",
     "output_type": "stream",
     "text": [
      "Y    | X1   | X2\n",
      "0    | 0    | 0\n",
      "1    | 1    | 0\n",
      "0    | 0    | 1\n",
      "1    | 1    | 1\n",
      "1    | 1    | 0\n",
      "0    | 1    | 0\n",
      "1    | 0    | 1\n",
      "1    | 1    | 0\n"
     ]
    }
   ],
   "source": [
    "print(x)"
   ]
  },
  {
   "cell_type": "markdown",
   "metadata": {},
   "source": [
    "- What is $p(Y = 1)$?"
   ]
  },
  {
   "cell_type": "code",
   "execution_count": 4,
   "metadata": {},
   "outputs": [
    {
     "data": {
      "text/plain": [
       "0.625"
      ]
     },
     "execution_count": 4,
     "metadata": {},
     "output_type": "execute_result"
    }
   ],
   "source": [
    "sum(x.column('Y') ==1) / x.num_rows"
   ]
  },
  {
   "cell_type": "markdown",
   "metadata": {},
   "source": [
    "- What is $p(X_1 = 1 \\mid Y = 0)$"
   ]
  },
  {
   "cell_type": "code",
   "execution_count": 5,
   "metadata": {},
   "outputs": [
    {
     "name": "stdout",
     "output_type": "stream",
     "text": [
      "Y    | X1   | X2\n",
      "0    | 0    | 0\n",
      "0    | 0    | 1\n",
      "0    | 1    | 0\n"
     ]
    }
   ],
   "source": [
    "x_y0 = x.where('Y',0)\n",
    "print(x_y0)"
   ]
  },
  {
   "cell_type": "code",
   "execution_count": 6,
   "metadata": {},
   "outputs": [
    {
     "data": {
      "text/plain": [
       "0.33333333333333331"
      ]
     },
     "execution_count": 6,
     "metadata": {},
     "output_type": "execute_result"
    }
   ],
   "source": [
    "sum(x_y0.column('X1') == 1) / x_y0.num_rows"
   ]
  },
  {
   "cell_type": "markdown",
   "metadata": {
    "scrolled": true
   },
   "source": [
    "- What is $p(X_1 = 1 \\mid Y = 1)$"
   ]
  },
  {
   "cell_type": "code",
   "execution_count": 7,
   "metadata": {},
   "outputs": [
    {
     "data": {
      "text/plain": [
       "0.80000000000000004"
      ]
     },
     "execution_count": 7,
     "metadata": {},
     "output_type": "execute_result"
    }
   ],
   "source": [
    "x_y1 = x.where('Y',1)\n",
    "sum(x_y1.column('X1') == 1) / x_y1.num_rows"
   ]
  },
  {
   "cell_type": "markdown",
   "metadata": {},
   "source": [
    "- What is $p(X_2 = 1 \\mid Y = 0)$"
   ]
  },
  {
   "cell_type": "code",
   "execution_count": 8,
   "metadata": {},
   "outputs": [
    {
     "data": {
      "text/plain": [
       "0.33333333333333331"
      ]
     },
     "execution_count": 8,
     "metadata": {},
     "output_type": "execute_result"
    }
   ],
   "source": [
    "x_y2 = x.where('Y',0)\n",
    "sum(x_y2.column('X2') == 1) / x_y2.num_rows"
   ]
  },
  {
   "cell_type": "markdown",
   "metadata": {},
   "source": [
    "- What is $p(Y \\mid X_1 = 1, X_2 = 0)$"
   ]
  },
  {
   "cell_type": "code",
   "execution_count": 9,
   "metadata": {},
   "outputs": [
    {
     "data": {
      "text/plain": [
       "[0.25, 0.75]"
      ]
     },
     "execution_count": 9,
     "metadata": {},
     "output_type": "execute_result"
    }
   ],
   "source": [
    "x_y = x.where((x['X1'] == 1))\n",
    "x_yy = x_y.where((x_y['X2'] == 0))\n",
    "[sum(x_yy.column('Y') == 0) / x_yy.num_rows,sum(x_yy.column('Y') == 1) / x_yy.num_rows]"
   ]
  },
  {
   "cell_type": "markdown",
   "metadata": {},
   "source": [
    "Let us say the probability of shortage in electricity and oil is as follow:\n",
    "\n",
    "$p(E) = 15 \\%$, $p(O) = 10 \\%$\n",
    "\n",
    "dependece among variables:\n",
    "\n",
    "$p(E \\mid O) = 2p(E) = 30 \\%$\n",
    "\n",
    "Compute $p(E,O), p(E,\\not O), p(\\not E, O), p(\\not E, \\not O)$\n",
    "\n",
    "$p(\\not E, \\not O) = p(\\not O) - p(E, \\not O)$\n",
    "\n",
    "$p_f = 1 - p(\\not E, \\not O)$"
   ]
  },
  {
   "cell_type": "code",
   "execution_count": 10,
   "metadata": {},
   "outputs": [
    {
     "data": {
      "text/plain": [
       "0.21999999999999997"
      ]
     },
     "execution_count": 10,
     "metadata": {},
     "output_type": "execute_result"
    }
   ],
   "source": [
    "P_EO = 0.3 * 0.1\n",
    "P_EnotO = 0.15 - 0.03\n",
    "P_notOE = 0.1 - 0.03\n",
    "P_notEnotO = 0.9 - P_EnotO\n",
    "P_f = 1 - P_notEnotO\n",
    "P_f"
   ]
  },
  {
   "cell_type": "markdown",
   "metadata": {},
   "source": [
    "If we have another option, e.g. Gas\n",
    "\n",
    "$p(G) = 20 \\%$\n",
    "\n",
    "and Gas in independent of other two\n",
    "\n",
    "$p(\\not G, \\not E, \\not O) = p(\\not E, \\not O) p(\\not G)$"
   ]
  },
  {
   "cell_type": "code",
   "execution_count": 11,
   "metadata": {},
   "outputs": [
    {
     "data": {
      "text/plain": [
       "0.6240000000000001"
      ]
     },
     "execution_count": 11,
     "metadata": {},
     "output_type": "execute_result"
    }
   ],
   "source": [
    "P_NGNENO = P_notEnotO * (1-0.2)\n",
    "P_NGNENO"
   ]
  },
  {
   "cell_type": "code",
   "execution_count": 12,
   "metadata": {},
   "outputs": [
    {
     "data": {
      "text/plain": [
       "0.3759999999999999"
      ]
     },
     "execution_count": 12,
     "metadata": {},
     "output_type": "execute_result"
    }
   ],
   "source": [
    "P_f2 = 1 - P_NGNENO\n",
    "P_f2"
   ]
  },
  {
   "cell_type": "markdown",
   "metadata": {},
   "source": [
    "The weight $x$ applied to a structure is modeled by a log-normal distribution, with mean $20 KN$ and coefficient of variation $\\delta = 50 \\%$\n",
    "\n",
    "- Find parameters $(\\mu, \\sigma)$ of the distribution\n",
    "- What is the probability that $x$ is in the range $10 KN$ and $40 KN$?"
   ]
  },
  {
   "cell_type": "code",
   "execution_count": 13,
   "metadata": {
    "collapsed": true
   },
   "outputs": [],
   "source": [
    "from scipy.stats import norm"
   ]
  },
  {
   "cell_type": "code",
   "execution_count": 14,
   "metadata": {
    "collapsed": true
   },
   "outputs": [],
   "source": [
    "mu = 20\n",
    "cov = 0.5\n",
    "sigma = mu*cov"
   ]
  },
  {
   "cell_type": "markdown",
   "metadata": {},
   "source": [
    "$F_x(x) = \\Phi (\\frac{x-\\mu}{\\sigma})$"
   ]
  },
  {
   "cell_type": "code",
   "execution_count": 15,
   "metadata": {
    "collapsed": true
   },
   "outputs": [],
   "source": [
    "F10 = norm.cdf((10 - mu)/sigma) \n",
    "F40 = norm.cdf((40 - mu)/sigma) "
   ]
  },
  {
   "cell_type": "code",
   "execution_count": 16,
   "metadata": {},
   "outputs": [
    {
     "data": {
      "text/plain": [
       "0.81859461412036372"
      ]
     },
     "execution_count": 16,
     "metadata": {},
     "output_type": "execute_result"
    }
   ],
   "source": [
    "p = F40 - F10\n",
    "p"
   ]
  },
  {
   "cell_type": "markdown",
   "metadata": {},
   "source": [
    "What is the probability of $x$ being negative? Why this happens?"
   ]
  },
  {
   "cell_type": "code",
   "execution_count": 17,
   "metadata": {},
   "outputs": [
    {
     "data": {
      "text/plain": [
       "0.022750131948179195"
      ]
     },
     "execution_count": 17,
     "metadata": {},
     "output_type": "execute_result"
    }
   ],
   "source": [
    "F0 = norm.cdf((0-mu)/sigma)\n",
    "F0"
   ]
  },
  {
   "cell_type": "markdown",
   "metadata": {},
   "source": [
    "# Real data exploration"
   ]
  },
  {
   "cell_type": "code",
   "execution_count": 18,
   "metadata": {
    "collapsed": true
   },
   "outputs": [],
   "source": [
    "data = Table.read_table('bay_area_census_age.csv')\n"
   ]
  },
  {
   "cell_type": "code",
   "execution_count": null,
   "metadata": {
    "collapsed": true
   },
   "outputs": [],
   "source": [
    "data"
   ]
  },
  {
   "cell_type": "markdown",
   "metadata": {},
   "source": [
    "Assume variable $X$ represents the population in our database:\n",
    "\n",
    "\n",
    "1. what is $p(X_\\text{female} \\geq X_\\text{male})$\n",
    "2. what is $p(X_\\text{female} \\geq X_\\text{male} \\mid \\text{county = 75})$\n",
    "3. what is $p(X_\\text{female} \\geq X_\\text{male} \\mid \\text{county = 75}, \\text{age} \\leq 24)$"
   ]
  },
  {
   "cell_type": "code",
   "execution_count": 20,
   "metadata": {},
   "outputs": [
    {
     "data": {
      "text/plain": [
       "68.718320057929034"
      ]
     },
     "execution_count": 20,
     "metadata": {},
     "output_type": "execute_result"
    }
   ],
   "source": [
    "# Answering question 1:\n",
    "\n",
    "q1 = data.select(['Total Population','Female', 'Male'])\n",
    "\n",
    "q1['condition'] = q1['Female'] > q1['Male']\n",
    "\n",
    "p = np.sum(np.asarray(q1['condition'])) / q1.num_rows * 100\n",
    "p"
   ]
  },
  {
   "cell_type": "code",
   "execution_count": 21,
   "metadata": {},
   "outputs": [
    {
     "data": {
      "text/plain": [
       "69.470802288413935"
      ]
     },
     "execution_count": 21,
     "metadata": {},
     "output_type": "execute_result"
    }
   ],
   "source": [
    "totalpop = np.sum(np.asarray(q1['Total Population']))\n",
    "q1['weight'] = q1['Total Population'] / totalpop\n",
    "\n",
    "sum(q1['condition'] * q1['weight']) * 100\n"
   ]
  },
  {
   "cell_type": "code",
   "execution_count": 22,
   "metadata": {},
   "outputs": [
    {
     "data": {
      "text/plain": [
       "57.892416499531173"
      ]
     },
     "execution_count": 22,
     "metadata": {},
     "output_type": "execute_result"
    }
   ],
   "source": [
    "# Answering question 2\n",
    "q2 = data.where(data['COUNTY'] == 75).select(['Total Population','Female', 'Male'])\n",
    "\n",
    "q2['condition'] = q2['Female'] > q2['Male']\n",
    "totalpop = np.sum(np.asarray(q2['Total Population']))\n",
    "q2['weight'] = q2['Total Population'] / totalpop\n",
    "sum(q2['condition'] * q2['weight']) * 100"
   ]
  },
  {
   "cell_type": "markdown",
   "metadata": {},
   "source": [
    "Let us do some statistics now:\n",
    "\n",
    "1. Compare the expected value of population for age group 20 to 24 years in county 1 and 75?\n",
    "2. What is 95% confidence interval question 1? \n",
    "\n",
    "note: 95% confidence interval for variable $X$ is defined as:\n",
    "\n",
    "$[\\mathbf{E}[X] - 2 \\sigma_X, \\mathbf{E}[X] + 2 \\sigma_X]$"
   ]
  },
  {
   "cell_type": "code",
   "execution_count": 23,
   "metadata": {},
   "outputs": [
    {
     "name": "stdout",
     "output_type": "stream",
     "text": [
      "296.534626039 307.705583756\n"
     ]
    }
   ],
   "source": [
    "qq1 = data.where(data['COUNTY'] == 1).select(['20 to 24 years'])\n",
    "x1 = np.mean(np.asarray(qq1['20 to 24 years']))\n",
    "qq2 = data.where(data['COUNTY'] == 75).select(['20 to 24 years'])\n",
    "x2 = np.mean(np.asarray(qq2['20 to 24 years']))\n",
    "\n",
    "print(x1,x2)"
   ]
  },
  {
   "cell_type": "code",
   "execution_count": 24,
   "metadata": {
    "scrolled": true
   },
   "outputs": [
    {
     "name": "stdout",
     "output_type": "stream",
     "text": [
      "[0.0, 914.06606964858565]\n",
      "[0.0, 693.20058293668876]\n"
     ]
    }
   ],
   "source": [
    "sd1 = np.std(np.asarray(qq1['20 to 24 years']))\n",
    "sd2 = np.std(np.asarray(qq2['20 to 24 years']))\n",
    "print([np.max([x1-2*sd1,0]),x1+2*sd1])\n",
    "print([np.max([x2-2*sd2,0]),x2+2*sd2])"
   ]
  },
  {
   "cell_type": "code",
   "execution_count": 25,
   "metadata": {},
   "outputs": [
    {
     "data": {
      "text/plain": [
       "<matplotlib.text.Text at 0x116fc35f8>"
      ]
     },
     "execution_count": 25,
     "metadata": {},
     "output_type": "execute_result"
    },
    {
     "data": {
      "image/png": "[encoded data removed]",
      "text/plain": [
       "<matplotlib.figure.Figure at 0x116f9b2b0>"
      ]
     },
     "metadata": {},
     "output_type": "display_data"
    }
   ],
   "source": [
    "plots.hist(qq1['20 to 24 years'],bins = 100)\n",
    "plots.xlabel(\"population between 30 to 34 in county 1\")"
   ]
  },
  {
   "cell_type": "code",
   "execution_count": 26,
   "metadata": {},
   "outputs": [
    {
     "data": {
      "text/plain": [
       "<matplotlib.text.Text at 0x117245358>"
      ]
     },
     "execution_count": 26,
     "metadata": {},
     "output_type": "execute_result"
    },
    {
     "data": {
      "image/png": "[encoded data removed]",
      "text/plain": [
       "<matplotlib.figure.Figure at 0x11706e518>"
      ]
     },
     "metadata": {},
     "output_type": "display_data"
    }
   ],
   "source": [
    "plots.hist(qq2['20 to 24 years'],bins = 100)\n",
    "plots.xlabel(\"population between 30 to 34 in county 75\")"
   ]
  },
  {
   "cell_type": "code",
   "execution_count": null,
   "metadata": {
    "collapsed": true
   },
   "outputs": [],
   "source": []
  },
  {
   "cell_type": "code",
   "execution_count": null,
   "metadata": {
    "collapsed": true
   },
   "outputs": [],
   "source": []
  }
 ],
 "metadata": {
  "kernelspec": {
   "display_name": "Python 3",
   "language": "python",
   "name": "python3"
  },
  "language_info": {
   "codemirror_mode": {
    "name": "ipython",
    "version": 3
   },
   "file_extension": ".py",
   "mimetype": "text/x-python",
   "name": "python",
   "nbconvert_exporter": "python",
   "pygments_lexer": "ipython3",
   "version": "3.6.1"
  },
  "varInspector": {
   "cols": {
    "lenName": 16,
    "lenType": 16,
    "lenVar": 40
   },
   "kernels_config": {
    "python": {
     "delete_cmd_postfix": "",
     "delete_cmd_prefix": "del ",
     "library": "var_list.py",
     "varRefreshCmd": "print(var_dic_list())"
    },
    "r": {
     "delete_cmd_postfix": ") ",
     "delete_cmd_prefix": "rm(",
     "library": "var_list.r",
     "varRefreshCmd": "cat(var_dic_list()) "
    }
   },
   "position": {
    "height": "602px",
    "left": "717px",
    "right": "20px",
    "top": "98px",
    "width": "536px"
   },
   "types_to_exclude": [
    "module",
    "function",
    "builtin_function_or_method",
    "instance",
    "_Feature"
   ],
   "window_display": false
  }
 },
 "nbformat": 4,
 "nbformat_minor": 1
}
