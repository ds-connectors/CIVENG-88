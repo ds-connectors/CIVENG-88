{
 "cells": [
  {
   "cell_type": "code",
   "execution_count": 1,
   "metadata": {
    "collapsed": true,
    "scrolled": true
   },
   "outputs": [],
   "source": [
    "import numpy as np\n",
    "from datascience import *\n",
    "import matplotlib.pyplot as plots\n",
    "%matplotlib inline\n"
   ]
  },
  {
   "cell_type": "code",
   "execution_count": 2,
   "metadata": {
    "collapsed": true
   },
   "outputs": [],
   "source": [
    "x = Table().with_columns(['Y', [0,1,0,1,1,0,1,1],\n",
    "                        'X1', [0,1,0,1,1,1,0,1],\n",
    "                        'X2',[0,0,1,1,0,0,1,0],   \n",
    "])"
   ]
  },
  {
   "cell_type": "code",
   "execution_count": null,
   "metadata": {
    "collapsed": true
   },
   "outputs": [],
   "source": []
  },
  {
   "cell_type": "markdown",
   "metadata": {},
   "source": [
    "- What is $p(Y = 1)$?"
   ]
  },
  {
   "cell_type": "code",
   "execution_count": null,
   "metadata": {
    "collapsed": true
   },
   "outputs": [],
   "source": []
  },
  {
   "cell_type": "markdown",
   "metadata": {},
   "source": [
    "- What is $p(X_1 = 1 \\mid Y = 0)$"
   ]
  },
  {
   "cell_type": "code",
   "execution_count": null,
   "metadata": {
    "collapsed": true
   },
   "outputs": [],
   "source": []
  },
  {
   "cell_type": "markdown",
   "metadata": {
    "scrolled": true
   },
   "source": [
    "- What is $p(X_1 = 1 \\mid Y = 1)$"
   ]
  },
  {
   "cell_type": "code",
   "execution_count": null,
   "metadata": {
    "collapsed": true
   },
   "outputs": [],
   "source": []
  },
  {
   "cell_type": "markdown",
   "metadata": {},
   "source": [
    "- What is $p(X_2 = 1 \\mid Y = 0)$"
   ]
  },
  {
   "cell_type": "code",
   "execution_count": null,
   "metadata": {
    "collapsed": true
   },
   "outputs": [],
   "source": []
  },
  {
   "cell_type": "markdown",
   "metadata": {},
   "source": [
    "- What is $p(Y \\mid X_1 = 1, X_2 = 0)$"
   ]
  },
  {
   "cell_type": "code",
   "execution_count": null,
   "metadata": {
    "collapsed": true
   },
   "outputs": [],
   "source": []
  },
  {
   "cell_type": "markdown",
   "metadata": {},
   "source": [
    "Let us say the probability of shortage in electricity and oil is as follow:\n",
    "\n",
    "$p(E) = 15 \\%$, $p(O) = 10 \\%$\n",
    "\n",
    "dependece among variables:\n",
    "\n",
    "$p(E \\mid O) = 2p(E) = 30 \\%$\n",
    "\n",
    "Compute $p(E,O), p(E,\\not O), p(\\not E, O), p(\\not E, \\not O)$\n",
    "\n",
    "$p(\\not E, \\not O) = p(\\not O) - p(E, \\not O)$\n",
    "\n",
    "$p_f = 1 - p(\\not E, \\not O)$"
   ]
  },
  {
   "cell_type": "code",
   "execution_count": null,
   "metadata": {
    "collapsed": true
   },
   "outputs": [],
   "source": []
  },
  {
   "cell_type": "markdown",
   "metadata": {},
   "source": [
    "If we have another option, e.g. Gas\n",
    "\n",
    "$p(G) = 20 \\%$\n",
    "\n",
    "and Gas in independent of other two\n",
    "\n",
    "$p(\\not G, \\not E, \\not O) = p(\\not E, \\not O) p(\\not G)$"
   ]
  },
  {
   "cell_type": "code",
   "execution_count": null,
   "metadata": {
    "collapsed": true
   },
   "outputs": [],
   "source": []
  },
  {
   "cell_type": "markdown",
   "metadata": {},
   "source": [
    "The weight $x$ applied to a structure is modeled by a log-normal distribution, with mean $20 KN$ and coefficient of variation $\\delta = 50 \\%$\n",
    "\n",
    "- Find parameters $(\\mu, \\sigma)$ of the distribution\n",
    "- What is the probability that $x$ is in the range $10 KN$ and $40 KN$?"
   ]
  },
  {
   "cell_type": "code",
   "execution_count": 13,
   "metadata": {
    "collapsed": true
   },
   "outputs": [],
   "source": [
    "from scipy.stats import norm"
   ]
  },
  {
   "cell_type": "markdown",
   "metadata": {},
   "source": [
    "$F_x(x) = \\Phi (\\frac{x-\\mu}{\\sigma})$"
   ]
  },
  {
   "cell_type": "code",
   "execution_count": null,
   "metadata": {
    "collapsed": true
   },
   "outputs": [],
   "source": []
  },
  {
   "cell_type": "markdown",
   "metadata": {},
   "source": [
    "What is the probability of $x$ being negative? Why this happens?"
   ]
  },
  {
   "cell_type": "code",
   "execution_count": null,
   "metadata": {
    "collapsed": true
   },
   "outputs": [],
   "source": []
  },
  {
   "cell_type": "markdown",
   "metadata": {},
   "source": [
    "# Real data exploration"
   ]
  },
  {
   "cell_type": "code",
   "execution_count": 18,
   "metadata": {
    "collapsed": true
   },
   "outputs": [],
   "source": [
    "data = Table.read_table('bay_area_census_age.csv')\n"
   ]
  },
  {
   "cell_type": "code",
   "execution_count": null,
   "metadata": {
    "collapsed": true
   },
   "outputs": [],
   "source": []
  },
  {
   "cell_type": "markdown",
   "metadata": {},
   "source": [
    "Assume variable $X$ represents the population in our database:\n",
    "\n",
    "\n",
    "1. what is $p(X_\\text{female} \\geq X_\\text{male})$\n",
    "2. what is $p(X_\\text{female} \\geq X_\\text{male} \\mid \\text{county = 75})$\n",
    "3. what is $p(X_\\text{female} \\geq X_\\text{male} \\mid \\text{county = 75}, \\text{age} \\leq 24)$"
   ]
  },
  {
   "cell_type": "code",
   "execution_count": null,
   "metadata": {
    "collapsed": true
   },
   "outputs": [],
   "source": []
  },
  {
   "cell_type": "markdown",
   "metadata": {},
   "source": [
    "Let us do some statistics now:\n",
    "\n",
    "1. Compare the expected value of population for age group 20 to 24 years in county 1 and 75?\n",
    "2. What is 95% confidence interval question 1? \n",
    "\n",
    "note: 95% confidence interval for variable $X$ is defined as:\n",
    "\n",
    "$[\\mathbf{E}[X] - 2 \\sigma_X, \\mathbf{E}[X] + 2 \\sigma_X]$"
   ]
  },
  {
   "cell_type": "code",
   "execution_count": null,
   "metadata": {
    "collapsed": true
   },
   "outputs": [],
   "source": []
  }
 ],
 "metadata": {
  "kernelspec": {
   "display_name": "Python 3",
   "language": "python",
   "name": "python3"
  },
  "language_info": {
   "codemirror_mode": {
    "name": "ipython",
    "version": 3
   },
   "file_extension": ".py",
   "mimetype": "text/x-python",
   "name": "python",
   "nbconvert_exporter": "python",
   "pygments_lexer": "ipython3",
   "version": "3.6.1"
  },
  "varInspector": {
   "cols": {
    "lenName": 16,
    "lenType": 16,
    "lenVar": 40
   },
   "kernels_config": {
    "python": {
     "delete_cmd_postfix": "",
     "delete_cmd_prefix": "del ",
     "library": "var_list.py",
     "varRefreshCmd": "print(var_dic_list())"
    },
    "r": {
     "delete_cmd_postfix": ") ",
     "delete_cmd_prefix": "rm(",
     "library": "var_list.r",
     "varRefreshCmd": "cat(var_dic_list()) "
    }
   },
   "position": {
    "height": "602px",
    "left": "717px",
    "right": "20px",
    "top": "98px",
    "width": "536px"
   },
   "types_to_exclude": [
    "module",
    "function",
    "builtin_function_or_method",
    "instance",
    "_Feature"
   ],
   "window_display": false
  }
 },
 "nbformat": 4,
 "nbformat_minor": 1
}
