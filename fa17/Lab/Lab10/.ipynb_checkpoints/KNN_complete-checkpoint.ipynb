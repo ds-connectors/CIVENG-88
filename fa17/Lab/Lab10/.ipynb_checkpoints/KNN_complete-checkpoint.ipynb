{
 "cells": [
  {
   "cell_type": "markdown",
   "metadata": {},
   "source": [
    "### CE88: Data Science for Smart Cities - 11/13/17\n",
    "\n",
    "# *kNN: Transportation forecasting*\n",
    "\n",
    "In this lab session, we will analyze mode choice as a function of ***delta_travel_time***, and ***delta_travel_cost***, the difference in travel time and cost between the transit travel option and the driving travel option. We will build a method to predict the travel mode for a trip based on the travel mode of the \"nearest neighbors\". "
   ]
  },
  {
   "cell_type": "code",
   "execution_count": 1,
   "metadata": {
    "collapsed": true
   },
   "outputs": [],
   "source": [
    "from datascience import *\n",
    "import numpy as np\n",
    "import matplotlib.pyplot as plt\n",
    "import warnings\n",
    "warnings.filterwarnings('ignore')\n",
    "%matplotlib inline"
   ]
  },
  {
   "cell_type": "code",
   "execution_count": 2,
   "metadata": {},
   "outputs": [
    {
     "data": {
      "text/html": [
       "<table border=\"1\" class=\"dataframe\">\n",
       "    <thead>\n",
       "        <tr>\n",
       "            <th>observation_id</th> <th>choice</th> <th>total_travel_time_walk_transit_walk</th> <th>total_travel_time_drive_alone</th> <th>total_travel_cost_walk_transit_walk</th> <th>total_travel_cost_drive_alone</th>\n",
       "        </tr>\n",
       "    </thead>\n",
       "    <tbody>\n",
       "        <tr>\n",
       "            <td>1             </td> <td>drive_alone      </td> <td>83.56                              </td> <td>20.97                        </td> <td>5.84                               </td> <td>1.6817                       </td>\n",
       "        </tr>\n",
       "    </tbody>\n",
       "        <tr>\n",
       "            <td>2             </td> <td>drive_alone      </td> <td>87.38                              </td> <td>22.16                        </td> <td>4.83                               </td> <td>1.6817                       </td>\n",
       "        </tr>\n",
       "    </tbody>\n",
       "        <tr>\n",
       "            <td>7             </td> <td>drive_alone      </td> <td>86.89                              </td> <td>32.07                        </td> <td>3.22                               </td> <td>1.7501                       </td>\n",
       "        </tr>\n",
       "    </tbody>\n",
       "        <tr>\n",
       "            <td>9             </td> <td>walk_transit_walk</td> <td>54.13                              </td> <td>21.93                        </td> <td>3.22                               </td> <td>0.9                          </td>\n",
       "        </tr>\n",
       "    </tbody>\n",
       "        <tr>\n",
       "            <td>11            </td> <td>drive_alone      </td> <td>49.12                              </td> <td>22.33                        </td> <td>3.22                               </td> <td>0.8334                       </td>\n",
       "        </tr>\n",
       "    </tbody>\n",
       "        <tr>\n",
       "            <td>15            </td> <td>walk_transit_walk</td> <td>50.26                              </td> <td>13.87                        </td> <td>3.22                               </td> <td>0.7244                       </td>\n",
       "        </tr>\n",
       "    </tbody>\n",
       "        <tr>\n",
       "            <td>16            </td> <td>walk_transit_walk</td> <td>50.26                              </td> <td>13.87                        </td> <td>3.22                               </td> <td>0.7244                       </td>\n",
       "        </tr>\n",
       "    </tbody>\n",
       "        <tr>\n",
       "            <td>17            </td> <td>walk_transit_walk</td> <td>66.25                              </td> <td>22.39                        </td> <td>3.22                               </td> <td>1.4599                       </td>\n",
       "        </tr>\n",
       "    </tbody>\n",
       "        <tr>\n",
       "            <td>18            </td> <td>walk_transit_walk</td> <td>64.2                               </td> <td>21.11                        </td> <td>3.22                               </td> <td>1.0441                       </td>\n",
       "        </tr>\n",
       "    </tbody>\n",
       "        <tr>\n",
       "            <td>19            </td> <td>walk_transit_walk</td> <td>161                                </td> <td>24.02                        </td> <td>3.22                               </td> <td>1.8462                       </td>\n",
       "        </tr>\n",
       "    </tbody>\n",
       "</table>\n",
       "<p>... (298 rows omitted)</p"
      ],
      "text/plain": [
       "observation_id | choice            | total_travel_time_walk_transit_walk | total_travel_time_drive_alone | total_travel_cost_walk_transit_walk | total_travel_cost_drive_alone\n",
       "1              | drive_alone       | 83.56                               | 20.97                         | 5.84                                | 1.6817\n",
       "2              | drive_alone       | 87.38                               | 22.16                         | 4.83                                | 1.6817\n",
       "7              | drive_alone       | 86.89                               | 32.07                         | 3.22                                | 1.7501\n",
       "9              | walk_transit_walk | 54.13                               | 21.93                         | 3.22                                | 0.9\n",
       "11             | drive_alone       | 49.12                               | 22.33                         | 3.22                                | 0.8334\n",
       "15             | walk_transit_walk | 50.26                               | 13.87                         | 3.22                                | 0.7244\n",
       "16             | walk_transit_walk | 50.26                               | 13.87                         | 3.22                                | 0.7244\n",
       "17             | walk_transit_walk | 66.25                               | 22.39                         | 3.22                                | 1.4599\n",
       "18             | walk_transit_walk | 64.2                                | 21.11                         | 3.22                                | 1.0441\n",
       "19             | walk_transit_walk | 161                                 | 24.02                         | 3.22                                | 1.8462\n",
       "... (298 rows omitted)"
      ]
     },
     "execution_count": 2,
     "metadata": {},
     "output_type": "execute_result"
    }
   ],
   "source": [
    "mc = Table.read_table('modechoice_training_raw.csv')\n",
    "mc"
   ]
  },
  {
   "cell_type": "markdown",
   "metadata": {},
   "source": [
    "# 1. Data processing\n",
    "## 1.1 Compare drive vs. transit travel time/cost\n",
    "\n",
    "We compute the ***delta_travel_time*** and ***delta_travel_cost*** for trips where choice = transit and where choice = drive. "
   ]
  },
  {
   "cell_type": "code",
   "execution_count": 3,
   "metadata": {
    "collapsed": true
   },
   "outputs": [],
   "source": [
    "# From transit_drive_avail, store the rows where the mode 'choice' is 'walk_transit_walk'\n",
    "# in a table called took_transit\n",
    "took_transit = mc.where('choice','walk_transit_walk')\n",
    "\n",
    "# from transit_drive_avail, store the rows where the selected mode 'choice' is 'drive_alone'\n",
    "drove = mc.where('choice','drive_alone')\n",
    "\n",
    "# Compute the difference in travel time (the 'total_travel_time_walk_transit_walk' column-\n",
    "# the 'total_travel_time_drive_alone' column) for people who took transit.\n",
    "chose_wtw_tt_delta = (took_transit.column('total_travel_time_walk_transit_walk')-\n",
    "                      took_transit.column('total_travel_time_drive_alone'))\n",
    "\n",
    "# Compute the difference in travel time (the 'total_travel_time_walk_transit_walk' column-\n",
    "# the 'total_travel_time_drive_alone' column) for people who drove.\n",
    "chose_drive_tt_delta = (drove.column('total_travel_time_walk_transit_walk')-\n",
    "                        drove.column('total_travel_time_drive_alone'))\n",
    "\n",
    "# Compute the cost delta for transit cost vs. drive alone cost for people who took tranist\n",
    "chose_wtw_cost_delta = (took_transit.column('total_travel_cost_walk_transit_walk')\n",
    "                        -took_transit.column('total_travel_cost_drive_alone'))\n",
    "\n",
    "# Compute the cost delta for transit cost vs. drive alone cost for people who drove\n",
    "chose_drive_cost_delta = (drove.column('total_travel_cost_walk_transit_walk')\n",
    "                          -drove.column('total_travel_cost_drive_alone'))"
   ]
  },
  {
   "cell_type": "markdown",
   "metadata": {},
   "source": [
    "## 1.2 Visualize the data\n",
    "Visualize the data to see what the data set looks like."
   ]
  },
  {
   "cell_type": "code",
   "execution_count": 4,
   "metadata": {},
   "outputs": [
    {
     "data": {
      "text/plain": [
       "<matplotlib.legend.Legend at 0x10d612ef0>"
      ]
     },
     "execution_count": 4,
     "metadata": {},
     "output_type": "execute_result"
    },
    {
     "data": {
      "image/png": "[encoded data removed]",
      "text/plain": [
       "<matplotlib.figure.Figure at 0x10d5823c8>"
      ]
     },
     "metadata": {},
     "output_type": "display_data"
    }
   ],
   "source": [
    "plt.scatter(chose_wtw_tt_delta, chose_wtw_cost_delta, color='blue', \n",
    "            alpha=.5, label = 'took transit')\n",
    "\n",
    "plt.scatter(chose_drive_tt_delta, chose_drive_cost_delta, color='green', alpha=.5, label = 'drove')\n",
    "\n",
    "plt.xlabel('delta travel time (min)')\n",
    "plt.ylabel('delta travel cost ($)')\n",
    "plt.legend(shadow=True)\n"
   ]
  },
  {
   "cell_type": "markdown",
   "metadata": {},
   "source": [
    "## 1.3 Build the input data table\n",
    "We need to build a table that contains the response variable (the thing we want to predict - in this case, whether someone will drive or not), and the inputs that will be used to predict the response variable (in this case ***delta_travel_time*** and ***delta_travel_cost***). "
   ]
  },
  {
   "cell_type": "code",
   "execution_count": 5,
   "metadata": {},
   "outputs": [
    {
     "data": {
      "text/html": [
       "<table border=\"1\" class=\"dataframe\">\n",
       "    <thead>\n",
       "        <tr>\n",
       "            <th>transit_time-drive_time</th> <th>transit_cost-drive_cost</th> <th>choice=drive</th>\n",
       "        </tr>\n",
       "    </thead>\n",
       "    <tbody>\n",
       "        <tr>\n",
       "            <td>62.59                  </td> <td>4.1583                 </td> <td>1           </td>\n",
       "        </tr>\n",
       "    </tbody>\n",
       "        <tr>\n",
       "            <td>65.22                  </td> <td>3.1483                 </td> <td>1           </td>\n",
       "        </tr>\n",
       "    </tbody>\n",
       "        <tr>\n",
       "            <td>54.82                  </td> <td>1.4699                 </td> <td>1           </td>\n",
       "        </tr>\n",
       "    </tbody>\n",
       "        <tr>\n",
       "            <td>26.79                  </td> <td>2.3866                 </td> <td>1           </td>\n",
       "        </tr>\n",
       "    </tbody>\n",
       "        <tr>\n",
       "            <td>41.49                  </td> <td>2.5436                 </td> <td>1           </td>\n",
       "        </tr>\n",
       "    </tbody>\n",
       "        <tr>\n",
       "            <td>57.78                  </td> <td>2.004                  </td> <td>1           </td>\n",
       "        </tr>\n",
       "    </tbody>\n",
       "        <tr>\n",
       "            <td>94.82                  </td> <td>0.1838                 </td> <td>1           </td>\n",
       "        </tr>\n",
       "    </tbody>\n",
       "        <tr>\n",
       "            <td>13.38                  </td> <td>2.8282                 </td> <td>1           </td>\n",
       "        </tr>\n",
       "    </tbody>\n",
       "        <tr>\n",
       "            <td>68.36                  </td> <td>2.394                  </td> <td>1           </td>\n",
       "        </tr>\n",
       "    </tbody>\n",
       "        <tr>\n",
       "            <td>32.56                  </td> <td>2.2979                 </td> <td>1           </td>\n",
       "        </tr>\n",
       "    </tbody>\n",
       "</table>\n",
       "<p>... (298 rows omitted)</p"
      ],
      "text/plain": [
       "transit_time-drive_time | transit_cost-drive_cost | choice=drive\n",
       "62.59                   | 4.1583                  | 1\n",
       "65.22                   | 3.1483                  | 1\n",
       "54.82                   | 1.4699                  | 1\n",
       "26.79                   | 2.3866                  | 1\n",
       "41.49                   | 2.5436                  | 1\n",
       "57.78                   | 2.004                   | 1\n",
       "94.82                   | 0.1838                  | 1\n",
       "13.38                   | 2.8282                  | 1\n",
       "68.36                   | 2.394                   | 1\n",
       "32.56                   | 2.2979                  | 1\n",
       "... (298 rows omitted)"
      ]
     },
     "execution_count": 5,
     "metadata": {},
     "output_type": "execute_result"
    }
   ],
   "source": [
    "# First create a table that contains the inputs of choice = drive alone\n",
    "input_table = Table().with_columns('transit_time-drive_time', chose_drive_tt_delta,\n",
    "                                   'transit_cost-drive_cost', chose_drive_cost_delta,\n",
    "                                   'choice=drive',1)\n",
    "\n",
    "# And create a table that contains the inputs of choice = walk transit walk\n",
    "transit_input_table = Table().with_columns('transit_time-drive_time', chose_wtw_tt_delta,\n",
    "                                           'transit_cost-drive_cost', chose_wtw_cost_delta,\n",
    "                                           'choice=drive',0)\n",
    "# Then merge the tables\n",
    "input_table.append(transit_input_table)"
   ]
  },
  {
   "cell_type": "markdown",
   "metadata": {},
   "source": [
    "## 1.4 Normalize the data.\n",
    "If the input data columns are all in the same units, then we're good to go, but if they are in different units, i.e one column contains travel time in minutes and another column contains travel cost in dollars, a distance measure doesn't make a lot of sense. Instead we normalize the data and for every column. The \"units\" of the normalized data is how many standard deviations the data point is from the mean. I have built a norm() helper function to normalize the data. Later we will use the transform function to modify a new point that we want to predict in the same that we have modified the other points."
   ]
  },
  {
   "cell_type": "code",
   "execution_count": 6,
   "metadata": {
    "collapsed": true
   },
   "outputs": [],
   "source": [
    "def norm(data):\n",
    "    x_minus_mean = data - np.mean(data)\n",
    "    x_norm = x_minus_mean/np.std(data)\n",
    "    return x_norm\n",
    "\n",
    "def transform(to_predict, data):\n",
    "    return (to_predict - np.mean(data))/np.std(data)\n",
    "\n",
    "\n",
    "# Your task: create two new columns in the table, one called 'normed_transit_time-drive_time', \n",
    "#            another called 'normed_transit_cost-drive_cost'. The values in these two columns should be\n",
    "#            the normalized values of 'transit_time-drive_time' and 'transit_cost-drive_cost'. Use the\n",
    "#            norm() function above to help you out:\n",
    "\n",
    "#Answer key:\n",
    "input_table['normed_transit_time-drive_time'] = norm(input_table['transit_time-drive_time'])\n",
    "input_table['normed_transit_cost-drive_cost'] = norm(input_table['transit_cost-drive_cost'])"
   ]
  },
  {
   "cell_type": "markdown",
   "metadata": {},
   "source": [
    "# 2. Build a classifier\n",
    "\n",
    "\n",
    "## 2.1 Determine a distance function\n",
    "Since we need to identify the nearest neighbors, we first need to choose a distance function. In this case we will use a euclidean distance function.\n",
    "\n",
    "The euclidean distance between two points x=(x1,x2) and y=(y1,y2) is determined as\n",
    "$ \\sqrt{(x_1-y_1)^2 + (x_2-y_2)^2} $"
   ]
  },
  {
   "cell_type": "code",
   "execution_count": 7,
   "metadata": {},
   "outputs": [
    {
     "name": "stdout",
     "output_type": "stream",
     "text": [
      "[ 1.          1.          1.41421356]\n",
      "[ 1.          1.41421356  1.        ]\n"
     ]
    }
   ],
   "source": [
    "def distance(x, y):\n",
    "    #Your task: complete the function that returns an array of \n",
    "    #           the euclidean distance between each element of x and y\n",
    "    #           where x and y are multi-dimensional arrays\n",
    "    #           consisting of the coordinates of points\n",
    "    #           e.g., x = [[0,0],[1,0],[1,1]], y = [[1,0],[0,0],[0,0]]\n",
    "    #(HINT: use np.sqrt() to get a squared root)\n",
    "    # Answer key:\n",
    "    return np.sqrt(np.sum((x-y)**2,1))\n",
    "\n",
    "# Verify your function:\n",
    "x = np.array([[0,0],[1,0],[1,1]])\n",
    "y = np.array([[1,0],[0,0],[0,0]])\n",
    "print(distance(x, y)) # This must print: [ 1. 1. 1.41421356]\n",
    "\n",
    "# This should also work with a single point...\n",
    "x = [0,0]\n",
    "y = np.array([[1,0],[1,1],[0,1]])\n",
    "print(distance(x, y)) # This must print: [ 1. 1.41421356  1.]"
   ]
  },
  {
   "cell_type": "markdown",
   "metadata": {},
   "source": [
    "## 2.2 Determine a function to find the k nearest points"
   ]
  },
  {
   "cell_type": "code",
   "execution_count": 8,
   "metadata": {},
   "outputs": [
    {
     "name": "stdout",
     "output_type": "stream",
     "text": [
      "result of np.argsort([1,3,2]): [0 2 1]\n",
      "result of np.bincount([0,1,1,0,0,0]): [4 2]\n"
     ]
    }
   ],
   "source": [
    "def predict(input_table, to_predict, k, return_kneighbor_inds=True):\n",
    "    '''\n",
    "    to_predict: A single input data point. It should contain one value \n",
    "       for each of the columns in the input_data table.\n",
    "    return_kneighbor_inds: boolean. If True, return the indices of the\n",
    "        nearest neighbors from the input table, otherwise, only the \n",
    "        majority category of the k-nearest neighbors is returned.\n",
    "    '''\n",
    "\n",
    "    # Your task: get input data as a multi-demensional array that has two columns: \n",
    "    #           'normed_transit_time-drive_time' and 'normed_transit_cost-drive_cost'\n",
    "    # (HINT: use \"Table.values\" to convert a Table to an array)\n",
    "    # Answer key:\n",
    "    input_data = input_table.select(['normed_transit_time-drive_time','normed_transit_cost-drive_cost']).values\n",
    "\n",
    "    # Your task: get distance between input_data to to_predict\n",
    "    # Answer key:\n",
    "    dists = distance(to_predict, input_data)\n",
    "\n",
    "    # Your task: get indices of k nearest points\n",
    "    # (HINT: use np.argsort(array) to get an index array of values sorted in ascending order)\n",
    "    # Answer Key:\n",
    "    inds = np.argsort(dists)[0:k]\n",
    "\n",
    "    # Your task: return the most common response among the neighbors\n",
    "    # (HINT: use np.bincount() to get an array of counts of duplicated elements))\n",
    "    most_common_response = np.argmax(np.bincount(input_table['choice=drive'][inds]))\n",
    "    \n",
    "    if return_kneighbor_inds:\n",
    "        print('responses: ' + str(input_table['choice=drive'][inds]))\n",
    "        print('counts: ' + str(np.bincount(input_table['choice=drive'][inds])))\n",
    "        return most_common_response, inds\n",
    "    return most_common_response\n",
    "\n",
    "# Example of np.argsort()\n",
    "print(\"result of np.argsort([1,3,2]): \" + str(np.argsort([1,3,2])))\n",
    "\n",
    "# Example of np.bincount():\n",
    "print(\"result of np.bincount([0,1,1,0,0,0]): \" + str(np.bincount([0,1,1,0,0,0])))"
   ]
  },
  {
   "cell_type": "markdown",
   "metadata": {},
   "source": [
    "## 2.3 Prediction example"
   ]
  },
  {
   "cell_type": "markdown",
   "metadata": {},
   "source": [
    "### 2.3a Prediction"
   ]
  },
  {
   "cell_type": "code",
   "execution_count": 9,
   "metadata": {},
   "outputs": [
    {
     "name": "stdout",
     "output_type": "stream",
     "text": [
      "normed_to_predict: [-1.1612124055238295, -0.14820104900504455]\n",
      "responses: [0 0 0 0 0]\n",
      "counts: [5]\n",
      "Based on the k=5 nearest neighbors, the predicted travel mode is take transit\n"
     ]
    }
   ],
   "source": [
    "# Determine k\n",
    "k = 5\n",
    "\n",
    "# Set to_predict =[25,1.5] This means we are predicting the travel mode of a trip with \n",
    "# delta_travel_time = 25 min, delta_travel_cost = 1.5\n",
    "to_predict = [25,1.5]\n",
    "\n",
    "#transform the first element of this point to find out how many standard deviations \n",
    "#the delta_travel_time is from the mean. Do the same for delta_travel_cost\n",
    "normed_to_predict = [transform(to_predict[0],input_table['transit_time-drive_time']),\n",
    "                     transform(to_predict[1],input_table['transit_cost-drive_cost'])]\n",
    "print('normed_to_predict: ' + str(normed_to_predict))\n",
    "\n",
    "\n",
    "prediction, nn_inds = predict(input_table, normed_to_predict, k, True)\n",
    "predicted_travel_mode = 'drive' if prediction ==1 else 'take transit'\n",
    "\n",
    "print ('Based on the k=%d nearest neighbors, the predicted travel mode is %s' %(k,predicted_travel_mode))"
   ]
  },
  {
   "cell_type": "markdown",
   "metadata": {},
   "source": [
    "### 2.3b Verify results\n",
    "Make sure we are actually locating the nearest neighbors. In the cell below we use the Table take() method to see which rows have been identied as nearest neighbors. Take a look at the values and confirm that they are similar to the values of the to_predict point. "
   ]
  },
  {
   "cell_type": "code",
   "execution_count": 10,
   "metadata": {},
   "outputs": [
    {
     "data": {
      "text/html": [
       "<table border=\"1\" class=\"dataframe\">\n",
       "    <thead>\n",
       "        <tr>\n",
       "            <th>transit_time-drive_time</th> <th>transit_cost-drive_cost</th> <th>choice=drive</th> <th>normed_transit_time-drive_time</th> <th>normed_transit_cost-drive_cost</th>\n",
       "        </tr>\n",
       "    </thead>\n",
       "    <tbody>\n",
       "        <tr>\n",
       "            <td>25.81                  </td> <td>1.5818                 </td> <td>0           </td> <td>-1.1306                       </td> <td>-0.0898501                    </td>\n",
       "        </tr>\n",
       "    </tbody>\n",
       "        <tr>\n",
       "            <td>30.01                  </td> <td>1.494                  </td> <td>0           </td> <td>-0.971883                     </td> <td>-0.152481                     </td>\n",
       "        </tr>\n",
       "    </tbody>\n",
       "        <tr>\n",
       "            <td>21.05                  </td> <td>1.7231                 </td> <td>0           </td> <td>-1.31048                      </td> <td>0.0109444                     </td>\n",
       "        </tr>\n",
       "    </tbody>\n",
       "        <tr>\n",
       "            <td>31.12                  </td> <td>1.4673                 </td> <td>0           </td> <td>-0.929936                     </td> <td>-0.171527                     </td>\n",
       "        </tr>\n",
       "    </tbody>\n",
       "        <tr>\n",
       "            <td>27.35                  </td> <td>1.8525                 </td> <td>0           </td> <td>-1.07241                      </td> <td>0.10325                       </td>\n",
       "        </tr>\n",
       "    </tbody>\n",
       "</table>"
      ],
      "text/plain": [
       "transit_time-drive_time | transit_cost-drive_cost | choice=drive | normed_transit_time-drive_time | normed_transit_cost-drive_cost\n",
       "25.81                   | 1.5818                  | 0            | -1.1306                        | -0.0898501\n",
       "30.01                   | 1.494                   | 0            | -0.971883                      | -0.152481\n",
       "21.05                   | 1.7231                  | 0            | -1.31048                       | 0.0109444\n",
       "31.12                   | 1.4673                  | 0            | -0.929936                      | -0.171527\n",
       "27.35                   | 1.8525                  | 0            | -1.07241                       | 0.10325"
      ]
     },
     "execution_count": 10,
     "metadata": {},
     "output_type": "execute_result"
    }
   ],
   "source": [
    "input_table.take[nn_inds]"
   ]
  },
  {
   "cell_type": "markdown",
   "metadata": {},
   "source": [
    "### 2.3c Visualize the nearest neighbors\n",
    "Below is the same scatter poing that we plotted above, but now we have added a black dot for the to_predict point, and added red circles to identify the nearest neighbors to the observed point."
   ]
  },
  {
   "cell_type": "code",
   "execution_count": 11,
   "metadata": {},
   "outputs": [
    {
     "data": {
      "text/plain": [
       "<matplotlib.legend.Legend at 0x10d79bfd0>"
      ]
     },
     "execution_count": 11,
     "metadata": {},
     "output_type": "execute_result"
    },
    {
     "data": {
      "image/png": "[encoded data removed]",
      "text/plain": [
       "<matplotlib.figure.Figure at 0x10d6eada0>"
      ]
     },
     "metadata": {},
     "output_type": "display_data"
    }
   ],
   "source": [
    "plt.figure(figsize=(12,8))\n",
    "\n",
    "nn_to_plot = input_table.take[nn_inds]\n",
    "\n",
    "plt.scatter(chose_wtw_tt_delta, chose_wtw_cost_delta, color='blue', \n",
    "            alpha=.5, label = 'took transit')\n",
    "plt.scatter(chose_drive_tt_delta, chose_drive_cost_delta, color='green', \n",
    "            alpha=.5, label = 'drove')\n",
    "plt.scatter(nn_to_plot['transit_time-drive_time'], nn_to_plot['transit_cost-drive_cost'], \n",
    "            facecolors='none', edgecolors='red', label = 'nearest neighbors')\n",
    "plt.scatter([to_predict[0]],[to_predict[1]], color='black', label = 'to_predict')\n",
    "\n",
    "plt.xlabel('delta travel time (min)')\n",
    "plt.ylabel('delta travel cost ($)')\n",
    "plt.legend(shadow=True)"
   ]
  },
  {
   "cell_type": "markdown",
   "metadata": {},
   "source": [
    "## 3.4 Classification accuracy"
   ]
  },
  {
   "cell_type": "markdown",
   "metadata": {},
   "source": [
    "### 3.4a Load training dataset\n",
    "We already processed the testing dataset as we did for the training dataset."
   ]
  },
  {
   "cell_type": "code",
   "execution_count": 12,
   "metadata": {},
   "outputs": [
    {
     "data": {
      "text/html": [
       "<table border=\"1\" class=\"dataframe\">\n",
       "    <thead>\n",
       "        <tr>\n",
       "            <th>transit_time-drive_time</th> <th>transit_cost-drive_cost</th> <th>choice=drive</th> <th>normed_transit_time-drive_time</th> <th>normed_transit_cost-drive_cost</th>\n",
       "        </tr>\n",
       "    </thead>\n",
       "    <tbody>\n",
       "        <tr>\n",
       "            <td>52.97                  </td> <td>2.1071                 </td> <td>1           </td> <td>-0.16279                      </td> <td>0.372703                      </td>\n",
       "        </tr>\n",
       "    </tbody>\n",
       "        <tr>\n",
       "            <td>47.96                  </td> <td>1.8857                 </td> <td>1           </td> <td>-0.328026                     </td> <td>0.229221                      </td>\n",
       "        </tr>\n",
       "    </tbody>\n",
       "        <tr>\n",
       "            <td>37.95                  </td> <td>3.0421                 </td> <td>1           </td> <td>-0.658168                     </td> <td>0.978644                      </td>\n",
       "        </tr>\n",
       "    </tbody>\n",
       "        <tr>\n",
       "            <td>23.99                  </td> <td>2.599                  </td> <td>1           </td> <td>-1.11859                      </td> <td>0.691486                      </td>\n",
       "        </tr>\n",
       "    </tbody>\n",
       "        <tr>\n",
       "            <td>38.33                  </td> <td>2.381                  </td> <td>1           </td> <td>-0.645635                     </td> <td>0.550208                      </td>\n",
       "        </tr>\n",
       "    </tbody>\n",
       "        <tr>\n",
       "            <td>17.52                  </td> <td>2.381                  </td> <td>1           </td> <td>-1.33197                      </td> <td>0.550208                      </td>\n",
       "        </tr>\n",
       "    </tbody>\n",
       "        <tr>\n",
       "            <td>114.2                  </td> <td>0.995                  </td> <td>1           </td> <td>1.85665                       </td> <td>-0.34801                      </td>\n",
       "        </tr>\n",
       "    </tbody>\n",
       "        <tr>\n",
       "            <td>100.38                 </td> <td>0.8841                 </td> <td>1           </td> <td>1.40085                       </td> <td>-0.419881                     </td>\n",
       "        </tr>\n",
       "    </tbody>\n",
       "        <tr>\n",
       "            <td>45.79                  </td> <td>2.1556                 </td> <td>1           </td> <td>-0.399595                     </td> <td>0.404134                      </td>\n",
       "        </tr>\n",
       "    </tbody>\n",
       "        <tr>\n",
       "            <td>48.43                  </td> <td>1.7324                 </td> <td>1           </td> <td>-0.312525                     </td> <td>0.129873                      </td>\n",
       "        </tr>\n",
       "    </tbody>\n",
       "</table>\n",
       "<p>... (84 rows omitted)</p"
      ],
      "text/plain": [
       "transit_time-drive_time | transit_cost-drive_cost | choice=drive | normed_transit_time-drive_time | normed_transit_cost-drive_cost\n",
       "52.97                   | 2.1071                  | 1            | -0.16279                       | 0.372703\n",
       "47.96                   | 1.8857                  | 1            | -0.328026                      | 0.229221\n",
       "37.95                   | 3.0421                  | 1            | -0.658168                      | 0.978644\n",
       "23.99                   | 2.599                   | 1            | -1.11859                       | 0.691486\n",
       "38.33                   | 2.381                   | 1            | -0.645635                      | 0.550208\n",
       "17.52                   | 2.381                   | 1            | -1.33197                       | 0.550208\n",
       "114.2                   | 0.995                   | 1            | 1.85665                        | -0.34801\n",
       "100.38                  | 0.8841                  | 1            | 1.40085                        | -0.419881\n",
       "45.79                   | 2.1556                  | 1            | -0.399595                      | 0.404134\n",
       "48.43                   | 1.7324                  | 1            | -0.312525                      | 0.129873\n",
       "... (84 rows omitted)"
      ]
     },
     "execution_count": 12,
     "metadata": {},
     "output_type": "execute_result"
    }
   ],
   "source": [
    "# load training dataset\n",
    "test = Table.read_table('modechoice_testing_input.csv')\n",
    "test"
   ]
  },
  {
   "cell_type": "markdown",
   "metadata": {},
   "source": [
    "### 3.4b Predict testing datasets given training dataset and store the predictions in a new column"
   ]
  },
  {
   "cell_type": "code",
   "execution_count": 13,
   "metadata": {
    "scrolled": true
   },
   "outputs": [
    {
     "data": {
      "text/html": [
       "<table border=\"1\" class=\"dataframe\">\n",
       "    <thead>\n",
       "        <tr>\n",
       "            <th>transit_time-drive_time</th> <th>transit_cost-drive_cost</th> <th>choice=drive</th> <th>normed_transit_time-drive_time</th> <th>normed_transit_cost-drive_cost</th> <th>predicted</th>\n",
       "        </tr>\n",
       "    </thead>\n",
       "    <tbody>\n",
       "        <tr>\n",
       "            <td>52.97                  </td> <td>2.1071                 </td> <td>1           </td> <td>-0.16279                      </td> <td>0.372703                      </td> <td>1        </td>\n",
       "        </tr>\n",
       "    </tbody>\n",
       "        <tr>\n",
       "            <td>47.96                  </td> <td>1.8857                 </td> <td>1           </td> <td>-0.328026                     </td> <td>0.229221                      </td> <td>1        </td>\n",
       "        </tr>\n",
       "    </tbody>\n",
       "        <tr>\n",
       "            <td>37.95                  </td> <td>3.0421                 </td> <td>1           </td> <td>-0.658168                     </td> <td>0.978644                      </td> <td>0        </td>\n",
       "        </tr>\n",
       "    </tbody>\n",
       "        <tr>\n",
       "            <td>23.99                  </td> <td>2.599                  </td> <td>1           </td> <td>-1.11859                      </td> <td>0.691486                      </td> <td>0        </td>\n",
       "        </tr>\n",
       "    </tbody>\n",
       "        <tr>\n",
       "            <td>38.33                  </td> <td>2.381                  </td> <td>1           </td> <td>-0.645635                     </td> <td>0.550208                      </td> <td>1        </td>\n",
       "        </tr>\n",
       "    </tbody>\n",
       "        <tr>\n",
       "            <td>17.52                  </td> <td>2.381                  </td> <td>1           </td> <td>-1.33197                      </td> <td>0.550208                      </td> <td>0        </td>\n",
       "        </tr>\n",
       "    </tbody>\n",
       "        <tr>\n",
       "            <td>114.2                  </td> <td>0.995                  </td> <td>1           </td> <td>1.85665                       </td> <td>-0.34801                      </td> <td>1        </td>\n",
       "        </tr>\n",
       "    </tbody>\n",
       "        <tr>\n",
       "            <td>100.38                 </td> <td>0.8841                 </td> <td>1           </td> <td>1.40085                       </td> <td>-0.419881                     </td> <td>1        </td>\n",
       "        </tr>\n",
       "    </tbody>\n",
       "        <tr>\n",
       "            <td>45.79                  </td> <td>2.1556                 </td> <td>1           </td> <td>-0.399595                     </td> <td>0.404134                      </td> <td>0        </td>\n",
       "        </tr>\n",
       "    </tbody>\n",
       "        <tr>\n",
       "            <td>48.43                  </td> <td>1.7324                 </td> <td>1           </td> <td>-0.312525                     </td> <td>0.129873                      </td> <td>1        </td>\n",
       "        </tr>\n",
       "    </tbody>\n",
       "</table>\n",
       "<p>... (84 rows omitted)</p"
      ],
      "text/plain": [
       "transit_time-drive_time | transit_cost-drive_cost | choice=drive | normed_transit_time-drive_time | normed_transit_cost-drive_cost | predicted\n",
       "52.97                   | 2.1071                  | 1            | -0.16279                       | 0.372703                       | 1\n",
       "47.96                   | 1.8857                  | 1            | -0.328026                      | 0.229221                       | 1\n",
       "37.95                   | 3.0421                  | 1            | -0.658168                      | 0.978644                       | 0\n",
       "23.99                   | 2.599                   | 1            | -1.11859                       | 0.691486                       | 0\n",
       "38.33                   | 2.381                   | 1            | -0.645635                      | 0.550208                       | 1\n",
       "17.52                   | 2.381                   | 1            | -1.33197                       | 0.550208                       | 0\n",
       "114.2                   | 0.995                   | 1            | 1.85665                        | -0.34801                       | 1\n",
       "100.38                  | 0.8841                  | 1            | 1.40085                        | -0.419881                      | 1\n",
       "45.79                   | 2.1556                  | 1            | -0.399595                      | 0.404134                       | 0\n",
       "48.43                   | 1.7324                  | 1            | -0.312525                      | 0.129873                       | 1\n",
       "... (84 rows omitted)"
      ]
     },
     "execution_count": 13,
     "metadata": {},
     "output_type": "execute_result"
    }
   ],
   "source": [
    "# determine k\n",
    "k = 5\n",
    "\n",
    "# Your task: predict each row of test dataset with respect to \"normed_transit_time-drive_time\" \n",
    "#           and \"normed_transit_cost-drive_cost\" based on the training dataset, \"input_table\", \n",
    "#           and store the predictions in a new column \"predicted\" in the test table\n",
    "# (HINT: use Table.apply(lambda x,y: YOUR_FUNCTION_OF_(x,y), ['column1','column2']) that we learned in lab#2)\n",
    "\n",
    "# Answer key: \n",
    "test['predicted'] = test.apply(lambda time, cost: predict(input_table, [time, cost], k, False), \n",
    "                                ['normed_transit_time-drive_time','normed_transit_cost-drive_cost'])\n",
    "test"
   ]
  },
  {
   "cell_type": "markdown",
   "metadata": {},
   "source": [
    "### 3.4c Compute the accuracy"
   ]
  },
  {
   "cell_type": "code",
   "execution_count": 16,
   "metadata": {},
   "outputs": [
    {
     "name": "stdout",
     "output_type": "stream",
     "text": [
      "Prediction accuracy: 54.25531914893617%\n"
     ]
    }
   ],
   "source": [
    "# Your task: compute the accuracy of the predictions. \n",
    "# (HINT: use np.count_nonzero() to count correct predictions)\n",
    "\n",
    "# Answer key:\n",
    "accuracy = np.count_nonzero(test.column('choice=drive') == test.column('predicted'))/test.num_rows\n",
    "\n",
    "print(\"Prediction accuracy: \" + str(accuracy*100) + \"%\")"
   ]
  },
  {
   "cell_type": "markdown",
   "metadata": {},
   "source": [
    "### (Optional) IF time allows...\n",
    "\n",
    "### Questions:\n",
    "* What is the kNN predicted travel mode when delta_travel_time = 50, delta_travel_cost = 1.5 when we use... \n",
    " - 1 nearest neighbors to predict travel mode? \n",
    " - 3 nearest neighbors to predict travel mode? \n",
    " - 5 nearest neighbors to predict travel mode? \n",
    " - 10 nearest neighbors to predict travel mode? \n",
    " - 50 nearest neighbors to predict travel mode?\n",
    "\n",
    "\n",
    "\n",
    "* Describe in words the decision rule (how we decide the travel mode) for k-nearest neighbors when k=1?\n",
    "\n",
    "\n",
    "* Describe in words the decision rule (how we decide the travel mode) for k-nearest neighbors when k=10?\n",
    "\n",
    "\n",
    "* For the task of classifying travel mode, do you think it makes more sense to use k=1 or k=10?"
   ]
  },
  {
   "cell_type": "code",
   "execution_count": 15,
   "metadata": {
    "collapsed": true
   },
   "outputs": [],
   "source": [
    "# 1 nearest neighbor: would use transit\n",
    "# 3 nearest neighbors: would use transit \n",
    "# 5 nearest neighbors: would drive \n",
    "# 10 nearest neighbors: would drive\n",
    "# 50 nearest neighbors: would drive\n",
    "\n",
    "# Describe in words the decision rule (how we decide the travel mode) for k-nearest neighbors when k=1?\n",
    "# Take the travel mode of the one closest (most similar) data point - this is the predicted travel mode\n",
    "\n",
    "# Describe in words the decision rule (how we decide the travel mode) for k-nearest neighbors when k=10?\n",
    "# Take the travel mode of the 10 closest (most similar) data point - we predict the travel mode as the \n",
    "# majority vote of the 10 nearest neighbors. I.e. if more than half of the 10 neighbors drive, \n",
    "# predict dirve, otherwise predict transit.\n",
    "\n",
    "# For the task of classifying travel mode, do you think it makes more sense to use k=1 or k=10?\n",
    "# Probably 10 neighbors will give more stable answers, 1 Nearest Neighbot is susceptible to outliers\n",
    "# I.e. if one traveler happens to choose transit, despite having a high delta TT and high delta cost\n",
    "# if we only use 1 nearest neighbor, we would predict that other travelers with high delta TT and \n",
    "# high delta cost will also take transit, even though this result is counter-intuitive. Using 10\n",
    "# nearest neighbors is not as susceptible to outliers. "
   ]
  }
 ],
 "metadata": {
  "kernelspec": {
   "display_name": "Python [py36]",
   "language": "python",
   "name": "Python [py36]"
  },
  "language_info": {
   "codemirror_mode": {
    "name": "ipython",
    "version": 3
   },
   "file_extension": ".py",
   "mimetype": "text/x-python",
   "name": "python",
   "nbconvert_exporter": "python",
   "pygments_lexer": "ipython3",
   "version": "3.6.1"
  }
 },
 "nbformat": 4,
 "nbformat_minor": 2
}
