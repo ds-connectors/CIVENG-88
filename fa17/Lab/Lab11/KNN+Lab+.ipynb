{
 "cells": [
  {
   "cell_type": "markdown",
   "metadata": {},
   "source": [
    "# Classifying Iris flowers"
   ]
  },
  {
   "cell_type": "code",
   "execution_count": 1,
   "metadata": {},
   "outputs": [],
   "source": [
    "from datascience import *\n",
    "import numpy as np\n",
    "%matplotlib inline\n",
    "import matplotlib.pyplot as plots\n",
    "import warnings\n",
    "warnings.filterwarnings('ignore')\n",
    "plots.style.use('fivethirtyeight')"
   ]
  },
  {
   "cell_type": "markdown",
   "metadata": {},
   "source": [
    "We will be classifying Iris flowers using k nearest neighbors. For more information about the dataset : https://en.wikipedia.org/wiki/Iris_flower_data_set"
   ]
  },
  {
   "cell_type": "code",
   "execution_count": 282,
   "metadata": {},
   "outputs": [
    {
     "data": {
      "text/html": [
       "<table border=\"1\" class=\"dataframe\">\n",
       "    <thead>\n",
       "        <tr>\n",
       "            <th>sepal length in cm</th> <th> sepal width in cm</th> <th>petal length in cm</th> <th>petal width in cm</th> <th>Class</th>\n",
       "        </tr>\n",
       "    </thead>\n",
       "    <tbody>\n",
       "        <tr>\n",
       "            <td>7                 </td> <td>3.2               </td> <td>4.7               </td> <td>1.4              </td> <td>Iris-versicolor</td>\n",
       "        </tr>\n",
       "    </tbody>\n",
       "        <tr>\n",
       "            <td>6.4               </td> <td>3.2               </td> <td>4.5               </td> <td>1.5              </td> <td>Iris-versicolor</td>\n",
       "        </tr>\n",
       "    </tbody>\n",
       "        <tr>\n",
       "            <td>6.9               </td> <td>3.1               </td> <td>4.9               </td> <td>1.5              </td> <td>Iris-versicolor</td>\n",
       "        </tr>\n",
       "    </tbody>\n",
       "        <tr>\n",
       "            <td>5.5               </td> <td>2.3               </td> <td>5.5               </td> <td>1.7              </td> <td>Iris-versicolor</td>\n",
       "        </tr>\n",
       "    </tbody>\n",
       "        <tr>\n",
       "            <td>6.5               </td> <td>2.8               </td> <td>4.6               </td> <td>1.5              </td> <td>Iris-versicolor</td>\n",
       "        </tr>\n",
       "    </tbody>\n",
       "        <tr>\n",
       "            <td>5.7               </td> <td>2.8               </td> <td>4.5               </td> <td>1.3              </td> <td>Iris-versicolor</td>\n",
       "        </tr>\n",
       "    </tbody>\n",
       "        <tr>\n",
       "            <td>6.3               </td> <td>3.3               </td> <td>4.7               </td> <td>1.6              </td> <td>Iris-versicolor</td>\n",
       "        </tr>\n",
       "    </tbody>\n",
       "        <tr>\n",
       "            <td>4.9               </td> <td>2.4               </td> <td>3.3               </td> <td>1                </td> <td>Iris-versicolor</td>\n",
       "        </tr>\n",
       "    </tbody>\n",
       "        <tr>\n",
       "            <td>6.6               </td> <td>2.9               </td> <td>4.6               </td> <td>1.3              </td> <td>Iris-versicolor</td>\n",
       "        </tr>\n",
       "    </tbody>\n",
       "        <tr>\n",
       "            <td>5.2               </td> <td>2.7               </td> <td>3.9               </td> <td>1.4              </td> <td>Iris-versicolor</td>\n",
       "        </tr>\n",
       "    </tbody>\n",
       "</table>\n",
       "<p>... (90 rows omitted)</p"
      ],
      "text/plain": [
       "sepal length in cm |  sepal width in cm | petal length in cm | petal width in cm | Class\n",
       "7                  | 3.2                | 4.7                | 1.4               | Iris-versicolor\n",
       "6.4                | 3.2                | 4.5                | 1.5               | Iris-versicolor\n",
       "6.9                | 3.1                | 4.9                | 1.5               | Iris-versicolor\n",
       "5.5                | 2.3                | 5.5                | 1.7               | Iris-versicolor\n",
       "6.5                | 2.8                | 4.6                | 1.5               | Iris-versicolor\n",
       "5.7                | 2.8                | 4.5                | 1.3               | Iris-versicolor\n",
       "6.3                | 3.3                | 4.7                | 1.6               | Iris-versicolor\n",
       "4.9                | 2.4                | 3.3                | 1                 | Iris-versicolor\n",
       "6.6                | 2.9                | 4.6                | 1.3               | Iris-versicolor\n",
       "5.2                | 2.7                | 3.9                | 1.4               | Iris-versicolor\n",
       "... (90 rows omitted)"
      ]
     },
     "execution_count": 282,
     "metadata": {},
     "output_type": "execute_result"
    }
   ],
   "source": [
    "data = Table.read_table(\"Iris.csv\")\n",
    "data"
   ]
  },
  {
   "cell_type": "markdown",
   "metadata": {},
   "source": [
    "# Use a scatter plot to visualize data"
   ]
  },
  {
   "cell_type": "markdown",
   "metadata": {},
   "source": [
    "In this lab, you will choose which two flower characteristics you want to use for your classifier. Use the .scatter() method to make a scattergram of the two fields you have chosen."
   ]
  },
  {
   "cell_type": "code",
   "execution_count": null,
   "metadata": {
    "scrolled": true
   },
   "outputs": [],
   "source": [
    ""
   ]
  },
  {
   "cell_type": "markdown",
   "metadata": {},
   "source": [
    "# Split the data into a training set and a testing set"
   ]
  },
  {
   "cell_type": "markdown",
   "metadata": {},
   "source": [
    "When dealing with KNN classifiers, it is always a good idea to shuffle the values around to eliminate any bias in the order of the data inputs."
   ]
  },
  {
   "cell_type": "code",
   "execution_count": 284,
   "metadata": {},
   "outputs": [],
   "source": [
    "data = data.sample(with_replacement=False) #Shuffle"
   ]
  },
  {
   "cell_type": "markdown",
   "metadata": {},
   "source": [
    "Here are a couple of useful functions that you may find useful. flower_num takes in a flower name and returns a number associated with it (In this case 'Iris-versicolor' will return 0 and 'Iris-virginica' will return 1). flower_name reverses what flower_num does by returning what flower is associated with that number. These functions are useful if you want to transform the table from holding flower names to numbers that represent their type. If you don't think this is useful, you should move on and come back if you change your mind"
   ]
  },
  {
   "cell_type": "code",
   "execution_count": 285,
   "metadata": {},
   "outputs": [],
   "source": [
    "#####YOU MAY FIND THESE FUNCTIONS HELPFUL#####\n",
    "\n",
    "#Assigns a number to the flower based on it's type\n",
    "def flower_num(flower):\n",
    "    if flower == \"Iris-versicolor\":\n",
    "        return 0\n",
    "    elif flower == \"Iris-virginica\":\n",
    "        return 1\n",
    "    else:\n",
    "        print(\"Unknown flower\")\n",
    "\n",
    "#Reassigns the flower name based on its number\n",
    "def flower_name(number):\n",
    "    if number == 0:\n",
    "        return \"Iris-versicolor\"\n",
    "    elif number == 1:\n",
    "        return \"Iris-virginica\"\n",
    "    else:\n",
    "        print(\"Unknown flower\")\n",
    "\n",
    "# data[\"Class\"] = data.apply(num_rep, \"Class\")"
   ]
  },
  {
   "cell_type": "markdown",
   "metadata": {},
   "source": [
    "In order to build a classifier, you will need to split the data into a training set and a testing set. You may choose how to distribute the data, for example you may want to put 75 data points in the training set and 25 points in the testing set"
   ]
  },
  {
   "cell_type": "code",
   "execution_count": 286,
   "metadata": {},
   "outputs": [],
   "source": [
    "train = #Make training set\n",
    "test =  #Make test set"
   ]
  },
  {
   "cell_type": "markdown",
   "metadata": {},
   "source": [
    "# Classify the data"
   ]
  },
  {
   "cell_type": "markdown",
   "metadata": {},
   "source": [
    "It is recommended that you make a distance and predict function like you had in lab and apply it to your table. For this part of the lab you may choose the value of k (but remember to choose an odd number)"
   ]
  },
  {
   "cell_type": "code",
   "execution_count": null,
   "metadata": {},
   "outputs": [],
   "source": [
    ""
   ]
  },
  {
   "cell_type": "markdown",
   "metadata": {},
   "source": [
    "# Compute the accuracy of your predictor "
   ]
  },
  {
   "cell_type": "markdown",
   "metadata": {},
   "source": [
    "Note that this is a very ideal data set of KNN, so it is possible to get 1 or something close to 1"
   ]
  },
  {
   "cell_type": "code",
   "execution_count": null,
   "metadata": {},
   "outputs": [],
   "source": [
    ""
   ]
  },
  {
   "cell_type": "markdown",
   "metadata": {},
   "source": [
    "# Vary the value of K"
   ]
  },
  {
   "cell_type": "markdown",
   "metadata": {},
   "source": [
    "Reclassify the data, but this time using k+2, k+4, and k+6 where k is the k-value you chose in the previous part. Calculate the accuracy for each of these choices of k. If you wish, you can calculate k-2. k-4, k-6 for this section instead. Since this dataset is ideal for KNN, there may be little difference in these values, but it is important for the homework that you understand how to this. "
   ]
  },
  {
   "cell_type": "code",
   "execution_count": null,
   "metadata": {},
   "outputs": [],
   "source": [
    ""
   ]
  },
  {
   "cell_type": "code",
   "execution_count": null,
   "metadata": {},
   "outputs": [],
   "source": [
    ""
   ]
  },
  {
   "cell_type": "code",
   "execution_count": null,
   "metadata": {},
   "outputs": [],
   "source": [
    ""
   ]
  },
  {
   "cell_type": "markdown",
   "metadata": {},
   "source": [
    "# Plot the accuracies"
   ]
  },
  {
   "cell_type": "markdown",
   "metadata": {},
   "source": [
    "Make a line plot of all the accuracies you calculated in the last couple sections"
   ]
  },
  {
   "cell_type": "code",
   "execution_count": null,
   "metadata": {},
   "outputs": [],
   "source": [
    ""
   ]
  },
  {
   "cell_type": "markdown",
   "metadata": {},
   "source": [
    "# Decision Boundary"
   ]
  },
  {
   "cell_type": "markdown",
   "metadata": {},
   "source": [
    "Now we will visualize the decision boundary for your classifier. No work is required for this part of the lab, but you might find it interesting to see how different values of k changes the decision boundries. What pattern do you notice? Pick the value of k you wish to visualize by changing K_VAL below"
   ]
  },
  {
   "cell_type": "code",
   "execution_count": 1,
   "metadata": {},
   "outputs": [],
   "source": [
    "K_VAL = 3"
   ]
  },
  {
   "cell_type": "code",
   "execution_count": 3,
   "metadata": {},
   "outputs": [],
   "source": [
    "#Don't worry about this cell, just run it\n",
    "x_array = make_array()\n",
    "y_array = make_array()\n",
    "for x in np.arange(3, 7, 0.05):\n",
    "    for y in np.arange(1, 2.60, 0.1):\n",
    "        x_array = np.append(x_array, x)\n",
    "        y_array = np.append(y_array, y)\n",
    "        \n",
    "test_grid = Table().with_columns(\n",
    "    'petal length in cm', x_array,\n",
    "    'petal width in cm', y_array\n",
    ")\n",
    "\n",
    "def classify_grid(training, test):\n",
    "    c = make_array()\n",
    "    for i in range(test.num_rows):\n",
    "        c = np.append(c, predict(training, make_array(test.row(i)), K_VAL))   \n",
    "    return c\n",
    "\n",
    "c = classify_grid(train, test_grid)\n",
    "\n",
    "test_grid = test_grid.with_column('Class', c)\n",
    "test_grid.scatter(0,1, colors = 2)\n",
    "plt.scatter(train.column('petal length in cm'), train.column('petal width in cm'), c=train.column(\"Class\"), edgecolor='black')"
   ]
  }
 ],
 "metadata": {
  "kernelspec": {
   "display_name": "Python 3",
   "language": "python",
   "name": "python3"
  },
  "language_info": {
   "codemirror_mode": {
    "name": "ipython",
    "version": 3.0
   },
   "file_extension": ".py",
   "mimetype": "text/x-python",
   "name": "python",
   "nbconvert_exporter": "python",
   "pygments_lexer": "ipython3",
   "version": "3.6.1"
  }
 },
 "nbformat": 4,
 "nbformat_minor": 0
}