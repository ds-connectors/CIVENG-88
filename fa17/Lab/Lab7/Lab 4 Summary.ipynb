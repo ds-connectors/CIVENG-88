{
 "cells": [
  {
   "cell_type": "markdown",
   "metadata": {},
   "source": [
    "## Lab 4 Summary"
   ]
  },
  {
   "cell_type": "code",
   "execution_count": 2,
   "metadata": {
    "collapsed": true
   },
   "outputs": [],
   "source": [
    "import datascience as ds\n",
    "import numpy as np\n",
    "import matplotlib.pyplot as plt\n",
    "import seaborn\n",
    "from datetime import datetime\n",
    "seaborn.set_context(rc={'lines.markeredgewidth': 1.0})\n",
    "%matplotlib inline"
   ]
  },
  {
   "cell_type": "markdown",
   "metadata": {},
   "source": [
    "Load in data for power in 2014 and weather data since 2011"
   ]
  },
  {
   "cell_type": "code",
   "execution_count": null,
   "metadata": {
    "collapsed": true
   },
   "outputs": [],
   "source": []
  },
  {
   "cell_type": "code",
   "execution_count": 16,
   "metadata": {
    "collapsed": false
   },
   "outputs": [
    {
     "data": {
      "text/html": [
       "<table border=\"1\" class=\"dataframe\">\n",
       "    <thead>\n",
       "        <tr>\n",
       "            <th>DAY</th> <th>HOUR</th> <th>PJME</th> <th>PJMW</th> <th>COMED</th> <th>DAYTON</th> <th>AEP</th> <th>DUQ</th> <th>DOM</th> <th>FE</th> <th>DEOK</th> <th>EKPC</th>\n",
       "        </tr>\n",
       "    </thead>\n",
       "    <tbody>\n",
       "        <tr>\n",
       "            <td>2014-12-31 00:00:00</td> <td>100 </td> <td>30795</td> <td>6088</td> <td>11633</td> <td>1912  </td> <td>15993</td> <td>1562</td> <td>12337</td> <td>7547</td> <td>3067</td> <td>1882</td>\n",
       "        </tr>\n",
       "    </tbody>\n",
       "        <tr>\n",
       "            <td>2014-12-31 00:00:00</td> <td>200 </td> <td>29995</td> <td>6010</td> <td>11139</td> <td>1875  </td> <td>15780</td> <td>1550</td> <td>12267</td> <td>7334</td> <td>3024</td> <td>1845</td>\n",
       "        </tr>\n",
       "    </tbody>\n",
       "        <tr>\n",
       "            <td>2014-12-31 00:00:00</td> <td>300 </td> <td>29688</td> <td>5991</td> <td>10871</td> <td>1866  </td> <td>15769</td> <td>1545</td> <td>12345</td> <td>7196</td> <td>3021</td> <td>1902</td>\n",
       "        </tr>\n",
       "    </tbody>\n",
       "        <tr>\n",
       "            <td>2014-12-31 00:00:00</td> <td>400 </td> <td>29767</td> <td>6051</td> <td>10735</td> <td>1883  </td> <td>15738</td> <td>1546</td> <td>12589</td> <td>7153</td> <td>3031</td> <td>1894</td>\n",
       "        </tr>\n",
       "    </tbody>\n",
       "        <tr>\n",
       "            <td>2014-12-31 00:00:00</td> <td>500 </td> <td>30426</td> <td>6177</td> <td>10714</td> <td>1910  </td> <td>15993</td> <td>1539</td> <td>13046</td> <td>7305</td> <td>3111</td> <td>1927</td>\n",
       "        </tr>\n",
       "    </tbody>\n",
       "        <tr>\n",
       "            <td>2014-12-31 00:00:00</td> <td>600 </td> <td>32147</td> <td>6351</td> <td>10886</td> <td>2004  </td> <td>16635</td> <td>1574</td> <td>13771</td> <td>7539</td> <td>3249</td> <td>2061</td>\n",
       "        </tr>\n",
       "    </tbody>\n",
       "        <tr>\n",
       "            <td>2014-12-31 00:00:00</td> <td>700 </td> <td>34613</td> <td>6733</td> <td>11404</td> <td>2133  </td> <td>17476</td> <td>1680</td> <td>14379</td> <td>8042</td> <td>3445</td> <td>2122</td>\n",
       "        </tr>\n",
       "    </tbody>\n",
       "        <tr>\n",
       "            <td>2014-12-31 00:00:00</td> <td>800 </td> <td>35973</td> <td>6964</td> <td>12098</td> <td>2250  </td> <td>18170</td> <td>1777</td> <td>14735</td> <td>8346</td> <td>3621</td> <td>2244</td>\n",
       "        </tr>\n",
       "    </tbody>\n",
       "        <tr>\n",
       "            <td>2014-12-31 00:00:00</td> <td>900 </td> <td>36253</td> <td>7047</td> <td>12409</td> <td>2272  </td> <td>18359</td> <td>1788</td> <td>14573</td> <td>8367</td> <td>3667</td> <td>2219</td>\n",
       "        </tr>\n",
       "    </tbody>\n",
       "        <tr>\n",
       "            <td>2014-12-31 00:00:00</td> <td>1000</td> <td>35998</td> <td>6999</td> <td>12526</td> <td>2268  </td> <td>18173</td> <td>1844</td> <td>14233</td> <td>8408</td> <td>3650</td> <td>2175</td>\n",
       "        </tr>\n",
       "    </tbody>\n",
       "</table>\n",
       "<p>... (8750 rows omitted)</p"
      ],
      "text/plain": [
       "DAY                 | HOUR | PJME  | PJMW | COMED | DAYTON | AEP   | DUQ  | DOM   | FE   | DEOK | EKPC\n",
       "2014-12-31 00:00:00 | 100  | 30795 | 6088 | 11633 | 1912   | 15993 | 1562 | 12337 | 7547 | 3067 | 1882\n",
       "2014-12-31 00:00:00 | 200  | 29995 | 6010 | 11139 | 1875   | 15780 | 1550 | 12267 | 7334 | 3024 | 1845\n",
       "2014-12-31 00:00:00 | 300  | 29688 | 5991 | 10871 | 1866   | 15769 | 1545 | 12345 | 7196 | 3021 | 1902\n",
       "2014-12-31 00:00:00 | 400  | 29767 | 6051 | 10735 | 1883   | 15738 | 1546 | 12589 | 7153 | 3031 | 1894\n",
       "2014-12-31 00:00:00 | 500  | 30426 | 6177 | 10714 | 1910   | 15993 | 1539 | 13046 | 7305 | 3111 | 1927\n",
       "2014-12-31 00:00:00 | 600  | 32147 | 6351 | 10886 | 2004   | 16635 | 1574 | 13771 | 7539 | 3249 | 2061\n",
       "2014-12-31 00:00:00 | 700  | 34613 | 6733 | 11404 | 2133   | 17476 | 1680 | 14379 | 8042 | 3445 | 2122\n",
       "2014-12-31 00:00:00 | 800  | 35973 | 6964 | 12098 | 2250   | 18170 | 1777 | 14735 | 8346 | 3621 | 2244\n",
       "2014-12-31 00:00:00 | 900  | 36253 | 7047 | 12409 | 2272   | 18359 | 1788 | 14573 | 8367 | 3667 | 2219\n",
       "2014-12-31 00:00:00 | 1000 | 35998 | 6999 | 12526 | 2268   | 18173 | 1844 | 14233 | 8408 | 3650 | 2175\n",
       "... (8750 rows omitted)"
      ]
     },
     "execution_count": 16,
     "metadata": {},
     "output_type": "execute_result"
    }
   ],
   "source": [
    "table_load = ds.Table.read_table(\"2014.csv\")\n",
    "table_load[\"DAY\"] = table_load.select(\"DAY\").apply(lambda x: datetime.strptime(x[0],\"%m/%d/%y\")) #Formatting to Year-month-day time \n",
    "table_load"
   ]
  },
  {
   "cell_type": "code",
   "execution_count": null,
   "metadata": {
    "collapsed": true
   },
   "outputs": [],
   "source": []
  },
  {
   "cell_type": "code",
   "execution_count": 15,
   "metadata": {
    "collapsed": false
   },
   "outputs": [
    {
     "data": {
      "text/html": [
       "<table border=\"1\" class=\"dataframe\">\n",
       "    <thead>\n",
       "        <tr>\n",
       "            <th>UTC Timestamp</th> <th>Local Time</th> <th>Temperature</th> <th>Dewpoint</th> <th>Humidity</th> <th>Pressure</th> <th>Wind Speed</th> <th>Condition</th> <th>Date</th>\n",
       "        </tr>\n",
       "    </thead>\n",
       "    <tbody>\n",
       "        <tr>\n",
       "            <td>1293861060   </td> <td>2011-01-01 00:51:00</td> <td>50         </td> <td>43      </td> <td> 77     </td> <td>30.03   </td> <td> 4.6      </td> <td> Overcast  </td> <td>2011-01-01</td>\n",
       "        </tr>\n",
       "    </tbody>\n",
       "        <tr>\n",
       "            <td>1293864660   </td> <td>2011-01-01 01:51:00</td> <td>50         </td> <td>43      </td> <td> 77     </td> <td>30.01   </td> <td> 4.6      </td> <td> Overcast  </td> <td>2011-01-01</td>\n",
       "        </tr>\n",
       "    </tbody>\n",
       "        <tr>\n",
       "            <td>1293868260   </td> <td>2011-01-01 02:51:00</td> <td>51.1       </td> <td>43      </td> <td> 74     </td> <td>30.01   </td> <td> 4.6      </td> <td> Overcast  </td> <td>2011-01-01</td>\n",
       "        </tr>\n",
       "    </tbody>\n",
       "        <tr>\n",
       "            <td>1293871860   </td> <td>2011-01-01 03:51:00</td> <td>51.1       </td> <td>42.1    </td> <td> 71     </td> <td>29.97   </td> <td> 6.9      </td> <td> Overcast  </td> <td>2011-01-01</td>\n",
       "        </tr>\n",
       "    </tbody>\n",
       "        <tr>\n",
       "            <td>1293875460   </td> <td>2011-01-01 04:51:00</td> <td>51.1       </td> <td>42.1    </td> <td> 71     </td> <td>29.95   </td> <td> 4.6      </td> <td> Overcast  </td> <td>2011-01-01</td>\n",
       "        </tr>\n",
       "    </tbody>\n",
       "        <tr>\n",
       "            <td>1293879060   </td> <td>2011-01-01 05:51:00</td> <td>51.1       </td> <td>46      </td> <td> 83     </td> <td>29.99   </td> <td> 6.9      </td> <td> Light Rain</td> <td>2011-01-01</td>\n",
       "        </tr>\n",
       "    </tbody>\n",
       "        <tr>\n",
       "            <td>1293882660   </td> <td>2011-01-01 06:51:00</td> <td>51.1       </td> <td>48      </td> <td> 89     </td> <td>29.99   </td> <td> 8.1      </td> <td> Light Rain</td> <td>2011-01-01</td>\n",
       "        </tr>\n",
       "    </tbody>\n",
       "        <tr>\n",
       "            <td>1293886260   </td> <td>2011-01-01 07:51:00</td> <td>50         </td> <td>48.9    </td> <td> 96     </td> <td>29.96   </td> <td> 4.6      </td> <td> Light Rain</td> <td>2011-01-01</td>\n",
       "        </tr>\n",
       "    </tbody>\n",
       "        <tr>\n",
       "            <td>1293888180   </td> <td>2011-01-01 08:23:00</td> <td>51.8       </td> <td>48.2    </td> <td> 88     </td> <td>29.94   </td> <td> 3.5      </td> <td> Light Rain</td> <td>2011-01-01</td>\n",
       "        </tr>\n",
       "    </tbody>\n",
       "        <tr>\n",
       "            <td>1293889860   </td> <td>2011-01-01 08:51:00</td> <td>51.1       </td> <td>50      </td> <td> 96     </td> <td>29.98   </td> <td> 5.8      </td> <td> Light Rain</td> <td>2011-01-01</td>\n",
       "        </tr>\n",
       "    </tbody>\n",
       "</table>\n",
       "<p>... (58281 rows omitted)</p"
      ],
      "text/plain": [
       "UTC Timestamp | Local Time          | Temperature | Dewpoint | Humidity | Pressure | Wind Speed | Condition   | Date\n",
       "1293861060    | 2011-01-01 00:51:00 | 50          | 43       |  77      | 30.03    |  4.6       |  Overcast   | 2011-01-01\n",
       "1293864660    | 2011-01-01 01:51:00 | 50          | 43       |  77      | 30.01    |  4.6       |  Overcast   | 2011-01-01\n",
       "1293868260    | 2011-01-01 02:51:00 | 51.1        | 43       |  74      | 30.01    |  4.6       |  Overcast   | 2011-01-01\n",
       "1293871860    | 2011-01-01 03:51:00 | 51.1        | 42.1     |  71      | 29.97    |  6.9       |  Overcast   | 2011-01-01\n",
       "1293875460    | 2011-01-01 04:51:00 | 51.1        | 42.1     |  71      | 29.95    |  4.6       |  Overcast   | 2011-01-01\n",
       "1293879060    | 2011-01-01 05:51:00 | 51.1        | 46       |  83      | 29.99    |  6.9       |  Light Rain | 2011-01-01\n",
       "1293882660    | 2011-01-01 06:51:00 | 51.1        | 48       |  89      | 29.99    |  8.1       |  Light Rain | 2011-01-01\n",
       "1293886260    | 2011-01-01 07:51:00 | 50          | 48.9     |  96      | 29.96    |  4.6       |  Light Rain | 2011-01-01\n",
       "1293888180    | 2011-01-01 08:23:00 | 51.8        | 48.2     |  88      | 29.94    |  3.5       |  Light Rain | 2011-01-01\n",
       "1293889860    | 2011-01-01 08:51:00 | 51.1        | 50       |  96      | 29.98    |  5.8       |  Light Rain | 2011-01-01\n",
       "... (58281 rows omitted)"
      ]
     },
     "execution_count": 15,
     "metadata": {},
     "output_type": "execute_result"
    }
   ],
   "source": [
    "#Reading and formatting datasets\n",
    "\n",
    "table_weather = ds.Table.read_table(\"weather_kpit.csv\")\n",
    "table_weather[\"Local Time\"] = table_weather.select(\"Local Time\").apply(lambda x: datetime.strptime(x[0],\" %m/%d/%Y %I:%M %p\")) #Change to Year-month-day time format\n",
    "table_weather[\"Date\"] = table_weather.select(\"Local Time\").apply(lambda x : x[0].date()) #Adding another column with just the date\n",
    "table_weather"
   ]
  },
  {
   "cell_type": "code",
   "execution_count": null,
   "metadata": {
    "collapsed": true
   },
   "outputs": [],
   "source": []
  },
  {
   "cell_type": "code",
   "execution_count": 27,
   "metadata": {
    "collapsed": false
   },
   "outputs": [
    {
     "data": {
      "text/html": [
       "<table border=\"1\" class=\"dataframe\">\n",
       "    <thead>\n",
       "        <tr>\n",
       "            <th>DAY</th> <th>DUQ amax</th>\n",
       "        </tr>\n",
       "    </thead>\n",
       "    <tbody>\n",
       "        <tr>\n",
       "            <td>2014-01-01 00:00:00</td> <td>1.86    </td>\n",
       "        </tr>\n",
       "    </tbody>\n",
       "        <tr>\n",
       "            <td>2014-01-02 00:00:00</td> <td>2.118   </td>\n",
       "        </tr>\n",
       "    </tbody>\n",
       "        <tr>\n",
       "            <td>2014-01-03 00:00:00</td> <td>2.124   </td>\n",
       "        </tr>\n",
       "    </tbody>\n",
       "        <tr>\n",
       "            <td>2014-01-04 00:00:00</td> <td>1.858   </td>\n",
       "        </tr>\n",
       "    </tbody>\n",
       "        <tr>\n",
       "            <td>2014-01-05 00:00:00</td> <td>1.831   </td>\n",
       "        </tr>\n",
       "    </tbody>\n",
       "        <tr>\n",
       "            <td>2014-01-06 00:00:00</td> <td>2.29    </td>\n",
       "        </tr>\n",
       "    </tbody>\n",
       "        <tr>\n",
       "            <td>2014-01-07 00:00:00</td> <td>2.367   </td>\n",
       "        </tr>\n",
       "    </tbody>\n",
       "        <tr>\n",
       "            <td>2014-01-08 00:00:00</td> <td>2.194   </td>\n",
       "        </tr>\n",
       "    </tbody>\n",
       "        <tr>\n",
       "            <td>2014-01-09 00:00:00</td> <td>2.009   </td>\n",
       "        </tr>\n",
       "    </tbody>\n",
       "        <tr>\n",
       "            <td>2014-01-10 00:00:00</td> <td>1.902   </td>\n",
       "        </tr>\n",
       "    </tbody>\n",
       "</table>\n",
       "<p>... (355 rows omitted)</p"
      ],
      "text/plain": [
       "DAY                 | DUQ amax\n",
       "2014-01-01 00:00:00 | 1.86\n",
       "2014-01-02 00:00:00 | 2.118\n",
       "2014-01-03 00:00:00 | 2.124\n",
       "2014-01-04 00:00:00 | 1.858\n",
       "2014-01-05 00:00:00 | 1.831\n",
       "2014-01-06 00:00:00 | 2.29\n",
       "2014-01-07 00:00:00 | 2.367\n",
       "2014-01-08 00:00:00 | 2.194\n",
       "2014-01-09 00:00:00 | 2.009\n",
       "2014-01-10 00:00:00 | 1.902\n",
       "... (355 rows omitted)"
      ]
     },
     "execution_count": 27,
     "metadata": {},
     "output_type": "execute_result"
    }
   ],
   "source": [
    "# Group temperature with date\n",
    "table_daily = table_weather.select([\"Date\",\"Temperature\"]).group('Date',np.max) #Group together all the columns with the same date and take the largest value  \n",
    "table_load_daily = table_load.select([\"DAY\",\"DUQ\"]).group(\"DAY\",np.max) #Repeating above line for power load data\n",
    "table_load_daily[\"DUQ amax\"] = table_load_daily.select(\"DUQ amax\").apply(lambda x: x[0]/1000) #Dividing each row of DUQ amaz by 1000\n",
    "table_load_daily"
   ]
  },
  {
   "cell_type": "code",
   "execution_count": null,
   "metadata": {
    "collapsed": true
   },
   "outputs": [],
   "source": []
  },
  {
   "cell_type": "code",
   "execution_count": 28,
   "metadata": {
    "collapsed": false,
    "scrolled": true
   },
   "outputs": [
    {
     "data": {
      "text/html": [
       "<table border=\"1\" class=\"dataframe\">\n",
       "    <thead>\n",
       "        <tr>\n",
       "            <th>Date</th> <th>Temperature</th> <th>Load</th>\n",
       "        </tr>\n",
       "    </thead>\n",
       "    <tbody>\n",
       "        <tr>\n",
       "            <td>2014-01-01</td> <td>33.1       </td> <td>1.86 </td>\n",
       "        </tr>\n",
       "    </tbody>\n",
       "        <tr>\n",
       "            <td>2014-01-02</td> <td>30.2       </td> <td>2.118</td>\n",
       "        </tr>\n",
       "    </tbody>\n",
       "        <tr>\n",
       "            <td>2014-01-03</td> <td>15.1       </td> <td>2.124</td>\n",
       "        </tr>\n",
       "    </tbody>\n",
       "        <tr>\n",
       "            <td>2014-01-04</td> <td>37         </td> <td>1.858</td>\n",
       "        </tr>\n",
       "    </tbody>\n",
       "        <tr>\n",
       "            <td>2014-01-05</td> <td>46         </td> <td>1.831</td>\n",
       "        </tr>\n",
       "    </tbody>\n",
       "        <tr>\n",
       "            <td>2014-01-06</td> <td>48.9       </td> <td>2.29 </td>\n",
       "        </tr>\n",
       "    </tbody>\n",
       "        <tr>\n",
       "            <td>2014-01-07</td> <td>3.9        </td> <td>2.367</td>\n",
       "        </tr>\n",
       "    </tbody>\n",
       "        <tr>\n",
       "            <td>2014-01-08</td> <td>23         </td> <td>2.194</td>\n",
       "        </tr>\n",
       "    </tbody>\n",
       "        <tr>\n",
       "            <td>2014-01-09</td> <td>33.1       </td> <td>2.009</td>\n",
       "        </tr>\n",
       "    </tbody>\n",
       "        <tr>\n",
       "            <td>2014-01-10</td> <td>46.4       </td> <td>1.902</td>\n",
       "        </tr>\n",
       "    </tbody>\n",
       "</table>\n",
       "<p>... (355 rows omitted)</p"
      ],
      "text/plain": [
       "Date       | Temperature | Load\n",
       "2014-01-01 | 33.1        | 1.86\n",
       "2014-01-02 | 30.2        | 2.118\n",
       "2014-01-03 | 15.1        | 2.124\n",
       "2014-01-04 | 37          | 1.858\n",
       "2014-01-05 | 46          | 1.831\n",
       "2014-01-06 | 48.9        | 2.29\n",
       "2014-01-07 | 3.9         | 2.367\n",
       "2014-01-08 | 23          | 2.194\n",
       "2014-01-09 | 33.1        | 2.009\n",
       "2014-01-10 | 46.4        | 1.902\n",
       "... (355 rows omitted)"
      ]
     },
     "execution_count": 28,
     "metadata": {},
     "output_type": "execute_result"
    }
   ],
   "source": [
    "# Take only 2014 data\n",
    "table_daily = table_daily.where(list(map(lambda x: x.year == 2014, table_daily[\"Date\"]))) #Chooses the data with the year 2014\n",
    "\n",
    "\"\"\"maps(function, list): applies the function to each item in the list, http://book.pythontips.com/en/latest/map_filter.html\"\"\"\n",
    "\n",
    "table_daily.relabel(\"Temperature amax\",\"Temperature\")\n",
    "table_daily[\"Load\"] = table_load_daily[\"DUQ amax\"]\n",
    "\n",
    "table_daily"
   ]
  },
  {
   "cell_type": "code",
   "execution_count": null,
   "metadata": {
    "collapsed": true
   },
   "outputs": [],
   "source": []
  },
  {
   "cell_type": "code",
   "execution_count": 31,
   "metadata": {
    "collapsed": false
   },
   "outputs": [
    {
     "data": {
      "text/html": [
       "<table border=\"1\" class=\"dataframe\">\n",
       "    <thead>\n",
       "        <tr>\n",
       "            <th>Date</th> <th>Temperature</th> <th>Load</th>\n",
       "        </tr>\n",
       "    </thead>\n",
       "    <tbody>\n",
       "        <tr>\n",
       "            <td>2014-06-01</td> <td>82         </td> <td>1.922</td>\n",
       "        </tr>\n",
       "    </tbody>\n",
       "        <tr>\n",
       "            <td>2014-06-02</td> <td>78.1       </td> <td>2.169</td>\n",
       "        </tr>\n",
       "    </tbody>\n",
       "        <tr>\n",
       "            <td>2014-06-03</td> <td>82.9       </td> <td>2.384</td>\n",
       "        </tr>\n",
       "    </tbody>\n",
       "        <tr>\n",
       "            <td>2014-06-04</td> <td>73.9       </td> <td>2.049</td>\n",
       "        </tr>\n",
       "    </tbody>\n",
       "        <tr>\n",
       "            <td>2014-06-05</td> <td>69.1       </td> <td>1.835</td>\n",
       "        </tr>\n",
       "    </tbody>\n",
       "        <tr>\n",
       "            <td>2014-06-06</td> <td>75         </td> <td>1.81 </td>\n",
       "        </tr>\n",
       "    </tbody>\n",
       "        <tr>\n",
       "            <td>2014-06-07</td> <td>79         </td> <td>1.845</td>\n",
       "        </tr>\n",
       "    </tbody>\n",
       "        <tr>\n",
       "            <td>2014-06-08</td> <td>78.1       </td> <td>1.858</td>\n",
       "        </tr>\n",
       "    </tbody>\n",
       "        <tr>\n",
       "            <td>2014-06-09</td> <td>68         </td> <td>1.808</td>\n",
       "        </tr>\n",
       "    </tbody>\n",
       "        <tr>\n",
       "            <td>2014-06-10</td> <td>73.9       </td> <td>1.895</td>\n",
       "        </tr>\n",
       "    </tbody>\n",
       "</table>\n",
       "<p>... (82 rows omitted)</p"
      ],
      "text/plain": [
       "Date       | Temperature | Load\n",
       "2014-06-01 | 82          | 1.922\n",
       "2014-06-02 | 78.1        | 2.169\n",
       "2014-06-03 | 82.9        | 2.384\n",
       "2014-06-04 | 73.9        | 2.049\n",
       "2014-06-05 | 69.1        | 1.835\n",
       "2014-06-06 | 75          | 1.81\n",
       "2014-06-07 | 79          | 1.845\n",
       "2014-06-08 | 78.1        | 1.858\n",
       "2014-06-09 | 68          | 1.808\n",
       "2014-06-10 | 73.9        | 1.895\n",
       "... (82 rows omitted)"
      ]
     },
     "execution_count": 31,
     "metadata": {},
     "output_type": "execute_result"
    }
   ],
   "source": [
    "# Take only summers or June to August\n",
    "table_summer = table_daily.where(list(map(lambda x: x.month >= 6 and x.month <=8, table_daily[\"Date\"])))\n",
    "\n",
    "table_summer"
   ]
  },
  {
   "cell_type": "markdown",
   "metadata": {},
   "source": [
    "### Estimate parameters of Linear Regressor: Least squares fit"
   ]
  },
  {
   "cell_type": "markdown",
   "metadata": {},
   "source": [
    "Refer to Lecture 4, slide 7 for these equations\n",
    "$$\\theta_1 = \\frac{\\sum_{i\\in \\text{Data}}\\ x_i (y_i - E(y)) }{\\sum_{i \\in \\text{Data}}\\ x_i (x_i - E(x))}$$\n",
    "$$\\theta_2 = -\\theta_1E(x) + E(y)$$"
   ]
  },
  {
   "cell_type": "code",
   "execution_count": null,
   "metadata": {
    "collapsed": true
   },
   "outputs": [],
   "source": []
  },
  {
   "cell_type": "code",
   "execution_count": 33,
   "metadata": {
    "collapsed": false
   },
   "outputs": [
    {
     "data": {
      "text/plain": [
       "(0.044152538599092142, -1.3636304123131144)"
      ]
     },
     "execution_count": 33,
     "metadata": {},
     "output_type": "execute_result"
    }
   ],
   "source": [
    "#From table_summer, to determine the theta, or slope and the y-intercept of the linear regression line, we can apply the\n",
    "#equations above to the data set\n",
    "x = table_summer[\"Temperature\"]\n",
    "y = table_summer[\"Load\"]\n",
    "theta1 = np.sum(x*(y-np.mean(y)))/np.sum(x*(x-np.mean(x)))\n",
    "theta2 = -theta1*np.mean(x) + np.mean(y)\n",
    "theta1, theta2"
   ]
  },
  {
   "cell_type": "markdown",
   "metadata": {},
   "source": [
    "Refer to Lecture 4, slide 10 for these equations:\n",
    "$$\\theta = (X^\\top X)^{-1} X^\\top y$$\n",
    "$$ X = \\begin{bmatrix}\n",
    "x_1&1\\\\\n",
    "x_2&1\\\\\n",
    "\\vdots&\\vdots\\\\\n",
    "x_N&1\n",
    "\\end{bmatrix} \\quad \\text{where} \\quad N = \\text{number of data}$$ "
   ]
  },
  {
   "cell_type": "code",
   "execution_count": null,
   "metadata": {
    "collapsed": true
   },
   "outputs": [],
   "source": []
  },
  {
   "cell_type": "code",
   "execution_count": 34,
   "metadata": {
    "collapsed": false
   },
   "outputs": [
    {
     "data": {
      "text/plain": [
       "array([ 0.04415254, -1.36363041])"
      ]
     },
     "execution_count": 34,
     "metadata": {},
     "output_type": "execute_result"
    }
   ],
   "source": [
    "# Another way to find theta, is to use linear algebra, using the equations above to determine the theta.\n",
    "X = np.vstack([table_summer[\"Temperature\"], np.ones(len(table_summer.column(0)))]).T\n",
    "y = table_summer[\"Load\"]\n",
    "theta = np.linalg.solve(X.T.dot(X), X.T.dot(y))\n",
    "theta"
   ]
  },
  {
   "cell_type": "code",
   "execution_count": null,
   "metadata": {
    "collapsed": true
   },
   "outputs": [],
   "source": []
  }
 ],
 "metadata": {
  "kernelspec": {
   "display_name": "Python 3",
   "language": "python",
   "name": "python3"
  },
  "language_info": {
   "codemirror_mode": {
    "name": "ipython",
    "version": 3
   },
   "file_extension": ".py",
   "mimetype": "text/x-python",
   "name": "python",
   "nbconvert_exporter": "python",
   "pygments_lexer": "ipython3",
   "version": "3.6.0"
  }
 },
 "nbformat": 4,
 "nbformat_minor": 2
}
