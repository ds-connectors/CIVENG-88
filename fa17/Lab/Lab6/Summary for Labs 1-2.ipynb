{
 "cells": [
  {
   "cell_type": "markdown",
   "metadata": {},
   "source": [
    "### CE88: Data Science for Smart Cities - 10/16/17\n",
    "\n",
    "# Labs 1-2 and Homework summary\n",
    "\n",
    "This notebook is a summary of what we have completed in the course so far. It covers the bay bridge traffic count data (Lab 1 Data.ipnb), the census data, and Linear Algebra for lab 2 and analysis for homework questions."
   ]
  },
  {
   "cell_type": "markdown",
   "metadata": {},
   "source": [
    "In this class, we use the datascience library often, to find documentation of some of the functions and methods available in this library, visit http://data8.org/datascience/"
   ]
  },
  {
   "cell_type": "code",
   "execution_count": 8,
   "metadata": {
    "collapsed": true
   },
   "outputs": [],
   "source": [
    "from datascience import *\n",
    "%matplotlib inline\n",
    "import numpy as np\n",
    "import matplotlib.pyplot as plots\n",
    "import matplotlib.dates as mdates\n",
    "import pandas as pd"
   ]
  },
  {
   "cell_type": "markdown",
   "metadata": {},
   "source": [
    "# Bay Bridge traffic count \n"
   ]
  },
  {
   "cell_type": "markdown",
   "metadata": {},
   "source": [
    "We are given the traffic flow of 5 lanes on the Bay Bridge for one week."
   ]
  },
  {
   "cell_type": "code",
   "execution_count": 9,
   "metadata": {
    "collapsed": false
   },
   "outputs": [
    {
     "data": {
      "text/html": [
       "<table border=\"1\" class=\"dataframe\">\n",
       "    <thead>\n",
       "        <tr>\n",
       "            <th>Hour</th> <th>Lane 1 Flow (Veh/Hour)</th> <th>Lane 2 Flow (Veh/Hour)</th> <th>Lane 3 Flow (Veh/Hour)</th> <th>Lane 4 Flow (Veh/Hour)</th> <th>Lane 5 Flow (Veh/Hour)</th> <th>Flow (Veh/Hour)</th> <th># Lane Points</th> <th>% Observed</th>\n",
       "        </tr>\n",
       "    </thead>\n",
       "    <tbody>\n",
       "        <tr>\n",
       "            <td>1/14/2016 0:00</td> <td>34                    </td> <td>347                   </td> <td>372                   </td> <td>291                   </td> <td>119                   </td> <td>1163           </td> <td>60           </td> <td>100       </td>\n",
       "        </tr>\n",
       "    </tbody>\n",
       "        <tr>\n",
       "            <td>1/14/2016 1:00</td> <td>20                    </td> <td>199                   </td> <td>295                   </td> <td>230                   </td> <td>74                    </td> <td>818            </td> <td>60           </td> <td>100       </td>\n",
       "        </tr>\n",
       "    </tbody>\n",
       "        <tr>\n",
       "            <td>1/14/2016 2:00</td> <td>17                    </td> <td>248                   </td> <td>342                   </td> <td>267                   </td> <td>114                   </td> <td>988            </td> <td>60           </td> <td>100       </td>\n",
       "        </tr>\n",
       "    </tbody>\n",
       "        <tr>\n",
       "            <td>1/14/2016 3:00</td> <td>158                   </td> <td>427                   </td> <td>433                   </td> <td>347                   </td> <td>164                   </td> <td>1529           </td> <td>60           </td> <td>100       </td>\n",
       "        </tr>\n",
       "    </tbody>\n",
       "        <tr>\n",
       "            <td>1/14/2016 4:00</td> <td>883                   </td> <td>1033                  </td> <td>912                   </td> <td>737                   </td> <td>543                   </td> <td>4108           </td> <td>60           </td> <td>100       </td>\n",
       "        </tr>\n",
       "    </tbody>\n",
       "        <tr>\n",
       "            <td>1/14/2016 5:00</td> <td>2037                  </td> <td>1944                  </td> <td>1734                  </td> <td>1617                  </td> <td>1594                  </td> <td>8926           </td> <td>60           </td> <td>100       </td>\n",
       "        </tr>\n",
       "    </tbody>\n",
       "        <tr>\n",
       "            <td>1/14/2016 6:00</td> <td>1838                  </td> <td>1844                  </td> <td>1709                  </td> <td>1715                  </td> <td>1626                  </td> <td>8732           </td> <td>60           </td> <td>100       </td>\n",
       "        </tr>\n",
       "    </tbody>\n",
       "        <tr>\n",
       "            <td>1/14/2016 7:00</td> <td>1790                  </td> <td>1883                  </td> <td>1760                  </td> <td>1720                  </td> <td>1627                  </td> <td>8780           </td> <td>60           </td> <td>100       </td>\n",
       "        </tr>\n",
       "    </tbody>\n",
       "        <tr>\n",
       "            <td>1/14/2016 8:00</td> <td>1739                  </td> <td>1820                  </td> <td>1686                  </td> <td>1621                  </td> <td>1617                  </td> <td>8483           </td> <td>60           </td> <td>100       </td>\n",
       "        </tr>\n",
       "    </tbody>\n",
       "        <tr>\n",
       "            <td>1/14/2016 9:00</td> <td>1709                  </td> <td>1705                  </td> <td>1681                  </td> <td>1591                  </td> <td>1631                  </td> <td>8317           </td> <td>60           </td> <td>100       </td>\n",
       "        </tr>\n",
       "    </tbody>\n",
       "</table>\n",
       "<p>... (160 rows omitted)</p"
      ],
      "text/plain": [
       "Hour           | Lane 1 Flow (Veh/Hour) | Lane 2 Flow (Veh/Hour) | Lane 3 Flow (Veh/Hour) | Lane 4 Flow (Veh/Hour) | Lane 5 Flow (Veh/Hour) | Flow (Veh/Hour) | # Lane Points | % Observed\n",
       "1/14/2016 0:00 | 34                     | 347                    | 372                    | 291                    | 119                    | 1163            | 60            | 100\n",
       "1/14/2016 1:00 | 20                     | 199                    | 295                    | 230                    | 74                     | 818             | 60            | 100\n",
       "1/14/2016 2:00 | 17                     | 248                    | 342                    | 267                    | 114                    | 988             | 60            | 100\n",
       "1/14/2016 3:00 | 158                    | 427                    | 433                    | 347                    | 164                    | 1529            | 60            | 100\n",
       "1/14/2016 4:00 | 883                    | 1033                   | 912                    | 737                    | 543                    | 4108            | 60            | 100\n",
       "1/14/2016 5:00 | 2037                   | 1944                   | 1734                   | 1617                   | 1594                   | 8926            | 60            | 100\n",
       "1/14/2016 6:00 | 1838                   | 1844                   | 1709                   | 1715                   | 1626                   | 8732            | 60            | 100\n",
       "1/14/2016 7:00 | 1790                   | 1883                   | 1760                   | 1720                   | 1627                   | 8780            | 60            | 100\n",
       "1/14/2016 8:00 | 1739                   | 1820                   | 1686                   | 1621                   | 1617                   | 8483            | 60            | 100\n",
       "1/14/2016 9:00 | 1709                   | 1705                   | 1681                   | 1591                   | 1631                   | 8317            | 60            | 100\n",
       "... (160 rows omitted)"
      ]
     },
     "execution_count": 9,
     "metadata": {},
     "output_type": "execute_result"
    }
   ],
   "source": [
    "data = Table.read_table('pems_output.csv')\n",
    "data"
   ]
  },
  {
   "cell_type": "markdown",
   "metadata": {},
   "source": [
    "First we learned how to graph the data using line graphs and scatter plots"
   ]
  },
  {
   "cell_type": "code",
   "execution_count": 10,
   "metadata": {
    "collapsed": false
   },
   "outputs": [
    {
     "data": {
      "image/png": "[encoded data removed]",
      "text/plain": [
       "<matplotlib.figure.Figure at 0x11abe1898>"
      ]
     },
     "metadata": {},
     "output_type": "display_data"
    }
   ],
   "source": [
    "#First we graphed the total flow in all 5 lanes using line plots   \n",
    "data['date'] = pd.to_datetime(data['Hour']) #Use the Pandas' to_datetime method to convert the hours given to military time [0:00-23:59]\n",
    "Lane_data = data.select(['date','Flow (Veh/Hour)']) #We are only interested total flow, which is in the 'Flow (Veh/Hour)' column\n",
    "Lane_data.plot('date') #.plot method draws the line graph of the data\n"
   ]
  },
  {
   "cell_type": "code",
   "execution_count": 11,
   "metadata": {
    "collapsed": false
   },
   "outputs": [
    {
     "data": {
      "image/png": "[encoded data removed]",
      "text/plain": [
       "<matplotlib.figure.Figure at 0x11ac54f98>"
      ]
     },
     "metadata": {},
     "output_type": "display_data"
    }
   ],
   "source": [
    "#We also learned how to graph the data using scatter plot \n",
    "data['Hour of the day'] = pd.to_datetime(data['Hour']).hour #Use the Pandas .hour attribute to make a column to indicate what hour of the day the row came from[0-24]   \n",
    "data.select(['Hour of the day','Flow (Veh/Hour)']).scatter('Hour of the day')"
   ]
  },
  {
   "cell_type": "markdown",
   "metadata": {},
   "source": [
    "In the homework, we applied the datascience library to manipulate this data set to extract information and solve problems. "
   ]
  },
  {
   "cell_type": "markdown",
   "metadata": {},
   "source": [
    "In problem 5 of the homework, we were asked to study the lane with the most flow between 8-11pm. To accomplish this, you could filter the data to only include data from that time period."
   ]
  },
  {
   "cell_type": "code",
   "execution_count": 12,
   "metadata": {
    "collapsed": true
   },
   "outputs": [],
   "source": [
    "#Only include data from 8-11 pm\n",
    "filtered_data = data.where((data['Hour of the day'] >= 20) & (data['Hour of the day'] <= 23)) \n",
    "#Filter to only see lane flow\n",
    "filtered_data = filtered_data.select(['Lane 1 Flow (Veh/Hour)', 'Lane 2 Flow (Veh/Hour)', 'Lane 3 Flow (Veh/Hour)', 'Lane 4 Flow (Veh/Hour)','Lane 5 Flow (Veh/Hour)'])    \n",
    "                    "
   ]
  },
  {
   "cell_type": "code",
   "execution_count": 13,
   "metadata": {
    "collapsed": false
   },
   "outputs": [
    {
     "name": "stderr",
     "output_type": "stream",
     "text": [
      "/Users/Mohammed/anaconda/lib/python3.6/site-packages/datascience/tables.py:192: FutureWarning: Implicit column method lookup is deprecated.\n",
      "  warnings.warn(\"Implicit column method lookup is deprecated.\", FutureWarning)\n"
     ]
    },
    {
     "data": {
      "text/html": [
       "<table border=\"1\" class=\"dataframe\">\n",
       "    <thead>\n",
       "        <tr>\n",
       "            <th>Lane 1 Flow (Veh/Hour)</th> <th>Lane 2 Flow (Veh/Hour)</th> <th>Lane 3 Flow (Veh/Hour)</th> <th>Lane 4 Flow (Veh/Hour)</th> <th>Lane 5 Flow (Veh/Hour)</th>\n",
       "        </tr>\n",
       "    </thead>\n",
       "    <tbody>\n",
       "        <tr>\n",
       "            <td>21698                 </td> <td>28251                 </td> <td>25420                 </td> <td>21102                 </td> <td>11924                 </td>\n",
       "        </tr>\n",
       "    </tbody>\n",
       "</table>"
      ],
      "text/plain": [
       "Lane 1 Flow (Veh/Hour) | Lane 2 Flow (Veh/Hour) | Lane 3 Flow (Veh/Hour) | Lane 4 Flow (Veh/Hour) | Lane 5 Flow (Veh/Hour)\n",
       "21698                  | 28251                  | 25420                  | 21102                  | 11924"
      ]
     },
     "execution_count": 13,
     "metadata": {},
     "output_type": "execute_result"
    }
   ],
   "source": [
    "#To find the total flow of each lane, use numpy's sum function to add up the values in each column\n",
    "np.sum(filtered_data)"
   ]
  },
  {
   "cell_type": "markdown",
   "metadata": {},
   "source": [
    "Comparing these values gives the solution that Lane 2 had the most flow. The same process can be used to find the lane with the least flow for any time interval of the day. "
   ]
  },
  {
   "cell_type": "markdown",
   "metadata": {},
   "source": [
    "# TAZ \n",
    "\n",
    "For homework 1 we worked with the data set of the traffic analysis zone (TAZ) for the Bay Area"
   ]
  },
  {
   "cell_type": "code",
   "execution_count": 14,
   "metadata": {
    "collapsed": true
   },
   "outputs": [],
   "source": [
    "travel_data = Table.read_table(\"sf_oak_traveltimes_bymode.csv\") #Write TAZ data into table"
   ]
  },
  {
   "cell_type": "markdown",
   "metadata": {},
   "source": [
    "You were asked to find the worst mode of travel (most travel time) from origin 10 to destination 1019 "
   ]
  },
  {
   "cell_type": "code",
   "execution_count": 15,
   "metadata": {
    "collapsed": false
   },
   "outputs": [
    {
     "data": {
      "text/html": [
       "<table border=\"1\" class=\"dataframe\">\n",
       "    <thead>\n",
       "        <tr>\n",
       "            <th>origin</th> <th>destination</th> <th>drive alone</th> <th>shared ride (2 people)</th> <th>shared ride (3 people)</th> <th>walk</th> <th>bike</th> <th>walk-transit-walk</th> <th>drive-transit-walk</th> <th>walk-transit-drive</th>\n",
       "        </tr>\n",
       "    </thead>\n",
       "    <tbody>\n",
       "        <tr>\n",
       "            <td>10    </td> <td>1019       </td> <td>23.64      </td> <td>23.64                 </td> <td>23.64                 </td> <td>-999</td> <td>-999</td> <td>51.05            </td> <td>48.76             </td> <td>44.04             </td>\n",
       "        </tr>\n",
       "    </tbody>\n",
       "</table>"
      ],
      "text/plain": [
       "origin | destination | drive alone | shared ride (2 people) | shared ride (3 people) | walk | bike | walk-transit-walk | drive-transit-walk | walk-transit-drive\n",
       "10     | 1019        | 23.64       | 23.64                  | 23.64                  | -999 | -999 | 51.05             | 48.76              | 44.04"
      ]
     },
     "execution_count": 15,
     "metadata": {},
     "output_type": "execute_result"
    }
   ],
   "source": [
    "travel_data.where('origin',10).where('destination', 1019)"
   ]
  },
  {
   "cell_type": "markdown",
   "metadata": {},
   "source": [
    "You were also asked to find the closest destination among the first 100 destinations, to origin 10 using biking"
   ]
  },
  {
   "cell_type": "code",
   "execution_count": 16,
   "metadata": {
    "collapsed": false
   },
   "outputs": [
    {
     "data": {
      "text/html": [
       "<table border=\"1\" class=\"dataframe\">\n",
       "    <thead>\n",
       "        <tr>\n",
       "            <th>origin</th> <th>destination</th> <th>bike</th>\n",
       "        </tr>\n",
       "    </thead>\n",
       "    <tbody>\n",
       "        <tr>\n",
       "            <td>10    </td> <td>20         </td> <td>2.1 </td>\n",
       "        </tr>\n",
       "    </tbody>\n",
       "        <tr>\n",
       "            <td>10    </td> <td>9          </td> <td>2.45</td>\n",
       "        </tr>\n",
       "    </tbody>\n",
       "        <tr>\n",
       "            <td>10    </td> <td>11         </td> <td>2.45</td>\n",
       "        </tr>\n",
       "    </tbody>\n",
       "        <tr>\n",
       "            <td>10    </td> <td>79         </td> <td>3.55</td>\n",
       "        </tr>\n",
       "    </tbody>\n",
       "        <tr>\n",
       "            <td>10    </td> <td>76         </td> <td>3.7 </td>\n",
       "        </tr>\n",
       "    </tbody>\n",
       "        <tr>\n",
       "            <td>10    </td> <td>8          </td> <td>3.9 </td>\n",
       "        </tr>\n",
       "    </tbody>\n",
       "        <tr>\n",
       "            <td>10    </td> <td>30         </td> <td>4.3 </td>\n",
       "        </tr>\n",
       "    </tbody>\n",
       "        <tr>\n",
       "            <td>10    </td> <td>19         </td> <td>4.35</td>\n",
       "        </tr>\n",
       "    </tbody>\n",
       "        <tr>\n",
       "            <td>10    </td> <td>21         </td> <td>4.55</td>\n",
       "        </tr>\n",
       "    </tbody>\n",
       "        <tr>\n",
       "            <td>10    </td> <td>81         </td> <td>4.6 </td>\n",
       "        </tr>\n",
       "    </tbody>\n",
       "</table>\n",
       "<p>... (88 rows omitted)</p"
      ],
      "text/plain": [
       "origin | destination | bike\n",
       "10     | 20          | 2.1\n",
       "10     | 9           | 2.45\n",
       "10     | 11          | 2.45\n",
       "10     | 79          | 3.55\n",
       "10     | 76          | 3.7\n",
       "10     | 8           | 3.9\n",
       "10     | 30          | 4.3\n",
       "10     | 19          | 4.35\n",
       "10     | 21          | 4.55\n",
       "10     | 81          | 4.6\n",
       "... (88 rows omitted)"
      ]
     },
     "execution_count": 16,
     "metadata": {},
     "output_type": "execute_result"
    }
   ],
   "source": [
    "(travel_data\n",
    ".where('destination', are.below_or_equal_to(100)) #First 100 destinations\n",
    ".where('origin', 10) #Starting at origin 10\n",
    ".where('destination', are.not_equal_to(10))\n",
    ".where('bike', are.not_equal_to(-999)) #Only available data\n",
    ".select('origin', 'destination', 'bike') #Only interested in where is starts, ends, and bike distance\n",
    ".sort('bike') #Sort the data from closest to furthest \n",
    ")"
   ]
  },
  {
   "cell_type": "markdown",
   "metadata": {},
   "source": [
    "# Census Data \n",
    "\n",
    "We also worked with census data from the bay area\n"
   ]
  },
  {
   "cell_type": "code",
   "execution_count": 17,
   "metadata": {
    "collapsed": false
   },
   "outputs": [
    {
     "data": {
      "text/html": [
       "<table border=\"1\" class=\"dataframe\">\n",
       "    <thead>\n",
       "        <tr>\n",
       "            <th>STATE</th> <th>COUNTY</th> <th>NAME</th> <th>Total Population</th> <th>Male</th> <th>Female</th> <th>Under 5 years</th> <th>5 to 9 years</th> <th>10 to 14 years</th> <th>15 to 19 years</th> <th>20 to 24 years</th> <th>25 to 29 years</th> <th>30 to 34 years</th> <th>35 to 39 years</th> <th>40 to 44 years</th> <th>45 to 49 years</th> <th>50 to 54 years</th> <th>55 to 59 years</th> <th>60 to 64 years</th> <th>65 to 69 years</th> <th>70 to 74 years</th> <th>75 to 79 years</th> <th>80 to 84 years</th> <th>85 years and over</th> <th>ALAND10</th> <th>AWATER10</th> <th>INTPTLAT10</th> <th>INTPTLON10</th>\n",
       "        </tr>\n",
       "    </thead>\n",
       "    <tbody>\n",
       "        <tr>\n",
       "            <td>6    </td> <td>1     </td> <td>Census Tract 4001</td> <td>2937            </td> <td>1461</td> <td>1476  </td> <td>150          </td> <td>122         </td> <td>91            </td> <td>88            </td> <td>85            </td> <td>129           </td> <td>126           </td> <td>163           </td> <td>210           </td> <td>206           </td> <td>281           </td> <td>310           </td> <td>342           </td> <td>238           </td> <td>147           </td> <td>110           </td> <td>75            </td> <td>64               </td> <td>6882245</td> <td>0       </td> <td>37.8676   </td> <td>-122.232  </td>\n",
       "        </tr>\n",
       "    </tbody>\n",
       "        <tr>\n",
       "            <td>6    </td> <td>1     </td> <td>Census Tract 4002</td> <td>1974            </td> <td>971 </td> <td>1003  </td> <td>138          </td> <td>98          </td> <td>64            </td> <td>46            </td> <td>72            </td> <td>184           </td> <td>181           </td> <td>183           </td> <td>174           </td> <td>105           </td> <td>113           </td> <td>128           </td> <td>165           </td> <td>140           </td> <td>84            </td> <td>44            </td> <td>25            </td> <td>30               </td> <td>595106 </td> <td>0       </td> <td>37.8482   </td> <td>-122.25   </td>\n",
       "        </tr>\n",
       "    </tbody>\n",
       "        <tr>\n",
       "            <td>6    </td> <td>1     </td> <td>Census Tract 4003</td> <td>4865            </td> <td>2228</td> <td>2637  </td> <td>320          </td> <td>219         </td> <td>143           </td> <td>174           </td> <td>211           </td> <td>495           </td> <td>526           </td> <td>518           </td> <td>475           </td> <td>339           </td> <td>356           </td> <td>314           </td> <td>282           </td> <td>198           </td> <td>90            </td> <td>78            </td> <td>53            </td> <td>74               </td> <td>1105328</td> <td>0       </td> <td>37.8406   </td> <td>-122.254  </td>\n",
       "        </tr>\n",
       "    </tbody>\n",
       "        <tr>\n",
       "            <td>6    </td> <td>1     </td> <td>Census Tract 4004</td> <td>3703            </td> <td>1711</td> <td>1992  </td> <td>255          </td> <td>168         </td> <td>94            </td> <td>85            </td> <td>234           </td> <td>486           </td> <td>446           </td> <td>398           </td> <td>332           </td> <td>223           </td> <td>213           </td> <td>210           </td> <td>206           </td> <td>132           </td> <td>78            </td> <td>55            </td> <td>42            </td> <td>46               </td> <td>703688 </td> <td>0       </td> <td>37.8482   </td> <td>-122.257  </td>\n",
       "        </tr>\n",
       "    </tbody>\n",
       "        <tr>\n",
       "            <td>6    </td> <td>1     </td> <td>Census Tract 4005</td> <td>3517            </td> <td>1677</td> <td>1840  </td> <td>184          </td> <td>133         </td> <td>86            </td> <td>92            </td> <td>313           </td> <td>495           </td> <td>468           </td> <td>353           </td> <td>261           </td> <td>253           </td> <td>187           </td> <td>179           </td> <td>199           </td> <td>109           </td> <td>67            </td> <td>32            </td> <td>49            </td> <td>57               </td> <td>588111 </td> <td>0       </td> <td>37.8485   </td> <td>-122.265  </td>\n",
       "        </tr>\n",
       "    </tbody>\n",
       "        <tr>\n",
       "            <td>6    </td> <td>1     </td> <td>Census Tract 4006</td> <td>1571            </td> <td>723 </td> <td>848   </td> <td>64           </td> <td>60          </td> <td>59            </td> <td>66            </td> <td>156           </td> <td>199           </td> <td>200           </td> <td>145           </td> <td>107           </td> <td>107           </td> <td>113           </td> <td>96            </td> <td>55            </td> <td>51            </td> <td>20            </td> <td>25            </td> <td>21            </td> <td>27               </td> <td>297855 </td> <td>0       </td> <td>37.842    </td> <td>-122.265  </td>\n",
       "        </tr>\n",
       "    </tbody>\n",
       "        <tr>\n",
       "            <td>6    </td> <td>1     </td> <td>Census Tract 4007</td> <td>4206            </td> <td>1997</td> <td>2209  </td> <td>203          </td> <td>184         </td> <td>152           </td> <td>160           </td> <td>359           </td> <td>448           </td> <td>407           </td> <td>371           </td> <td>328           </td> <td>315           </td> <td>288           </td> <td>249           </td> <td>233           </td> <td>163           </td> <td>88            </td> <td>79            </td> <td>83            </td> <td>96               </td> <td>880513 </td> <td>0       </td> <td>37.8418   </td> <td>-122.272  </td>\n",
       "        </tr>\n",
       "    </tbody>\n",
       "        <tr>\n",
       "            <td>6    </td> <td>1     </td> <td>Census Tract 4008</td> <td>3594            </td> <td>1745</td> <td>1849  </td> <td>193          </td> <td>145         </td> <td>139           </td> <td>179           </td> <td>269           </td> <td>389           </td> <td>421           </td> <td>305           </td> <td>259           </td> <td>225           </td> <td>240           </td> <td>200           </td> <td>188           </td> <td>146           </td> <td>92            </td> <td>73            </td> <td>59            </td> <td>72               </td> <td>695230 </td> <td>0       </td> <td>37.8454   </td> <td>-122.283  </td>\n",
       "        </tr>\n",
       "    </tbody>\n",
       "        <tr>\n",
       "            <td>6    </td> <td>1     </td> <td>Census Tract 4009</td> <td>2302            </td> <td>1127</td> <td>1175  </td> <td>134          </td> <td>116         </td> <td>105           </td> <td>122           </td> <td>191           </td> <td>221           </td> <td>214           </td> <td>188           </td> <td>198           </td> <td>171           </td> <td>173           </td> <td>130           </td> <td>120           </td> <td>64            </td> <td>52            </td> <td>35            </td> <td>30            </td> <td>38               </td> <td>425163 </td> <td>0       </td> <td>37.8395   </td> <td>-122.28   </td>\n",
       "        </tr>\n",
       "    </tbody>\n",
       "        <tr>\n",
       "            <td>6    </td> <td>1     </td> <td>Census Tract 4010</td> <td>5678            </td> <td>2671</td> <td>3007  </td> <td>326          </td> <td>311         </td> <td>328           </td> <td>341           </td> <td>476           </td> <td>580           </td> <td>557           </td> <td>529           </td> <td>381           </td> <td>392           </td> <td>389           </td> <td>344           </td> <td>268           </td> <td>142           </td> <td>86            </td> <td>61            </td> <td>87            </td> <td>80               </td> <td>1154123</td> <td>0       </td> <td>37.8312   </td> <td>-122.272  </td>\n",
       "        </tr>\n",
       "    </tbody>\n",
       "</table>\n",
       "<p>... (1371 rows omitted)</p"
      ],
      "text/plain": [
       "STATE | COUNTY | NAME              | Total Population | Male | Female | Under 5 years | 5 to 9 years | 10 to 14 years | 15 to 19 years | 20 to 24 years | 25 to 29 years | 30 to 34 years | 35 to 39 years | 40 to 44 years | 45 to 49 years | 50 to 54 years | 55 to 59 years | 60 to 64 years | 65 to 69 years | 70 to 74 years | 75 to 79 years | 80 to 84 years | 85 years and over | ALAND10 | AWATER10 | INTPTLAT10 | INTPTLON10\n",
       "6     | 1      | Census Tract 4001 | 2937             | 1461 | 1476   | 150           | 122          | 91             | 88             | 85             | 129            | 126            | 163            | 210            | 206            | 281            | 310            | 342            | 238            | 147            | 110            | 75             | 64                | 6882245 | 0        | 37.8676    | -122.232\n",
       "6     | 1      | Census Tract 4002 | 1974             | 971  | 1003   | 138           | 98           | 64             | 46             | 72             | 184            | 181            | 183            | 174            | 105            | 113            | 128            | 165            | 140            | 84             | 44             | 25             | 30                | 595106  | 0        | 37.8482    | -122.25\n",
       "6     | 1      | Census Tract 4003 | 4865             | 2228 | 2637   | 320           | 219          | 143            | 174            | 211            | 495            | 526            | 518            | 475            | 339            | 356            | 314            | 282            | 198            | 90             | 78             | 53             | 74                | 1105328 | 0        | 37.8406    | -122.254\n",
       "6     | 1      | Census Tract 4004 | 3703             | 1711 | 1992   | 255           | 168          | 94             | 85             | 234            | 486            | 446            | 398            | 332            | 223            | 213            | 210            | 206            | 132            | 78             | 55             | 42             | 46                | 703688  | 0        | 37.8482    | -122.257\n",
       "6     | 1      | Census Tract 4005 | 3517             | 1677 | 1840   | 184           | 133          | 86             | 92             | 313            | 495            | 468            | 353            | 261            | 253            | 187            | 179            | 199            | 109            | 67             | 32             | 49             | 57                | 588111  | 0        | 37.8485    | -122.265\n",
       "6     | 1      | Census Tract 4006 | 1571             | 723  | 848    | 64            | 60           | 59             | 66             | 156            | 199            | 200            | 145            | 107            | 107            | 113            | 96             | 55             | 51             | 20             | 25             | 21             | 27                | 297855  | 0        | 37.842     | -122.265\n",
       "6     | 1      | Census Tract 4007 | 4206             | 1997 | 2209   | 203           | 184          | 152            | 160            | 359            | 448            | 407            | 371            | 328            | 315            | 288            | 249            | 233            | 163            | 88             | 79             | 83             | 96                | 880513  | 0        | 37.8418    | -122.272\n",
       "6     | 1      | Census Tract 4008 | 3594             | 1745 | 1849   | 193           | 145          | 139            | 179            | 269            | 389            | 421            | 305            | 259            | 225            | 240            | 200            | 188            | 146            | 92             | 73             | 59             | 72                | 695230  | 0        | 37.8454    | -122.283\n",
       "6     | 1      | Census Tract 4009 | 2302             | 1127 | 1175   | 134           | 116          | 105            | 122            | 191            | 221            | 214            | 188            | 198            | 171            | 173            | 130            | 120            | 64             | 52             | 35             | 30             | 38                | 425163  | 0        | 37.8395    | -122.28\n",
       "6     | 1      | Census Tract 4010 | 5678             | 2671 | 3007   | 326           | 311          | 328            | 341            | 476            | 580            | 557            | 529            | 381            | 392            | 389            | 344            | 268            | 142            | 86             | 61             | 87             | 80                | 1154123 | 0        | 37.8312    | -122.272\n",
       "... (1371 rows omitted)"
      ]
     },
     "execution_count": 17,
     "metadata": {},
     "output_type": "execute_result"
    }
   ],
   "source": [
    "#Import the csv into a table\n",
    "data = Table.read_table('bay_area_census_age.csv')\n",
    "data"
   ]
  },
  {
   "cell_type": "markdown",
   "metadata": {},
   "source": [
    "First we wanted to find the census track closest to the Channing-Bowditch apartment with location (37.867495, -122.257617). We used the .apply method from the datascience library to apply a function to each row to calculate its track's distance to Channing-Bowditch. "
   ]
  },
  {
   "cell_type": "code",
   "execution_count": 18,
   "metadata": {
    "collapsed": true
   },
   "outputs": [],
   "source": [
    "#This helper function was given. It calculates the distance between any two locations given their longitude and latitude\n",
    "def distance_on_sphere(lat1, long1, lat2, long2):\n",
    "\n",
    "    # Convert latitude and longitude to spherical coordinates in radians.\n",
    "    degrees_to_radians = np.pi/180.0\n",
    "        \n",
    "    # phi = 90 - latitude\n",
    "    phi1 = (90.0 - lat1)*degrees_to_radians\n",
    "    phi2 = (90.0 - lat2)*degrees_to_radians\n",
    "        \n",
    "    # theta = longitude\n",
    "    theta1 = long1*degrees_to_radians\n",
    "    theta2 = long2*degrees_to_radians\n",
    "        \n",
    "    # We can compute spherical distance from spherical coordinates.\n",
    "    cos = (np.sin(phi1)*np.sin(phi2)*np.cos(theta1-theta2)+\n",
    "           np.cos(phi1)*np.cos(phi2))\n",
    "    arc = np.arccos( cos )\n",
    "\n",
    "    # Multiply arc by the radius of the earth to get length.\n",
    "    return 3960.*arc #to get distance in miles"
   ]
  },
  {
   "cell_type": "code",
   "execution_count": 19,
   "metadata": {
    "collapsed": false
   },
   "outputs": [
    {
     "name": "stderr",
     "output_type": "stream",
     "text": [
      "/Users/Mohammed/anaconda/lib/python3.6/site-packages/datascience/tables.py:361: FutureWarning: column lists are deprecated; pass each as an argument\n",
      "  \"column lists are deprecated; pass each as an argument\", FutureWarning)\n"
     ]
    },
    {
     "data": {
      "text/html": [
       "<table border=\"1\" class=\"dataframe\">\n",
       "    <thead>\n",
       "        <tr>\n",
       "            <th>STATE</th> <th>COUNTY</th> <th>NAME</th> <th>Total Population</th> <th>Male</th> <th>Female</th> <th>Under 5 years</th> <th>5 to 9 years</th> <th>10 to 14 years</th> <th>15 to 19 years</th> <th>20 to 24 years</th> <th>25 to 29 years</th> <th>30 to 34 years</th> <th>35 to 39 years</th> <th>40 to 44 years</th> <th>45 to 49 years</th> <th>50 to 54 years</th> <th>55 to 59 years</th> <th>60 to 64 years</th> <th>65 to 69 years</th> <th>70 to 74 years</th> <th>75 to 79 years</th> <th>80 to 84 years</th> <th>85 years and over</th> <th>ALAND10</th> <th>AWATER10</th> <th>INTPTLAT10</th> <th>INTPTLON10</th> <th>distance to Channing</th>\n",
       "        </tr>\n",
       "    </thead>\n",
       "    <tbody>\n",
       "        <tr>\n",
       "            <td>6    </td> <td>1     </td> <td>Census Tract 4228</td> <td>8368            </td> <td>4131</td> <td>4237  </td> <td>15           </td> <td>11          </td> <td>8             </td> <td>4020          </td> <td>3112          </td> <td>380           </td> <td>196           </td> <td>121           </td> <td>95            </td> <td>83            </td> <td>95            </td> <td>100           </td> <td>62            </td> <td>38            </td> <td>10            </td> <td>11            </td> <td>4             </td> <td>7                </td> <td>408570 </td> <td>0       </td> <td>37.8668   </td> <td>-122.26   </td> <td>0.13784             </td>\n",
       "        </tr>\n",
       "    </tbody>\n",
       "</table>"
      ],
      "text/plain": [
       "STATE | COUNTY | NAME              | Total Population | Male | Female | Under 5 years | 5 to 9 years | 10 to 14 years | 15 to 19 years | 20 to 24 years | 25 to 29 years | 30 to 34 years | 35 to 39 years | 40 to 44 years | 45 to 49 years | 50 to 54 years | 55 to 59 years | 60 to 64 years | 65 to 69 years | 70 to 74 years | 75 to 79 years | 80 to 84 years | 85 years and over | ALAND10 | AWATER10 | INTPTLAT10 | INTPTLON10 | distance to Channing\n",
       "6     | 1      | Census Tract 4228 | 8368             | 4131 | 4237   | 15            | 11           | 8              | 4020           | 3112           | 380            | 196            | 121            | 95             | 83             | 95             | 100            | 62             | 38             | 10             | 11             | 4              | 7                 | 408570  | 0        | 37.8668    | -122.26    | 0.13784"
      ]
     },
     "execution_count": 19,
     "metadata": {},
     "output_type": "execute_result"
    }
   ],
   "source": [
    "#Coordinates for Channing-Bowditch\n",
    "lat1, lon1 = 37.867495, -122.257617\n",
    "\n",
    "#To calculate the distance from the Channing-Bowditch apartments to each tract, we used a lambda expression \n",
    "#(a way of defining a function in one line) to make a function that plugs in its two parameters (lat2, lon2) \n",
    "#into the last two inputs of the distance_on_sphere with the coordinates of Channing Bowditch in its first two inputs. We saved the oput of the apply to a column labeled 'distance to Channing' \n",
    "data['distance to Channing'] = data.apply(lambda lat2, lon2 : distance_on_sphere(lat1, lon1, lat2, lon2), \n",
    "                                          ['INTPTLAT10', 'INTPTLON10'])\n",
    "\n",
    "\n",
    "\n",
    "# Select the row where 'distance to Channing' is minimum. \n",
    "# This is the closest census tract to the Channing Apartments\n",
    "channing_tract = data.where(data['distance to Channing'] == min(data['distance to Channing']))\n",
    "channing_tract\n",
    "\n"
   ]
  },
  {
   "cell_type": "markdown",
   "metadata": {},
   "source": [
    "We also generated a bar graph from this data."
   ]
  },
  {
   "cell_type": "code",
   "execution_count": 20,
   "metadata": {
    "collapsed": true
   },
   "outputs": [],
   "source": [
    "#This function was given, it switches the columns and rows like a transpose\n",
    "def rotate_table(table):\n",
    "    '''transforms a 2 x n table to be an n x 2 table'''\n",
    "    return Table().with_columns(['Columns', list(table.labels),\n",
    "                                 'Values', list(table.to_array()[0])])"
   ]
  },
  {
   "cell_type": "code",
   "execution_count": 21,
   "metadata": {
    "collapsed": false
   },
   "outputs": [
    {
     "data": {
      "text/html": [
       "<table border=\"1\" class=\"dataframe\">\n",
       "    <thead>\n",
       "        <tr>\n",
       "            <th>Columns</th> <th>Values</th>\n",
       "        </tr>\n",
       "    </thead>\n",
       "    <tbody>\n",
       "        <tr>\n",
       "            <td>Under 5 years </td> <td>15    </td>\n",
       "        </tr>\n",
       "    </tbody>\n",
       "        <tr>\n",
       "            <td>5 to 9 years  </td> <td>11    </td>\n",
       "        </tr>\n",
       "    </tbody>\n",
       "        <tr>\n",
       "            <td>10 to 14 years</td> <td>8     </td>\n",
       "        </tr>\n",
       "    </tbody>\n",
       "        <tr>\n",
       "            <td>15 to 19 years</td> <td>4020  </td>\n",
       "        </tr>\n",
       "    </tbody>\n",
       "        <tr>\n",
       "            <td>20 to 24 years</td> <td>3112  </td>\n",
       "        </tr>\n",
       "    </tbody>\n",
       "        <tr>\n",
       "            <td>25 to 29 years</td> <td>380   </td>\n",
       "        </tr>\n",
       "    </tbody>\n",
       "        <tr>\n",
       "            <td>30 to 34 years</td> <td>196   </td>\n",
       "        </tr>\n",
       "    </tbody>\n",
       "        <tr>\n",
       "            <td>35 to 39 years</td> <td>121   </td>\n",
       "        </tr>\n",
       "    </tbody>\n",
       "        <tr>\n",
       "            <td>40 to 44 years</td> <td>95    </td>\n",
       "        </tr>\n",
       "    </tbody>\n",
       "        <tr>\n",
       "            <td>45 to 49 years</td> <td>83    </td>\n",
       "        </tr>\n",
       "    </tbody>\n",
       "</table>\n",
       "<p>... (8 rows omitted)</p"
      ],
      "text/plain": [
       "Columns        | Values\n",
       "Under 5 years  | 15\n",
       "5 to 9 years   | 11\n",
       "10 to 14 years | 8\n",
       "15 to 19 years | 4020\n",
       "20 to 24 years | 3112\n",
       "25 to 29 years | 380\n",
       "30 to 34 years | 196\n",
       "35 to 39 years | 121\n",
       "40 to 44 years | 95\n",
       "45 to 49 years | 83\n",
       "... (8 rows omitted)"
      ]
     },
     "execution_count": 21,
     "metadata": {},
     "output_type": "execute_result"
    }
   ],
   "source": [
    "#We are only interested in the numerical data for each age group\n",
    "tograph = channing_tract.select(['Under 5 years', '5 to 9 years', '10 to 14 years',\n",
    "                                 '15 to 19 years','20 to 24 years','25 to 29 years',\n",
    "                                 '30 to 34 years','35 to 39 years','40 to 44 years',\n",
    "                                 '45 to 49 years','50 to 54 years','55 to 59 years',\n",
    "                                 '60 to 64 years','65 to 69 years','70 to 74 years',\n",
    "                                 '75 to 79 years','80 to 84 years','85 years and over'])\n",
    "tograph = rotate_table(tograph) #Rotate so that each row represents a different age group\n",
    "tograph"
   ]
  },
  {
   "cell_type": "code",
   "execution_count": 22,
   "metadata": {
    "collapsed": false
   },
   "outputs": [
    {
     "data": {
      "image/png": "[encoded data removed]",
      "text/plain": [
       "<matplotlib.figure.Figure at 0x11aceb358>"
      ]
     },
     "metadata": {},
     "output_type": "display_data"
    }
   ],
   "source": [
    "tograph.relabel('Columns', 'Age group') #Change the name of the first column from 'Column' to 'Age group'\n",
    "tograph.relabel('Values', 'Count') #Change the name of the second column from 'Values' to 'Count\n",
    "tograph.barh('Age group') #barh makes a bar graph, the h is for horizontal bar graphs"
   ]
  },
  {
   "cell_type": "markdown",
   "metadata": {},
   "source": [
    "# Linear Algebra \n",
    "\n",
    "We have introduced basic concepts of Linear Algebra and how to use the numpy library."
   ]
  },
  {
   "cell_type": "code",
   "execution_count": 37,
   "metadata": {
    "collapsed": false
   },
   "outputs": [
    {
     "data": {
      "text/plain": [
       "array([1, 2, 3, 4])"
      ]
     },
     "execution_count": 37,
     "metadata": {},
     "output_type": "execute_result"
    }
   ],
   "source": [
    "oneD = np.array([1,2,3,4])            # 1D array construction\n",
    "oneD"
   ]
  },
  {
   "cell_type": "code",
   "execution_count": 24,
   "metadata": {
    "collapsed": false
   },
   "outputs": [
    {
     "data": {
      "text/plain": [
       "array([[ 4, -5],\n",
       "       [-2,  3]])"
      ]
     },
     "execution_count": 24,
     "metadata": {},
     "output_type": "execute_result"
    }
   ],
   "source": [
    "twoD = np.array([[4,-5], [-2,3]])   # 2D array contruction\n",
    "twoD"
   ]
  },
  {
   "cell_type": "code",
   "execution_count": 25,
   "metadata": {
    "collapsed": false
   },
   "outputs": [
    {
     "data": {
      "text/plain": [
       "array([[ 1.,  0.,  0.],\n",
       "       [ 0.,  1.,  0.],\n",
       "       [ 0.,  0.,  1.]])"
      ]
     },
     "execution_count": 25,
     "metadata": {},
     "output_type": "execute_result"
    }
   ],
   "source": [
    "Identity = np.identity(3);              # 3x3 identity matrix\n",
    "Identity"
   ]
  },
  {
   "cell_type": "code",
   "execution_count": 48,
   "metadata": {
    "collapsed": false
   },
   "outputs": [
    {
     "data": {
      "text/plain": [
       "array([[ 0.78323237,  0.23199918,  0.78771058,  0.02981385],\n",
       "       [ 0.6420725 ,  0.95462013,  0.62377632,  0.97610815],\n",
       "       [ 0.12534792,  0.97774399,  0.04526643,  0.39553043],\n",
       "       [ 0.36064359,  0.22411812,  0.03332979,  0.09539046]])"
      ]
     },
     "execution_count": 48,
     "metadata": {},
     "output_type": "execute_result"
    }
   ],
   "source": [
    "Random1 = np.random.rand(4,4) #Create a 5 x 4 matrix with random inputs [0,1)\n",
    "Random2 = np.random.rand(4,4) #Create a 5 x 4 matrix with random inputs [0,1)\n",
    "Random1"
   ]
  },
  {
   "cell_type": "code",
   "execution_count": 49,
   "metadata": {
    "collapsed": false
   },
   "outputs": [
    {
     "data": {
      "text/plain": [
       "array([[ 1.45075419,  0.38269568,  1.05649904,  0.4050673 ],\n",
       "       [ 0.7135793 ,  1.26672272,  0.84646703,  1.69662335],\n",
       "       [ 0.91631041,  0.98028352,  0.33835899,  1.26822815],\n",
       "       [ 0.85280851,  1.12714963,  0.67833557,  0.85224303]])"
      ]
     },
     "execution_count": 49,
     "metadata": {},
     "output_type": "execute_result"
    }
   ],
   "source": [
    "Random1+Random2 #Elementwise addition \n",
    "#or \n",
    "np.add(Random1, Random2)"
   ]
  },
  {
   "cell_type": "code",
   "execution_count": 50,
   "metadata": {
    "collapsed": false
   },
   "outputs": [
    {
     "data": {
      "text/plain": [
       "array([[ 0.5228247 ,  0.03496146,  0.21172752,  0.01118775],\n",
       "       [ 0.04591255,  0.29793941,  0.13890919,  0.70330076],\n",
       "       [ 0.0991455 ,  0.00248301,  0.01326725,  0.34517851],\n",
       "       [ 0.17749612,  0.20238572,  0.02149791,  0.07219652]])"
      ]
     },
     "execution_count": 50,
     "metadata": {},
     "output_type": "execute_result"
    }
   ],
   "source": [
    "Random1*Random2 #Elementwise multiplication"
   ]
  },
  {
   "cell_type": "code",
   "execution_count": 51,
   "metadata": {
    "collapsed": false
   },
   "outputs": [
    {
     "data": {
      "text/plain": [
       "array([[  1.17334349e+00,   1.53951268e+00,   2.93059664e+00,\n",
       "          7.94498966e-02],\n",
       "       [  8.97918165e+00,   3.05867416e+00,   2.80108820e+00,\n",
       "          1.35473638e+00],\n",
       "       [  1.58475174e-01,   3.85009927e+02,   1.54444156e-01,\n",
       "          4.53227307e-01],\n",
       "       [  7.32769797e-01,   2.48184157e-01,   5.16736256e-02,\n",
       "          1.26035730e-01]])"
      ]
     },
     "execution_count": 51,
     "metadata": {},
     "output_type": "execute_result"
    }
   ],
   "source": [
    "Random1/Random2 #Elementwise division"
   ]
  },
  {
   "cell_type": "code",
   "execution_count": 52,
   "metadata": {
    "collapsed": false
   },
   "outputs": [
    {
     "data": {
      "text/plain": [
       "array([[ 1.56646475,  0.46399835,  1.57542116,  0.0596277 ],\n",
       "       [ 1.28414501,  1.90924026,  1.24755265,  1.9522163 ],\n",
       "       [ 0.25069584,  1.95548798,  0.09053287,  0.79106087],\n",
       "       [ 0.72128718,  0.44823623,  0.06665957,  0.19078093]])"
      ]
     },
     "execution_count": 52,
     "metadata": {},
     "output_type": "execute_result"
    }
   ],
   "source": [
    "Random1*2  #Multiply each element of X by two"
   ]
  },
  {
   "cell_type": "code",
   "execution_count": 53,
   "metadata": {
    "collapsed": false
   },
   "outputs": [
    {
     "data": {
      "text/plain": [
       "array([[ 0.78323237,  0.46399835,  2.36313173,  0.11925539],\n",
       "       [ 0.6420725 ,  1.90924026,  1.87132897,  3.9044326 ],\n",
       "       [ 0.12534792,  1.95548798,  0.1357993 ,  1.58212174],\n",
       "       [ 0.36064359,  0.44823623,  0.09998936,  0.38156186]])"
      ]
     },
     "execution_count": 53,
     "metadata": {},
     "output_type": "execute_result"
    }
   ],
   "source": [
    "Random1*oneD #Multiply the ith column of X with the ith element of a"
   ]
  },
  {
   "cell_type": "code",
   "execution_count": 55,
   "metadata": {
    "collapsed": false
   },
   "outputs": [
    {
     "data": {
      "text/plain": [
       "array([ 3.72961785,  8.32707433,  3.79875693,  1.29043104])"
      ]
     },
     "execution_count": 55,
     "metadata": {},
     "output_type": "execute_result"
    }
   ],
   "source": [
    "np.dot(Random1,oneD)  # Matrix multiplication "
   ]
  },
  {
   "cell_type": "code",
   "execution_count": 56,
   "metadata": {
    "collapsed": false
   },
   "outputs": [
    {
     "data": {
      "text/plain": [
       "array([-10.17785173, -18.12235939,  40.30221649,  -0.82039683])"
      ]
     },
     "execution_count": 56,
     "metadata": {},
     "output_type": "execute_result"
    }
   ],
   "source": [
    "np.linalg.solve(Random2, oneD) #Solves the system of linear equations Ax=b"
   ]
  },
  {
   "cell_type": "markdown",
   "metadata": {},
   "source": [
    "An important concept of Linear Algebra is taking the inverse and transpose of a matrix. The inverse of a matrix A is the matrix B such that AB = Identity Matrix. The transpose of a matrix switches the positions of every element a_ij (ith row, jth column) to a_ji. Both these operations will be crucial for Linear Regression."
   ]
  },
  {
   "cell_type": "code",
   "execution_count": 57,
   "metadata": {
    "collapsed": false
   },
   "outputs": [
    {
     "data": {
      "text/plain": [
       "array([[ 1.5,  2.5],\n",
       "       [ 1. ,  2. ]])"
      ]
     },
     "execution_count": 57,
     "metadata": {},
     "output_type": "execute_result"
    }
   ],
   "source": [
    "np.linalg.inv(twoD)  #Find the inverse of the Matrix"
   ]
  },
  {
   "cell_type": "code",
   "execution_count": 58,
   "metadata": {
    "collapsed": false
   },
   "outputs": [
    {
     "data": {
      "text/plain": [
       "array([[ 4, -2],\n",
       "       [-5,  3]])"
      ]
     },
     "execution_count": 58,
     "metadata": {},
     "output_type": "execute_result"
    }
   ],
   "source": [
    "twoD.T  #Finds the tanspose of the matrix, remember the tranpose switches the position of the columns and rows\n",
    "#or \n",
    "np.transpose(twoD)"
   ]
  },
  {
   "cell_type": "code",
   "execution_count": null,
   "metadata": {
    "collapsed": true
   },
   "outputs": [],
   "source": []
  }
 ],
 "metadata": {
  "kernelspec": {
   "display_name": "Python 3",
   "language": "python",
   "name": "python3"
  },
  "language_info": {
   "codemirror_mode": {
    "name": "ipython",
    "version": 3
   },
   "file_extension": ".py",
   "mimetype": "text/x-python",
   "name": "python",
   "nbconvert_exporter": "python",
   "pygments_lexer": "ipython3",
   "version": "3.6.0"
  },
  "varInspector": {
   "cols": {
    "lenName": 16,
    "lenType": 16,
    "lenVar": 40
   },
   "kernels_config": {
    "python": {
     "delete_cmd_postfix": "",
     "delete_cmd_prefix": "del ",
     "library": "var_list.py",
     "varRefreshCmd": "print(var_dic_list())"
    },
    "r": {
     "delete_cmd_postfix": ") ",
     "delete_cmd_prefix": "rm(",
     "library": "var_list.r",
     "varRefreshCmd": "cat(var_dic_list()) "
    }
   },
   "types_to_exclude": [
    "module",
    "function",
    "builtin_function_or_method",
    "instance",
    "_Feature"
   ],
   "window_display": false
  }
 },
 "nbformat": 4,
 "nbformat_minor": 2
}
