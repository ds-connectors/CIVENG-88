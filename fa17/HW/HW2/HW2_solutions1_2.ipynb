{
 "cells": [
  {
   "cell_type": "markdown",
   "metadata": {},
   "source": [
    "# CE - 88 Data Science for Smart Cities\n",
    "\n",
    "**Due date: Monday, October 30th 11:59pm**\n",
    "\n",
    "## Homework 2"
   ]
  },
  {
   "cell_type": "markdown",
   "metadata": {},
   "source": [
    "### 1. Least square linear regression (30 points)\n",
    "\n",
    "You are given the set of data:\n",
    "\n",
    "{(-2,1),(-1,3),(0,4),(2,3),(4,7)}\n",
    "\n",
    "**1.1 (5 points)** Find the least square regression line of the set. The regression line must be modeled as $y = \\theta_1 x + \\theta_2$. Type a list of $\\theta_1$ and $\\theta_2$ into the answer, i.e., [$\\theta_1$, $\\theta_2$]\n",
    "\n",
    "**1.2 (5 points)** Find $R^2$ of the regression line (Your answer needs to be rounded to 2-decimal places)."
   ]
  },
  {
   "cell_type": "code",
   "execution_count": null,
   "metadata": {
    "collapsed": true
   },
   "outputs": [],
   "source": [
    "# Your analysis and answers here:\n",
    "import numpy as np\n",
    "d = [-2, -1, 0, 2, 4]\n",
    "X = np.vstack([d, np.ones(len(d))]).T\n",
    "y = np.array([1, 3, 4, 3, 7])\n",
    "theta = np.linalg.solve(X.T.dot(X), X.T.dot(y))\n",
    "theta"
   ]
  },
  {
   "cell_type": "code",
   "execution_count": 6,
   "metadata": {},
   "outputs": [
    {
     "data": {
      "text/plain": [
       "0.74362428160919536"
      ]
     },
     "execution_count": 6,
     "metadata": {},
     "output_type": "execute_result"
    }
   ],
   "source": [
    "# Total sum of squares\n",
    "SS_tot = np.sum(np.square(y-np.mean(y)))\n",
    "\n",
    "# Sum of squares of residuals\n",
    "SS_res = np.sum(np.square(y-[theta[0]*x + theta[1] for x in d]))\n",
    "\n",
    "# R^2\n",
    "R2 = 1 - SS_res/SS_tot\n",
    "\n",
    "# Solution 2: using skitlearn\n",
    "from sklearn import linear_model\n",
    "from sklearn.metrics import mean_squared_error, r2_score\n",
    "\n",
    "reg = linear_model.LinearRegression()\n",
    "reg.fit(np.array(d).reshape((len(d),1)),y.reshape((len(y),1)))\n",
    "pred = reg.predict(np.array(d).reshape((len(d),1)))\n",
    "r2_score(y.reshape((len(y),1)), pred)"
   ]
  },
  {
   "cell_type": "markdown",
   "metadata": {},
   "source": [
    "Now, you want to predict daily average power loads by given daily average temperature during summer (June - Aug) for the year 2016, with given power loads data in 2014 and 2015, using linear regression. That is, train your linear regressor with the summer data in 2014 and 2015 (Use \"DUQ\" column for the power load) and predict daily average power loads by daily average temperatures over the 2016 summer.\n",
    "\n",
    "Use the following function to convert \"date\" string into datetime object.\n"
   ]
  },
  {
   "cell_type": "code",
   "execution_count": 9,
   "metadata": {
    "collapsed": true
   },
   "outputs": [],
   "source": [
    "from datetime import datetime\n",
    "def getDatetimeObj(dateStr, fmt):\n",
    "    \"\"\"\n",
    "    Convert string in date format to datatime object\n",
    "    \"\"\"\n",
    "    try:\n",
    "        t = datetime.strptime(dateStr, fmt)\n",
    "    except ValueError as v:\n",
    "        if len(v.args) > 0 and v.args[0].startswith('unconverted data remains: '):\n",
    "            dateStr = dateStr[:-(len(v.args[0]) - 26)]\n",
    "            t = datetime.strptime(dateStr, fmt)\n",
    "        else:\n",
    "            raise\n",
    "    return t\n",
    "\n",
    "# Example:\n",
    "# table_load = ds.Table.read_table(\"2014.csv\")\n",
    "# table_load[\"DAY\"] = table_load.select(\"DAY\").apply(lambda x: getDatetimeObj(x[0],\"%m/%d/%y\"))"
   ]
  },
  {
   "cell_type": "code",
   "execution_count": null,
   "metadata": {
    "collapsed": true
   },
   "outputs": [],
   "source": [
    "# Your analysis and answers here:# Your analysis and answers here:\n",
    "import datascience as ds\n",
    "import numpy as np\n",
    "from sklearn import linear_model\n",
    "from sklearn.metrics import mean_squared_error, r2_score\n",
    "import matplotlib.pyplot as plt\n",
    "import seaborn\n",
    "seaborn.set_context(rc={'lines.markeredgewidth': 1.0})\n",
    "%matplotlib inline\n",
    "\n",
    "#============================================================\n",
    "# Process data\n",
    "#============================================================\n",
    "\n",
    "# Load data\n",
    "table_load = ds.Table.read_table(\"2014.csv\")\\\n",
    "            .append(ds.Table.read_table(\"2015.csv\"))\\\n",
    "            .append(ds.Table.read_table(\"2016.csv\"))\n",
    "\n",
    "# Weather data\n",
    "table_weather = ds.Table.read_table(\"weather_kpit.csv\")\n",
    "\n",
    "# Convert datetime object\n",
    "table_load[\"DAY\"] = table_load.select(\"DAY\").apply(lambda x: getDatetimeObj(x[0],\"%m/%d/%y\"))\n",
    "table_weather[\"Local Time\"] = table_weather.select(\"Local Time\")\\\n",
    "                                            .apply(lambda x: getDatetimeObj(x[0],\" %m/%d/%Y %I:%M %p\"))\n",
    "table_weather[\"Date\"] = table_weather.select(\"Local Time\").apply(lambda x : x[0].date())\n",
    "\n",
    "# Group temperature by date\n",
    "table_load_daily = table_load.select([\"DAY\",\"DUQ\"]).group(\"DAY\",np.mean)\n",
    "table_weather_daily = table_weather.select([\"Date\",\"Temperature\"]).group(\"Date\",np.mean)\n",
    "\n",
    "# Get summer data over 2014-2016\n",
    "table_load_daily_summer = table_load_daily.where(list(map(lambda x: x.month >= 6 \n",
    "                                                          and x.month <= 8, \n",
    "                                                          table_load_daily[\"DAY\"])))\n",
    "table_weather_daily_summer = table_weather_daily.where(list(map(lambda x: x.year >= 2014 and x.year <= 2016 \n",
    "                                                                and x.month >= 6 and x.month <=8, \n",
    "                                                                table_weather_daily[\"Date\"])))\n",
    "# Merge two tables\n",
    "table_summer = table_weather_daily_summer\n",
    "table_summer[\"Load\"] = table_load_daily_summer[\"DUQ mean\"]\n",
    "table_summer.relabel(\"Temperature mean\",\"Temperature\")\n",
    "\n",
    "#============================================================\n",
    "# Estimate theta\n",
    "#============================================================\n",
    "temps = table_summer.where(list(map(lambda x:x.year != 2016, table_summer[\"Date\"])))[\"Temperature\"] # 2014-2015 temperatures\n",
    "loads = table_summer.where(list(map(lambda x:x.year != 2016, table_summer[\"Date\"])))[\"Load\"] # 2014-2015 power loads\n",
    "\n",
    "X = np.vstack([temps, np.ones(len(temps))]).T\n",
    "y = loads\n",
    "theta = np.linalg.solve(X.T.dot(X), X.T.dot(y))\n",
    "print(\"Coefficients obtained by Linear Algebra: \",theta)\n",
    "\n",
    "#============================================================\n",
    "# Get predictions\n",
    "#============================================================\n",
    "\n",
    "# Define regressor\n",
    "regr = linear_model.LinearRegression()\n",
    "\n",
    "# Set a train data\n",
    "X_train = np.reshape(table_summer.where(list(map(lambda x:x.year != 2016, table_summer[\"Date\"])))[\"Temperature\"], \n",
    "                     (len(table_summer.where(list(map(lambda x:x.year != 2016, table_summer[\"Date\"])))[\"Temperature\"]),1))\n",
    "y_train = np.reshape(table_summer.where(list(map(lambda x:x.year != 2016, table_summer[\"Date\"])))[\"Load\"], \n",
    "                     (len(table_summer.where(list(map(lambda x:x.year != 2016, table_summer[\"Date\"])))[\"Load\"]),1))\n",
    "\n",
    "# Set a test data\n",
    "X_test = np.reshape(table_summer.where(list(map(lambda x:x.year == 2016, table_summer[\"Date\"])))[\"Temperature\"], \n",
    "                     (len(table_summer.where(list(map(lambda x:x.year == 2016, table_summer[\"Date\"])))[\"Temperature\"]),1))\n",
    "y_test = np.reshape(table_summer.where(list(map(lambda x:x.year == 2016, table_summer[\"Date\"])))[\"Load\"], \n",
    "                     (len(table_summer.where(list(map(lambda x:x.year == 2016, table_summer[\"Date\"])))[\"Load\"]),1))\n",
    "\n",
    "# Train the linear regressor with the train data\n",
    "regr.fit(X_train,y_train)\n",
    "\n",
    "# Make predictions using the test set\n",
    "load_pred = regr.predict(X_test)\n",
    "\n",
    "# The coefficients\n",
    "print('Coefficients obtained by skitlearn: ', regr.coef_, regr.intercept_) # We find the theta is the same as above\n",
    "\n",
    "# The mean squared error\n",
    "print(\"Mean squared error: %.2f\" % mean_squared_error(y_test, load_pred))\n",
    "\n",
    "# Explained variance score: 1 is perfect prediction\n",
    "print('Variance score (r-square): %.2f' % r2_score(y_test, load_pred))\n",
    "\n"
   ]
  },
  {
   "cell_type": "markdown",
   "metadata": {},
   "source": [
    "**1.3 (10 points)** Among your predictions, find the maximum \"average\" temperature (Your answer needs to be rounded)\n"
   ]
  },
  {
   "cell_type": "code",
   "execution_count": 19,
   "metadata": {},
   "outputs": [
    {
     "data": {
      "text/plain": [
       "array([ 1810.12389166])"
      ]
     },
     "execution_count": 19,
     "metadata": {},
     "output_type": "execute_result"
    }
   ],
   "source": [
    "max(load_pred)"
   ]
  },
  {
   "cell_type": "markdown",
   "metadata": {
    "collapsed": true
   },
   "source": [
    "**1.4 (5 points)** To validate the regression, find $R^2$ of your predction (Your answer needs to be rounded to 2-decimal places)."
   ]
  },
  {
   "cell_type": "code",
   "execution_count": 20,
   "metadata": {},
   "outputs": [
    {
     "data": {
      "text/plain": [
       "-0.059920597806229381"
      ]
     },
     "execution_count": 20,
     "metadata": {},
     "output_type": "execute_result"
    }
   ],
   "source": [
    "r2_score(y_test, load_pred)"
   ]
  },
  {
   "cell_type": "markdown",
   "metadata": {},
   "source": [
    "**1.5 (5 points)** Visualize your regression line over the datapoints."
   ]
  },
  {
   "cell_type": "code",
   "execution_count": 21,
   "metadata": {},
   "outputs": [
    {
     "data": {
      "image/png": "[encoded data removed]",
      "text/plain": [
       "<matplotlib.figure.Figure at 0x1a140c5550>"
      ]
     },
     "metadata": {},
     "output_type": "display_data"
    }
   ],
   "source": [
    "#============================================================\n",
    "# Visualizing data with linear regression\n",
    "#============================================================\n",
    "plt.plot(X_test, y_test, 'bx')\n",
    "xlim = plt.gca().get_xlim()\n",
    "ylim = plt.gca().get_ylim()\n",
    "plt.plot(xlim, [theta[0]*xlim[0]+theta[1], theta[0]*xlim[1]+theta[1]], 'g-')\n",
    "plt.ylim(ylim)\n",
    "plt.legend([\"Observed days\", \"Squared loss fit\"], loc=\"upper left\")\n",
    "plt.xlabel(\"Average Temperature (F)\")\n",
    "plt.ylabel(\"Average Demand (kW)\")\n",
    "plt.tight_layout()"
   ]
  },
  {
   "cell_type": "markdown",
   "metadata": {},
   "source": [
    "### 2. Naive Bayes (30 points)\n",
    "\n",
    "In this question we are going to use Naive Bayes to predict the amount bikers given some features about the season, weather and the hour of the day. Specifically the features are as follow:\n",
    "\n",
    "- **season**: can take 4 values $\\in \\{1,2,3,4\\}$\n",
    "\n",
    "\n",
    "- **hour**: representing hour of the day. The data here is already been categorized into four categories:\n",
    "    - cateogory 1: hour $\\in \\{0,1,2,3,4,5\\}$\n",
    "    - cateogory 2: hour $\\in \\{6,7,8,9,10,11\\}$\n",
    "    - cateogory 3: hour $\\in \\{12,13,14,15,16,17\\}$\n",
    "    - cateogory 4: hour $\\in \\{18,19,20,21,22,23\\}$\n",
    "    \n",
    "    \n",
    "- **workingday**: is 0 if it is a holiday and 1 if it is a working day.\n",
    "\n",
    "\n",
    "- **weather**: representing the weather. The data here is already been categorized into three categories:\n",
    "    - cateogory 1: clear, few clouds, partly cloudy\n",
    "    - cateogory 2: mist, cloudy\n",
    "    - cateogory 3: light snow, thunderstorm\n",
    "  \n",
    "  \n",
    "- **temp**: representing the temperature that is categorized in five categories:\n",
    "    - cateogory 1: temp $\\in [0,0.2]$\n",
    "    - cateogory 2: temp $\\in (0.2,0.4]$\n",
    "    - cateogory 3: temp $\\in (0.4,0.6]$\n",
    "    - cateogory 4: temp $\\in (0.6,0.8]$\n",
    "    - cateogory 5: temp $\\in (0.8,1]$   \n",
    " \n",
    " \n",
    "- **hum**: representing the humidity that is categorized in five categories:\n",
    "    - cateogory 1: hum $\\in [0,0.2]$\n",
    "    - cateogory 2: hum $\\in (0.2,0.4]$\n",
    "    - cateogory 3: hum $\\in (0.4,0.6]$\n",
    "    - cateogory 4: hum $\\in (0.6,0.8]$\n",
    "    - cateogory 5: hum $\\in (0.8,1]$\n",
    " \n",
    " \n",
    "- **windspeed**: representing the wind speed that is categorized in five categories:\n",
    "    - cateogory 1: windspeed $\\in [0,0.2]$\n",
    "    - cateogory 2: windspeed $\\in (0.2,0.4]$\n",
    "    - cateogory 3: windspeed $\\in (0.4,0.6]$\n",
    "    - cateogory 4: windspeed $\\in (0.6,0.8]$\n",
    "    - cateogory 5: windspeed $\\in (0.8,1]$\n",
    "\n",
    "\n",
    "- **Class label**: the class labels are number of bikers which are categorized as follow:\n",
    "    - cateogory 1: count $\\in [0,100]$\n",
    "    - cateogory 2: count $\\in [101,200]$\n",
    "    - cateogory 3: count $\\in [201,300]$\n",
    "    - cateogory 4: count $\\in [301,400]$\n",
    "    - cateogory 5: count $\\in [401,500]$\n",
    "    - cateogory 6: count $\\in [501,600]$\n",
    "    - cateogory 7: count $\\in [601,700]$\n",
    "\n",
    "**Part 1. (10 points)** You are given two datasets, bike_train.csv and bike_test.csv. First learn a Naive Bayes classifier basad on the training data and calculate the training accuracy. \n"
   ]
  },
  {
   "cell_type": "code",
   "execution_count": 22,
   "metadata": {},
   "outputs": [
    {
     "data": {
      "text/plain": [
       "0.59916666666666663"
      ]
     },
     "execution_count": 22,
     "metadata": {},
     "output_type": "execute_result"
    }
   ],
   "source": [
    "from datascience import *\n",
    "import numpy as np\n",
    "# Your analysis and answers here:\n",
    "table_train = Table.read_table('bike_train.csv')\n",
    "table_test = Table.read_table('bike_test.csv')\n",
    "table_test = table_test.where(0, are.between_or_equal_to(0,7)) #Only legitimate inputs\n",
    "\n",
    "#Make a table for each count type and calculate how many values are in each table\n",
    "table_1 = table_train.where('count',1) #All the data points in training data where count == 1\n",
    "num_1 = table_1.num_rows\n",
    "table_2 = table_train.where('count',2) #All the data points in training data where count == 2\n",
    "num_2 = table_2.num_rows\n",
    "table_3 = table_train.where('count',3) #All the data points in training data where count == 3\n",
    "num_3 = table_3.num_rows\n",
    "table_4 = table_train.where('count',4) #All the data points in training data where count == 4\n",
    "num_4 = table_4.num_rows\n",
    "table_5 = table_train.where('count',5) #All the data points in training data where count == 5\n",
    "num_5 = table_5.num_rows\n",
    "table_6 = table_train.where('count',6) #All the data points in training data where count == 6\n",
    "num_6 = table_6.num_rows\n",
    "table_7 = table_train.where('count',7) #All the data points in training data where count == 7\n",
    "num_7 = table_7.num_rows\n",
    "\n",
    "#Calculate Prior probability\n",
    "#Recall prior = # of elements of that type in the set / total elements\n",
    "Y = [(num_1 / table_train.num_rows)]\n",
    "Y.append((num_2 / table_train.num_rows))\n",
    "Y.append((num_3 / table_train.num_rows))\n",
    "Y.append((num_4 / table_train.num_rows))\n",
    "Y.append((num_5 / table_train.num_rows))\n",
    "Y.append((num_6 / table_train.num_rows))\n",
    "Y.append((num_7 / table_train.num_rows))\n",
    "\n",
    "\n",
    "#Make a matrix for every field \n",
    "#We will be inserting the posterior probabilities into these matricies\n",
    "X_season = np.zeros((4,7))\n",
    "X_hour = np.zeros((4,7))\n",
    "X_workingday = np.zeros((2,7))\n",
    "X_weather = np.zeros((3,7))\n",
    "X_temp = np.zeros((5,7))\n",
    "X_hum = np.zeros((5,7))\n",
    "X_windspeed = np.zeros((5,7))\n",
    "\n",
    "\n",
    "#Calculating posterior probabilities, where row r and column c correspond to P(r|c) \n",
    "#Each row will correspond with the possible values a field can take on \n",
    "#Each column will correspond with the possible values for count  \n",
    "    #Ex. The second row and third column of X_season contains the probability that season=2 when count is 3\n",
    "    \n",
    "for i in range(0,7):\n",
    "    for j in range(0,4):\n",
    "        X_season[j,i] = table_train.where('season', j+1).where('count', i+1).num_rows  / (table_train.where('count', i+1).num_rows)\n",
    "        X_hour[j,i] = table_train.where('hour',j+1).where('count',i+1).num_rows  / (table_train.where('count',i+1).num_rows)\n",
    "    for k in range(0,2):\n",
    "        X_workingday[k,i] = table_train.where('workingday',k).where('count',i+1).num_rows  / (table_train.where('count',i+1).num_rows)\n",
    "    for l in range(0,3):    \n",
    "        X_weather[l,i] = table_train.where('weather',l+1).where('count',i+1).num_rows  / (table_train.where('count',i+1).num_rows)\n",
    "    for m in range(0,5):    \n",
    "        X_temp[m,i] = table_train.where('temp',m+1).where('count',i+1).num_rows  / (table_train.where('count',i+1).num_rows)\n",
    "        X_hum[m,i] = table_train.where('hum',m+1).where('count',i+1).num_rows  / (table_train.where('count',i+1).num_rows)\n",
    "        X_windspeed[m,i] = table_train.where('windspeed',m+1).where('count',i+1).num_rows  / (table_train.where('count',i+1).num_rows)\n",
    "    \n",
    "\n",
    "    \n",
    "    \n",
    "#Create a matrix with the given data \n",
    "X_train = np.empty((table_train.num_rows,7))\n",
    "\n",
    "X_train[:,0] = table_train.select('season')[0] #First column for seasons\n",
    "X_train[:,1] = table_train.select('hour')[0] #Second column for seasons\n",
    "X_train[:,2] = table_train.select('workingday')[0] #Third column for seasons\n",
    "X_train[:,3] = table_train.select('weather')[0] #Fourth column for seasons\n",
    "X_train[:,4] = table_train.select('temp')[0] #Fifth column for seasons\n",
    "X_train[:,5] = table_train.select('hum')[0] #Sixth column for seasons\n",
    "X_train[:,6] = table_train.select('windspeed')[0] #Seventh column for seasons\n",
    "\n",
    "\n",
    "#Create a matrix for all the probabilities of each data point\n",
    "#For each input of the data, we will input the probability of each of the seven choices (count==1, count==2,...) into a row\n",
    "#The possibility with the greatest probability will be our guess\n",
    "    #Ex. the third row and fourth column corresponds to the probability that the third data point is count 4\n",
    "Y_train = np.zeros((len(X_train), 7))\n",
    "\n",
    "\n",
    "\n",
    "#Now fill the probability for every data point for every possible count value that point can take on\n",
    "\n",
    "for i in range(0, len(X_train)):\n",
    "    z = X_train[i,:].astype(np.int) #Given fields for a data point, z\n",
    "    V_season = X_season[(z[0]-1),:] #Find the probability for each count possibility given z's season value\n",
    "    V_hour = X_hour[(z[1]-1),:]     #Find the probability for each count possibility given z's hour value\n",
    "    V_workingday = X_workingday[(z[2]),:] #Find the probability for each count possibility given z's workingday value\n",
    "    V_weather = X_weather[(z[3]-1),:] #Find the probability for each count possibility given z's weather value\n",
    "    V_temp = X_temp[(z[4]-1),:]     #Find the probability for each count possibility given z's temp value\n",
    "    V_hum = X_hum[(z[5]-1),:]       #Find the probability for each count possibility given z's hum value\n",
    "    V_windspeed = X_windspeed[(z[6]-1),:] #Find the probability for each count possibility given z's windspeed value\n",
    "    Y_train[i,:] = V_season * V_hour*V_workingday*V_weather*V_temp*V_hum*V_windspeed*Y #Remeber NAIVE bayes (all independent)\n",
    "    Y_train[i,:] = Y_train[i,:] / sum(Y_train[i,:]) #Optional: Smooth the values by their porportion of each other so that their sum equals 1 \n",
    "    \n",
    "\n",
    "    \n",
    "    \n",
    "    \n",
    "#Now that we have the desired probabilites, for each data point pick the index with the highest probability to be our guess\n",
    "Labels = np.argmax(Y_train,axis = 1) + 1 #Remember that indexing starts at 0, so the nth element corresponds to the count = n+1      \n",
    "\n",
    "\n",
    "#Now lets attach our guess onto the data\n",
    "train_with_guess = table_train.with_column(\"guess\", Labels)\n",
    "train_with_guess\n",
    "\n",
    "\n",
    "#Now lets check how we did!\n",
    "accuracy = sum(train_with_guess.column('count') == train_with_guess.column('guess')) / train_with_guess.num_rows \n",
    "accuracy"
   ]
  },
  {
   "cell_type": "markdown",
   "metadata": {
    "collapsed": true
   },
   "source": [
    "**Part 2. (10 points)** Then, apply your trained model to the testing dataset and predict the number of bikers and calculate the testing accuracy in prediction. What can you say about comparison among the training and testing accuracy? \n"
   ]
  },
  {
   "cell_type": "code",
   "execution_count": 23,
   "metadata": {},
   "outputs": [
    {
     "data": {
      "text/plain": [
       "0.62015222906850309"
      ]
     },
     "execution_count": 23,
     "metadata": {},
     "output_type": "execute_result"
    }
   ],
   "source": [
    "#Create a matrix with the new data \n",
    "X_test = np.empty((table_test.num_rows,7))\n",
    "\n",
    "X_test[:,0] = table_test.select('season')[0] #First column for seasons\n",
    "X_test[:,1] = table_test.select('hour')[0] #Second column for seasons\n",
    "X_test[:,2] = table_test.select('workingday')[0] #Third column for seasons\n",
    "X_test[:,3] = table_test.select('weather')[0] #Fourth column for seasons\n",
    "X_test[:,4] = table_test.select('temp')[0] #Fifth column for seasons\n",
    "X_test[:,5] = table_test.select('hum')[0] #Sixth column for seasons\n",
    "X_test[:,6] = table_test.select('windspeed')[0] #Seventh column for seasons\n",
    "\n",
    "#Create a matrix for all the probabilities of each data point\n",
    "#For each input of the data, we will input the probability of each of the seven choices (count==1, count==2,...) into a row\n",
    "#The possibility with the greatest probability will be our guess\n",
    "    #Ex. second row third column is probability that the second datapoint count==3\n",
    "Y_test = np.zeros((len(X_test), 7))\n",
    "\n",
    "\n",
    "\n",
    "\n",
    "#Now fill the probability for every data point for every possible count value that point can take on\n",
    "#Note we are still using X_Season, X_hour, ... etc from part 1, this is because we are using the data from part 1 to give predictions about the data in part 2   \n",
    "\n",
    "for i in range(0, len(X_test)):\n",
    "    z = X_test[i,:].astype(np.int) #Given fields for a data point, z\n",
    "    V_season = X_season[(z[0]-1),:] #Find the probability for each count possibility given z's season value\n",
    "    V_hour = X_hour[(z[1]-1),:]     #Find the probability for each count possibility given z's hour value\n",
    "    V_workingday = X_workingday[(z[2]),:] #Find the probability for each count possibility given z's workingday value\n",
    "    V_weather = X_weather[(z[3]-1),:] #Find the probability for each count possibility given z's weather value\n",
    "    V_temp = X_temp[(z[4]-1),:]     #Find the probability for each count possibility given z's temp value\n",
    "    V_hum = X_hum[(z[5]-1),:]       #Find the probability for each count possibility given z's hum value\n",
    "    V_windspeed = X_windspeed[(z[6]-1),:] #Find the probability for each count possibility given z's windspeed value\n",
    "    Y_test[i,:] = V_season * V_hour*V_workingday*V_weather*V_temp*V_hum*V_windspeed*Y #Remeber NAIVE bayes (all independent)\n",
    "    Y_test[i,:] = Y_test[i,:] / sum(Y_test[i,:]) #Optional: Smooth the values by their porportion of each other so that their sum equals 1 \n",
    "    \n",
    "\n",
    "    \n",
    "    \n",
    "#Now that we have the desired probabilites, for each data point pick the index with the highest probability to be our guess\n",
    "Labels = np.argmax(Y_test,axis = 1) + 1 #Remember that indexing starts at 0, so the nth element corresponds to the count = n+1      \n",
    "\n",
    "\n",
    "\n",
    "\n",
    "#Now lets attach our guess onto the data\n",
    "test_with_guess = table_test.with_column(\"guess\", Labels)\n",
    "\n",
    "\n",
    "#Now lets check how we did!\n",
    "accuracy = sum(test_with_guess.column('count') == test_with_guess.column('guess')) / test_with_guess.num_rows \n",
    "accuracy"
   ]
  },
  {
   "cell_type": "markdown",
   "metadata": {},
   "source": [
    "**Part 3. (10 points)** What if you only use two features of season and and workingday for predicting the number of bikers for the testing data? How testing accuracy is different with respect to trainig accuracy? "
   ]
  },
  {
   "cell_type": "code",
   "execution_count": 24,
   "metadata": {},
   "outputs": [
    {
     "data": {
      "text/plain": [
       "0.48568321855744834"
      ]
     },
     "execution_count": 24,
     "metadata": {},
     "output_type": "execute_result"
    }
   ],
   "source": [
    "#Now fill the probability for every data point for every possible count value that point can take on\n",
    "#Note we are still using X_Season, X_hour, ... etc from part 1, this is because we are using the data from part 1 to give predictions about the data in part 2 \n",
    "#Note we are only using seasons and workingday\n",
    "\n",
    "for i in range(0, len(X_test)):\n",
    "    z = X_test[i,:].astype(np.int) #Given fields for a data point, z\n",
    "    V_season = X_season[(z[0]-1),:] #Find the probability for each count possibility given z's season value\n",
    "    V_workingday = X_workingday[(z[2]),:] #Find the probability for each count possibility given z's workingday value\n",
    "    Y_test[i,:] = V_season * V_workingday * Y #Remeber NAIVE bayes (all independent)\n",
    "    Y_test[i,:] = Y_test[i,:] / sum(Y_test[i,:]) #Optional: Smooth the values by their porportion of each other so that their sum equals 1 \n",
    "    \n",
    "\n",
    "    \n",
    "#Now that we have the desired probabilites, for each data point pick the index with the highest probability to be our guess\n",
    "Labels = np.argmax(Y_test,axis = 1) + 1 #Remember that indexing starts at 0, so the nth element corresponds to the count = n+1      \n",
    "\n",
    "\n",
    "\n",
    "#Now lets attach our guess onto the data\n",
    "test_with_season_workingday = table_test.with_column(\"guess\", Labels)\n",
    "\n",
    "\n",
    "#Now lets check how we did!\n",
    "accuracy = sum(test_with_season_workingday.column('count') == test_with_season_workingday.column('guess')) / test_with_season_workingday.num_rows \n",
    "accuracy"
   ]
  },
  {
   "cell_type": "markdown",
   "metadata": {},
   "source": [
    "### 3. Bayesian networks (40 points)\n",
    "\n",
    "This question will refer to the graphical model shown below, which encode a set of independencies among the following variables: Season (S), Flu (F), Dehydration (D), Chills (C), Headache (H), Nausea (N), and Dizziness (Z).\n",
    "\n",
    "<img src=\"flu.png\", width=\"500\">\n",
    "\n",
    "**Part 1: Independencies in Bayesian networks (12 points)** \n",
    "\n",
    "Consider the model shown above. Indicate whether the following independence statements are true or false according to this model. Provide a very brief justification of your answer (think of active trails and d-separation).\n",
    "\n",
    "1- Season $\\perp$ Chills\n",
    "\n",
    "\n",
    "2- Season $\\perp$ Chills $\\mid$ Flu\n",
    "\n",
    "\n",
    "3- Season $\\perp$ Headache $\\mid$ Flu\n",
    "\n",
    "\n",
    "4- Season $\\perp$ Headache $\\mid$ Flu, Dehydration\n",
    "\n",
    "\n",
    "5- Season $\\perp$ Nausea $\\mid$ Dehydration\n",
    "\n",
    "\n",
    "6- Season $\\perp$ Nausea $\\mid$ Dehydration, Headache\n",
    "\n",
    "\n",
    "7- Flu $\\perp$ Dehydration\n",
    "\n",
    "\n",
    "8- Flu $\\perp$ Dehydration $\\mid$ Season, Headache\n",
    "\n",
    "\n",
    "9- Flu $\\perp$ Dehydration $\\mid$ Season\n",
    "\n",
    "\n",
    "10- Flu $\\perp$ Dehydration $\\mid$ Season, Nausea\n",
    "\n",
    "\n",
    "11- Chills $\\perp$ Nausea \n",
    "\n",
    "\n",
    "12- Chills $\\perp$ Nausea $\\mid$ Headache\n",
    "\n",
    "\n",
    "\n",
    "**Part 2: Factorized joint distributions (3 points)** \n",
    "\n",
    "1- Using the Bayesian network shown above write down the factorized form of the joint distribution over all of the variables, $p(S,F,D,C,H,N,Z)$\n",
    "\n",
    "\n",
    "**Part 3: Evaluating probability queries (25 points)**\n",
    "\n",
    "Assume you are given the conditional probability tables listed below for the model shown in the first figure. Evaluate each of the probabilities queries listed below and show your calculations.\n",
    "\n",
    "<img src=\"flu2.png\", width=\"500\">\n",
    "\n",
    "\n",
    "1- What is the probability that you have the flu, when no prior information is known?\n",
    "\n",
    "\n",
    "2- What is the probability that you have the flu, given that it is winter?\n",
    "\n",
    "\n",
    "3- What is the probability that you have the flu, given that it is winter and that you have a headache?\n",
    "\n",
    "\n",
    "4- What is the probability that you have the flu, given that it is winter, you have a headache, and you know that you are dehydrated?\n",
    "\n",
    "\n",
    "5- Does knowing your are dehydrated increase or decrease your likelihood of having the flu? Intuitively, does this make sense?"
   ]
  },
  {
   "cell_type": "code",
   "execution_count": null,
   "metadata": {
    "collapsed": true
   },
   "outputs": [],
   "source": [
    "# Your analysis and answers here:# Your analysis and answers here:"
   ]
  },
  {
   "cell_type": "markdown",
   "metadata": {},
   "source": [
    "### Bonus Question: (20 points) \n",
    "\n",
    "Let $H_i$ be a random variable taking on values $l$ and $r$ that denotes the handedness of some individual $i$. A simple hypothesis for handedness is that it is inherited in the following way:\n",
    "\n",
    "- there is a single gene $G_i$ that effects $H_i$,\n",
    "\n",
    "\n",
    "- $H_i = G_i$ with probability $p > 0.5$,\n",
    "\n",
    "\n",
    "- the gene is inherited from a single parent, and it is equally likely to be inherited from either,\n",
    "\n",
    "\n",
    "- there is a small non-zero probability $m$ that the gene mutates after inheritance (e.g. if the child inherits from the father and $G_{father} = r$, then with probability $m$, $G_{child} = l$).\n",
    "\n",
    "\n",
    "(a) (10 points) Draw a Bayes' network with nodes $G_i$ and $H_i$ for $i \\in \\{child, mother, father\\}$ that shows this hypothesis.\n",
    "\n",
    "\n",
    "(b) (4 points) Answer the following using d-separation argument.\n",
    "\n",
    "- is $H_{mother}$ independent of $H_{father}$?\n",
    "\n",
    "\n",
    "- is $H_{mother}$ independent of $H_{father}$ given $H_{child}$?\n",
    "\n",
    "\n",
    "- is $H_{child}$ independent of $G_{mother}$ given $G_{child}$?\n",
    "\n",
    "\n",
    "- is $H_{child}$ independent of $G_{mother}$ given $H_{mother}$?\n",
    "\n",
    "\n",
    "(c) (2 points) Give the conditional probability table for $G_{child}$.\n",
    "\n",
    "\n",
    "\n",
    "(d) (2 points) Suppose $p(G_{father} = l) = p(G_{mother} = l) = x$. Derive an expression for $p(G_{child} = l)$ in terms of $x$ and $m$ by conditioning on the parent nodes. \n",
    "\n",
    "\n",
    "(e) (2 points) Suppose genetic equilibrium holds, i.e. that the distribution of genes in every generation is the same. Calculate $x$. Do you think the hypothesis for handedness described in this question holds? Explain.\n"
   ]
  },
  {
   "cell_type": "code",
   "execution_count": null,
   "metadata": {
    "collapsed": true
   },
   "outputs": [],
   "source": [
    "# Your analysis and answers here:"
   ]
  },
  {
   "cell_type": "markdown",
   "metadata": {},
   "source": [
    "# Load OKpy"
   ]
  },
  {
   "cell_type": "code",
   "execution_count": null,
   "metadata": {
    "collapsed": true
   },
   "outputs": [],
   "source": [
    "from client.api.notebook import Notebook\n",
    "ok = Notebook('HW2.ok')\n",
    "_ = ok.auth(inline=True)"
   ]
  },
  {
   "cell_type": "markdown",
   "metadata": {},
   "source": [
    "# Submit to OKpy"
   ]
  },
  {
   "cell_type": "code",
   "execution_count": null,
   "metadata": {
    "collapsed": true
   },
   "outputs": [],
   "source": [
    "_ = ok.submit()"
   ]
  }
 ],
 "metadata": {
  "kernelspec": {
   "display_name": "Python 3",
   "language": "python",
   "name": "python3"
  },
  "language_info": {
   "codemirror_mode": {
    "name": "ipython",
    "version": 3
   },
   "file_extension": ".py",
   "mimetype": "text/x-python",
   "name": "python",
   "nbconvert_exporter": "python",
   "pygments_lexer": "ipython3",
   "version": "3.6.1"
  },
  "varInspector": {
   "cols": {
    "lenName": 16,
    "lenType": 16,
    "lenVar": 40
   },
   "kernels_config": {
    "python": {
     "delete_cmd_postfix": "",
     "delete_cmd_prefix": "del ",
     "library": "var_list.py",
     "varRefreshCmd": "print(var_dic_list())"
    },
    "r": {
     "delete_cmd_postfix": ") ",
     "delete_cmd_prefix": "rm(",
     "library": "var_list.r",
     "varRefreshCmd": "cat(var_dic_list()) "
    }
   },
   "types_to_exclude": [
    "module",
    "function",
    "builtin_function_or_method",
    "instance",
    "_Feature"
   ],
   "window_display": false
  }
 },
 "nbformat": 4,
 "nbformat_minor": 2
}
