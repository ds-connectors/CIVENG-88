{
 "cells": [
  {
   "cell_type": "markdown",
   "metadata": {},
   "source": [
    "# CE - 88 Data Science for Smart Cities\n",
    "\n",
    "**Due date: Monday, November 27th 11:59pm**\n",
    "\n",
    "## Homework 4"
   ]
  },
  {
   "cell_type": "markdown",
   "metadata": {},
   "source": [
    "### $k$-Nearest Neighbors\n",
    "\n",
    "\n",
    "### 1. Conceptual question (20 points)\n",
    "\n",
    "In figure below, we show a set of training points classified as being either black or white. Consider using the $k$-Nearest Neighbors algorithm to classify new points.\n",
    "\n",
    "\n",
    "<img src=\"fig1.png\", width=\"700\">\n",
    "\n",
    "\n",
    "\n",
    "**part 1.** How is the point marked by \"?\" classified using Euclidean distance as the distance metric for $k = 1,2$ and $3$?<br></br>\n",
    "ANSWER: k=1 white\n",
    "k=2 white\n",
    "k=3 white\n",
    "\n",
    "**part 2.** Are there any points in the training set that would be misclassified using $k = 1$? If so, identify them. <br></br>\n",
    "ANSWER: (9,14), (13,18)\n",
    "\n",
    "**part 3.** Come up with a simple distance metric that would properly classify all the points in the training set for $k = 1$?<br></br>\n",
    "ANSWER: Distance on x-axis\n",
    "\n",
    "**part 4.** What happens when $k = 5$ using your distance metric?<br></br>\n",
    "ANSWER: 7,8,9 => white\n",
    "12,13 => black\n",
    "\n",
    "**part 5.** How does your distance metric classify the \"?\" for $k = 1, 2$ and $3$?<br></br>\n",
    "ANSWER: all black"
   ]
  },
  {
   "cell_type": "code",
   "execution_count": 1,
   "metadata": {
    "collapsed": true
   },
   "outputs": [],
   "source": [
    "# Imports libs and define helper functions\n",
    "from datascience import *\n",
    "import numpy as np\n",
    "import matplotlib.pyplot as plt\n",
    "import warnings\n",
    "warnings.filterwarnings('ignore')\n",
    "\n",
    "%matplotlib inline\n",
    "\n",
    "def norm(data):\n",
    "    x_minus_mean = data - np.mean(data)\n",
    "    x_norm = x_minus_mean/np.std(data)\n",
    "    return x_norm\n",
    "\n",
    "def transform(to_predict, data):\n",
    "    return (to_predict - np.mean(data))/np.std(data)\n",
    "\n",
    "def distance(x, y):\n",
    "    return np.sqrt(np.sum((x-y)**2,1))\n",
    "\n",
    "def norm_target_based(to_norm_table, input_table, to_norm_name, target_name = 'count'): \n",
    "    '''\n",
    "    Normalize categorical variable based on the target when target variable is numerical.\n",
    "    <input>\n",
    "    * (Table) to_norm_table : data to be normed\n",
    "    * (Table) input_table : training data set\n",
    "    * (String) to_norm_name : name of the column to be normed, e.g., 'season'\n",
    "    * (String) target_name: name of the target column, e.g., 'count'\n",
    "    <output>\n",
    "    * (ndarray) normalized column values based on input_table\n",
    "    ''' \n",
    "    # Find the unique values of categorical variables\n",
    "    unique_categories = np.unique(to_norm_table.column(to_norm_name))\n",
    "    \n",
    "    # Get average of the target for each category\n",
    "    avg_each_cat = [np.mean(input_table.where(to_norm_name,category).column(target_name)) \n",
    "                    for category in unique_categories]\n",
    "    \n",
    "    # Return the normalized to_norm_table\n",
    "    return transform([avg_each_cat[val-1] for val in to_norm_table.column(to_norm_name)], \n",
    "                     input_table.column(to_norm_name))"
   ]
  },
  {
   "cell_type": "markdown",
   "metadata": {},
   "source": [
    "### 2. $k$-NN vs. linear regression (40 points)\n",
    "\n",
    "In this question, you will compare the performance of $k$-NN and Linear Regression on prediction of load with respect to temperature readings (same database as homework 2). You are given two databases: (1) \"Reg_Training.csv\" which contains the data of months June and July in year 2016 for training, and (2) \"Reg_Testing.csv\", which contains the data of month of August in year 2016 for testing. \n",
    "\n",
    "**Part 1.** Fit a line to the training data using any library or formula that you want. Then use the line to predict the power in the testing data. Then compute the least square error of your predictions. For example, if your predictions are $\\hat{y_i}$, and the actual power load in the testing data is $y_i$, then the least square error is:\n",
    "\n",
    "$\\frac{1}{N}\\sum_{i=1}^{N} (y_i - \\hat{y_i})^2$"
   ]
  },
  {
   "cell_type": "code",
   "execution_count": 3,
   "metadata": {},
   "outputs": [
    {
     "data": {
      "text/html": [
       "<table border=\"1\" class=\"dataframe\">\n",
       "    <thead>\n",
       "        <tr>\n",
       "            <th>Date</th> <th>Temperature</th> <th>Load</th>\n",
       "        </tr>\n",
       "    </thead>\n",
       "    <tbody>\n",
       "        <tr>\n",
       "            <td>2016-06-01</td> <td>76.0333    </td> <td>1927.88</td>\n",
       "        </tr>\n",
       "    </tbody>\n",
       "        <tr>\n",
       "            <td>2016-06-02</td> <td>75.2       </td> <td>1896.42</td>\n",
       "        </tr>\n",
       "    </tbody>\n",
       "        <tr>\n",
       "            <td>2016-06-03</td> <td>72.8937    </td> <td>1868.29</td>\n",
       "        </tr>\n",
       "    </tbody>\n",
       "        <tr>\n",
       "            <td>2016-06-04</td> <td>73.1875    </td> <td>1652.71</td>\n",
       "        </tr>\n",
       "    </tbody>\n",
       "        <tr>\n",
       "            <td>2016-06-05</td> <td>69.7032    </td> <td>1547.88</td>\n",
       "        </tr>\n",
       "    </tbody>\n",
       "        <tr>\n",
       "            <td>2016-06-06</td> <td>68.2815    </td> <td>1654.88</td>\n",
       "        </tr>\n",
       "    </tbody>\n",
       "        <tr>\n",
       "            <td>2016-06-07</td> <td>63.5219    </td> <td>1538.21</td>\n",
       "        </tr>\n",
       "    </tbody>\n",
       "        <tr>\n",
       "            <td>2016-06-08</td> <td>57.2812    </td> <td>1396.54</td>\n",
       "        </tr>\n",
       "    </tbody>\n",
       "        <tr>\n",
       "            <td>2016-06-09</td> <td>61.525     </td> <td>1425.83</td>\n",
       "        </tr>\n",
       "    </tbody>\n",
       "        <tr>\n",
       "            <td>2016-06-10</td> <td>70.2375    </td> <td>1569.58</td>\n",
       "        </tr>\n",
       "    </tbody>\n",
       "</table>\n",
       "<p>... (51 rows omitted)</p"
      ],
      "text/plain": [
       "Date       | Temperature | Load\n",
       "2016-06-01 | 76.0333     | 1927.88\n",
       "2016-06-02 | 75.2        | 1896.42\n",
       "2016-06-03 | 72.8937     | 1868.29\n",
       "2016-06-04 | 73.1875     | 1652.71\n",
       "2016-06-05 | 69.7032     | 1547.88\n",
       "2016-06-06 | 68.2815     | 1654.88\n",
       "2016-06-07 | 63.5219     | 1538.21\n",
       "2016-06-08 | 57.2812     | 1396.54\n",
       "2016-06-09 | 61.525      | 1425.83\n",
       "2016-06-10 | 70.2375     | 1569.58\n",
       "... (51 rows omitted)"
      ]
     },
     "execution_count": 3,
     "metadata": {},
     "output_type": "execute_result"
    }
   ],
   "source": [
    "# Load data\n",
    "train = Table.read_table(\"Reg_Training.csv\")\n",
    "test = Table.read_table(\"Reg_Testing.csv\")\n",
    "test\n",
    "train"
   ]
  },
  {
   "cell_type": "code",
   "execution_count": 4,
   "metadata": {},
   "outputs": [
    {
     "data": {
      "text/plain": [
       "(38.798185464096015, -1026.3416866781085)"
      ]
     },
     "execution_count": 4,
     "metadata": {},
     "output_type": "execute_result"
    }
   ],
   "source": [
    "# Get linear regression based on training data\n",
    "\n",
    "# 1) \n",
    "x = train[\"Temperature\"]\n",
    "y = train[\"Load\"]\n",
    "theta1 = np.sum(x*(y-np.mean(y)))/np.sum(x*(x-np.mean(x)))\n",
    "theta2 = -theta1*np.mean(x) + np.mean(y)\n",
    "theta1, theta2"
   ]
  },
  {
   "cell_type": "code",
   "execution_count": 5,
   "metadata": {},
   "outputs": [
    {
     "data": {
      "text/plain": [
       "array([   38.79818546, -1026.34168668])"
      ]
     },
     "execution_count": 5,
     "metadata": {},
     "output_type": "execute_result"
    }
   ],
   "source": [
    "# 2) \n",
    "X = np.vstack([train[\"Temperature\"], np.ones(len(train.column(0)))]).T\n",
    "y = train[\"Load\"]\n",
    "theta = np.linalg.solve(X.T.dot(X), X.T.dot(y))\n",
    "theta"
   ]
  },
  {
   "cell_type": "code",
   "execution_count": 6,
   "metadata": {},
   "outputs": [
    {
     "data": {
      "image/png": "[encoded data removed]",
      "text/plain": [
       "<matplotlib.figure.Figure at 0x1a098b84e0>"
      ]
     },
     "metadata": {},
     "output_type": "display_data"
    }
   ],
   "source": [
    "# Visualize the data\n",
    "plt.plot(train[\"Temperature\"], train[\"Load\"], 'rx')\n",
    "xlim = plt.gca().get_xlim()\n",
    "ylim = plt.gca().get_ylim()\n",
    "plt.plot(test[\"Temperature\"], test[\"Load\"], 'bx')\n",
    "plt.plot(xlim, [theta[0]*xlim[0]+theta[1], theta[0]*xlim[1]+theta[1]], 'g-')\n",
    "plt.legend([\"Train\", \"Test\", \"Squared loss fit\"], loc=\"upper left\")\n",
    "plt.xlabel(\"Temperature (F)\")\n",
    "plt.ylabel(\"Demand (kW)\")\n",
    "plt.tight_layout()"
   ]
  },
  {
   "cell_type": "code",
   "execution_count": 7,
   "metadata": {},
   "outputs": [
    {
     "data": {
      "text/plain": [
       "10410.647756674156"
      ]
     },
     "execution_count": 7,
     "metadata": {},
     "output_type": "execute_result"
    }
   ],
   "source": [
    "# Get Least Squared Error\n",
    "LSE = sum((test[\"Load\"]-(theta1*test[\"Temperature\"]+theta2))**2)/test.num_rows\n",
    "LSE"
   ]
  },
  {
   "cell_type": "markdown",
   "metadata": {},
   "source": [
    "**Part 2.** Implement the $k$-NN method with $k = {1,3,5}$. Use the training data to find the nearest neighbors for each testing data and the predict the power in the testing data. Find the least square error same as above. \n",
    "\n",
    "- What is the relationship between error in prediction and $k$? \n",
    "\n",
    "- Which method (linear regression or $k$-NN) is performing better? why? "
   ]
  },
  {
   "cell_type": "code",
   "execution_count": 8,
   "metadata": {},
   "outputs": [
    {
     "data": {
      "text/plain": [
       "(24500.175011200674, 20626.978320390263, 16065.150573476687)"
      ]
     },
     "execution_count": 8,
     "metadata": {},
     "output_type": "execute_result"
    }
   ],
   "source": [
    "# Rename the test set not to be confused...\n",
    "test2 = test.select([\"Temperature\",\"Load\"])\n",
    "\n",
    "# Define the function of predicing power load given temperature\n",
    "def predict_load(input_table, to_predict, k, averaging=True):\n",
    "    '''\n",
    "    Predict power load by temperature \n",
    "    <input>\n",
    "    * (Table) input_table : training data set that includes 'Temperature' column \n",
    "    * (String) to_predict : point to predict the power load\n",
    "    * (integer) k : number of neareast neighbors\n",
    "    * (boolean) averaging : boolean flag to return average power load over k-neighbors\n",
    "                            if True - return the average power load over k-neighbors\n",
    "                            if False - return the majority power load over k-neighbors \n",
    "                                      (NOTE, it is likely to return the power load of the nearest neighbor\n",
    "                                             because the power load is continuous value and is quite unlikely \n",
    "                                             to have a common value with other neighbors)\n",
    "    <output>\n",
    "    * (double) predicted power load\n",
    "    ''' \n",
    "    \n",
    "    input_data = input_table.select('Temperature').values\n",
    "    dists = distance(to_predict, input_data)\n",
    "    inds = np.argsort(dists)[0:k]\n",
    "    if averaging:\n",
    "        most_common_response = np.mean(input_table['Load'][inds])\n",
    "    else:\n",
    "        most_common_response = np.argmax(np.bincount(list(input_table['Load'][inds])))    \n",
    "    return most_common_response\n",
    "\n",
    "# Predict the power load by k and add a new column for the predicted load associated with k\n",
    "test2['predicted_k1'] = test2.apply(lambda temp: predict_load(train, temp, 1, True),'Temperature')\n",
    "test2['predicted_k3'] = test2.apply(lambda temp: predict_load(train, temp, 3, True),'Temperature')\n",
    "test2['predicted_k5'] = test2.apply(lambda temp: predict_load(train, temp, 5, True),'Temperature')\n",
    "\n",
    "# Compute Least Squared Error\n",
    "LSE_k1 = sum((test2[\"Load\"]-test2[\"predicted_k1\"])**2)/test2.num_rows\n",
    "LSE_k3 = sum((test2[\"Load\"]-test2[\"predicted_k3\"])**2)/test2.num_rows\n",
    "LSE_k5 = sum((test2[\"Load\"]-test2[\"predicted_k5\"])**2)/test2.num_rows\n",
    "\n",
    "LSE_k1, LSE_k3, LSE_k5"
   ]
  },
  {
   "cell_type": "markdown",
   "metadata": {},
   "source": [
    "### 3. $k$-NN for classification (40 points)\n",
    "\n",
    "In this question, you will use $k$-NN for classification purposes. You are given two databases: (1) \"Class_Training.csv\" which contains the training data of bike sharing, and (2) \"Class_Testing.csv\", which contains the testing data of bikesharing. Treat season, weather, temp and hum as features and count as class label. \n",
    "\n",
    "Use the training data and implement $k$-NN with $k = {1,3,7}$ to find the class lables for testing data. Plot the relationship between $k$ and the accuracy in predicting the class labels. \n",
    "\n"
   ]
  },
  {
   "cell_type": "code",
   "execution_count": 9,
   "metadata": {},
   "outputs": [
    {
     "data": {
      "text/html": [
       "<table border=\"1\" class=\"dataframe\">\n",
       "    <thead>\n",
       "        <tr>\n",
       "            <th>season</th> <th>weather</th> <th>temp</th> <th>hum</th> <th>count</th>\n",
       "        </tr>\n",
       "    </thead>\n",
       "    <tbody>\n",
       "        <tr>\n",
       "            <td>3     </td> <td>3      </td> <td>0.56</td> <td>0.94</td> <td>1    </td>\n",
       "        </tr>\n",
       "    </tbody>\n",
       "        <tr>\n",
       "            <td>3     </td> <td>2      </td> <td>0.62</td> <td>0.94</td> <td>2    </td>\n",
       "        </tr>\n",
       "    </tbody>\n",
       "        <tr>\n",
       "            <td>1     </td> <td>1      </td> <td>0.1 </td> <td>0.54</td> <td>1    </td>\n",
       "        </tr>\n",
       "    </tbody>\n",
       "        <tr>\n",
       "            <td>3     </td> <td>1      </td> <td>0.66</td> <td>0.65</td> <td>1    </td>\n",
       "        </tr>\n",
       "    </tbody>\n",
       "        <tr>\n",
       "            <td>3     </td> <td>1      </td> <td>0.66</td> <td>0.74</td> <td>3    </td>\n",
       "        </tr>\n",
       "    </tbody>\n",
       "        <tr>\n",
       "            <td>3     </td> <td>1      </td> <td>0.68</td> <td>0.69</td> <td>1    </td>\n",
       "        </tr>\n",
       "    </tbody>\n",
       "        <tr>\n",
       "            <td>2     </td> <td>3      </td> <td>0.42</td> <td>0.94</td> <td>1    </td>\n",
       "        </tr>\n",
       "    </tbody>\n",
       "        <tr>\n",
       "            <td>2     </td> <td>2      </td> <td>0.5 </td> <td>0.94</td> <td>2    </td>\n",
       "        </tr>\n",
       "    </tbody>\n",
       "        <tr>\n",
       "            <td>2     </td> <td>3      </td> <td>0.42</td> <td>0.94</td> <td>1    </td>\n",
       "        </tr>\n",
       "    </tbody>\n",
       "        <tr>\n",
       "            <td>2     </td> <td>1      </td> <td>0.32</td> <td>0.61</td> <td>1    </td>\n",
       "        </tr>\n",
       "    </tbody>\n",
       "</table>\n",
       "<p>... (5990 rows omitted)</p"
      ],
      "text/plain": [
       "season | weather | temp | hum  | count\n",
       "3      | 3       | 0.56 | 0.94 | 1\n",
       "3      | 2       | 0.62 | 0.94 | 2\n",
       "1      | 1       | 0.1  | 0.54 | 1\n",
       "3      | 1       | 0.66 | 0.65 | 1\n",
       "3      | 1       | 0.66 | 0.74 | 3\n",
       "3      | 1       | 0.68 | 0.69 | 1\n",
       "2      | 3       | 0.42 | 0.94 | 1\n",
       "2      | 2       | 0.5  | 0.94 | 2\n",
       "2      | 3       | 0.42 | 0.94 | 1\n",
       "2      | 1       | 0.32 | 0.61 | 1\n",
       "... (5990 rows omitted)"
      ]
     },
     "execution_count": 9,
     "metadata": {},
     "output_type": "execute_result"
    }
   ],
   "source": [
    "# Load data\n",
    "train = Table.read_table(\"Class_Training.csv\")\n",
    "test = Table.read_table(\"Class_Testing.csv\")\n",
    "train"
   ]
  },
  {
   "cell_type": "code",
   "execution_count": 10,
   "metadata": {},
   "outputs": [
    {
     "data": {
      "text/html": [
       "<table border=\"1\" class=\"dataframe\">\n",
       "    <thead>\n",
       "        <tr>\n",
       "            <th>season</th> <th>weather</th> <th>temp</th> <th>hum</th> <th>count</th>\n",
       "        </tr>\n",
       "    </thead>\n",
       "    <tbody>\n",
       "        <tr>\n",
       "            <td>-0.0596406</td> <td>0.134973</td> <td>0.359739 </td> <td>1.49374  </td> <td>1    </td>\n",
       "        </tr>\n",
       "    </tbody>\n",
       "        <tr>\n",
       "            <td>-0.0596406</td> <td>0.763775</td> <td>0.663104 </td> <td>1.49374  </td> <td>2    </td>\n",
       "        </tr>\n",
       "    </tbody>\n",
       "        <tr>\n",
       "            <td>-1.0617   </td> <td>1.04183 </td> <td>-1.96605 </td> <td>-0.544175</td> <td>1    </td>\n",
       "        </tr>\n",
       "    </tbody>\n",
       "        <tr>\n",
       "            <td>-0.0596406</td> <td>1.04183 </td> <td>0.865346 </td> <td>0.0162524</td> <td>1    </td>\n",
       "        </tr>\n",
       "    </tbody>\n",
       "        <tr>\n",
       "            <td>-0.0596406</td> <td>1.04183 </td> <td>0.865346 </td> <td>0.474783 </td> <td>3    </td>\n",
       "        </tr>\n",
       "    </tbody>\n",
       "        <tr>\n",
       "            <td>-0.0596406</td> <td>1.04183 </td> <td>0.966468 </td> <td>0.220044 </td> <td>1    </td>\n",
       "        </tr>\n",
       "    </tbody>\n",
       "        <tr>\n",
       "            <td>-0.314954 </td> <td>0.134973</td> <td>-0.34811 </td> <td>1.49374  </td> <td>1    </td>\n",
       "        </tr>\n",
       "    </tbody>\n",
       "        <tr>\n",
       "            <td>-0.314954 </td> <td>0.763775</td> <td>0.0563752</td> <td>1.49374  </td> <td>2    </td>\n",
       "        </tr>\n",
       "    </tbody>\n",
       "        <tr>\n",
       "            <td>-0.314954 </td> <td>0.134973</td> <td>-0.34811 </td> <td>1.49374  </td> <td>1    </td>\n",
       "        </tr>\n",
       "    </tbody>\n",
       "        <tr>\n",
       "            <td>-0.314954 </td> <td>1.04183 </td> <td>-0.853717</td> <td>-0.187539</td> <td>1    </td>\n",
       "        </tr>\n",
       "    </tbody>\n",
       "</table>\n",
       "<p>... (5990 rows omitted)</p"
      ],
      "text/plain": [
       "season     | weather  | temp      | hum       | count\n",
       "-0.0596406 | 0.134973 | 0.359739  | 1.49374   | 1\n",
       "-0.0596406 | 0.763775 | 0.663104  | 1.49374   | 2\n",
       "-1.0617    | 1.04183  | -1.96605  | -0.544175 | 1\n",
       "-0.0596406 | 1.04183  | 0.865346  | 0.0162524 | 1\n",
       "-0.0596406 | 1.04183  | 0.865346  | 0.474783  | 3\n",
       "-0.0596406 | 1.04183  | 0.966468  | 0.220044  | 1\n",
       "-0.314954  | 0.134973 | -0.34811  | 1.49374   | 1\n",
       "-0.314954  | 0.763775 | 0.0563752 | 1.49374   | 2\n",
       "-0.314954  | 0.134973 | -0.34811  | 1.49374   | 1\n",
       "-0.314954  | 1.04183  | -0.853717 | -0.187539 | 1\n",
       "... (5990 rows omitted)"
      ]
     },
     "execution_count": 10,
     "metadata": {},
     "output_type": "execute_result"
    }
   ],
   "source": [
    "# Normalize data\n",
    "normed_train = train.copy(); normed_test = test.copy()\n",
    "\n",
    "normed_train['season'] = norm_target_based(train,train,'season','count')\n",
    "normed_train['weather'] = norm_target_based(train,train,'weather','count')\n",
    "normed_train['temp'] = norm(train['temp'])\n",
    "normed_train['hum'] = norm(train['hum'])\n",
    "\n",
    "normed_test['season'] = norm_target_based(test, train,'season','count')\n",
    "normed_test['weather'] = norm_target_based(test, train,'weather','count')\n",
    "normed_test['temp'] = transform(test['temp'], train['temp'])\n",
    "normed_test['hum'] = transform(test['hum'], train['hum'])\n",
    "\n",
    "normed_train"
   ]
  },
  {
   "cell_type": "code",
   "execution_count": 11,
   "metadata": {},
   "outputs": [
    {
     "data": {
      "text/html": [
       "<table border=\"1\" class=\"dataframe\">\n",
       "    <thead>\n",
       "        <tr>\n",
       "            <th>season</th> <th>weather</th> <th>temp</th> <th>hum</th> <th>count</th>\n",
       "        </tr>\n",
       "    </thead>\n",
       "    <tbody>\n",
       "        <tr>\n",
       "            <td>-0.328498 </td> <td>0.763775</td> <td>0.663104  </td> <td>1.49374   </td> <td>3    </td>\n",
       "        </tr>\n",
       "    </tbody>\n",
       "        <tr>\n",
       "            <td>-0.314954 </td> <td>0.763775</td> <td>0.561982  </td> <td>-0.0346955</td> <td>4    </td>\n",
       "        </tr>\n",
       "    </tbody>\n",
       "        <tr>\n",
       "            <td>-1.0617   </td> <td>1.04183 </td> <td>-0.449232 </td> <td>-1.1046   </td> <td>2    </td>\n",
       "        </tr>\n",
       "    </tbody>\n",
       "        <tr>\n",
       "            <td>-0.328498 </td> <td>1.04183 </td> <td>-0.752596 </td> <td>0.576679  </td> <td>1    </td>\n",
       "        </tr>\n",
       "    </tbody>\n",
       "        <tr>\n",
       "            <td>-0.328498 </td> <td>1.04183 </td> <td>0.663104  </td> <td>-0.951758 </td> <td>5    </td>\n",
       "        </tr>\n",
       "    </tbody>\n",
       "        <tr>\n",
       "            <td>-0.0596406</td> <td>1.04183 </td> <td>1.26983   </td> <td>-0.697018 </td> <td>2    </td>\n",
       "        </tr>\n",
       "    </tbody>\n",
       "        <tr>\n",
       "            <td>-0.314954 </td> <td>0.134973</td> <td>0.258618  </td> <td>0.423836  </td> <td>2    </td>\n",
       "        </tr>\n",
       "    </tbody>\n",
       "        <tr>\n",
       "            <td>-1.0617   </td> <td>1.04183 </td> <td>-1.46045  </td> <td>-0.0346955</td> <td>1    </td>\n",
       "        </tr>\n",
       "    </tbody>\n",
       "        <tr>\n",
       "            <td>-0.0596406</td> <td>1.04183 </td> <td>1.16871   </td> <td>-0.697018 </td> <td>1    </td>\n",
       "        </tr>\n",
       "    </tbody>\n",
       "        <tr>\n",
       "            <td>-0.328498 </td> <td>0.763775</td> <td>-0.0447462</td> <td>1.49374   </td> <td>3    </td>\n",
       "        </tr>\n",
       "    </tbody>\n",
       "</table>\n",
       "<p>... (2750 rows omitted)</p"
      ],
      "text/plain": [
       "season     | weather  | temp       | hum        | count\n",
       "-0.328498  | 0.763775 | 0.663104   | 1.49374    | 3\n",
       "-0.314954  | 0.763775 | 0.561982   | -0.0346955 | 4\n",
       "-1.0617    | 1.04183  | -0.449232  | -1.1046    | 2\n",
       "-0.328498  | 1.04183  | -0.752596  | 0.576679   | 1\n",
       "-0.328498  | 1.04183  | 0.663104   | -0.951758  | 5\n",
       "-0.0596406 | 1.04183  | 1.26983    | -0.697018  | 2\n",
       "-0.314954  | 0.134973 | 0.258618   | 0.423836   | 2\n",
       "-1.0617    | 1.04183  | -1.46045   | -0.0346955 | 1\n",
       "-0.0596406 | 1.04183  | 1.16871    | -0.697018  | 1\n",
       "-0.328498  | 0.763775 | -0.0447462 | 1.49374    | 3\n",
       "... (2750 rows omitted)"
      ]
     },
     "execution_count": 11,
     "metadata": {},
     "output_type": "execute_result"
    }
   ],
   "source": [
    "normed_test"
   ]
  },
  {
   "cell_type": "code",
   "execution_count": 12,
   "metadata": {},
   "outputs": [
    {
     "data": {
      "text/html": [
       "<table border=\"1\" class=\"dataframe\">\n",
       "    <thead>\n",
       "        <tr>\n",
       "            <th>season</th> <th>weather</th> <th>temp</th> <th>hum</th> <th>count</th> <th>predicted_k1</th> <th>predicted_k3</th> <th>predicted_k7</th>\n",
       "        </tr>\n",
       "    </thead>\n",
       "    <tbody>\n",
       "        <tr>\n",
       "            <td>-0.328498 </td> <td>0.763775</td> <td>0.663104  </td> <td>1.49374   </td> <td>3    </td> <td>1           </td> <td>1           </td> <td>1           </td>\n",
       "        </tr>\n",
       "    </tbody>\n",
       "        <tr>\n",
       "            <td>-0.314954 </td> <td>0.763775</td> <td>0.561982  </td> <td>-0.0346955</td> <td>4    </td> <td>1           </td> <td>1           </td> <td>1           </td>\n",
       "        </tr>\n",
       "    </tbody>\n",
       "        <tr>\n",
       "            <td>-1.0617   </td> <td>1.04183 </td> <td>-0.449232 </td> <td>-1.1046   </td> <td>2    </td> <td>1           </td> <td>3           </td> <td>3           </td>\n",
       "        </tr>\n",
       "    </tbody>\n",
       "        <tr>\n",
       "            <td>-0.328498 </td> <td>1.04183 </td> <td>-0.752596 </td> <td>0.576679  </td> <td>1    </td> <td>3           </td> <td>1           </td> <td>1           </td>\n",
       "        </tr>\n",
       "    </tbody>\n",
       "        <tr>\n",
       "            <td>-0.328498 </td> <td>1.04183 </td> <td>0.663104  </td> <td>-0.951758 </td> <td>5    </td> <td>6           </td> <td>2           </td> <td>2           </td>\n",
       "        </tr>\n",
       "    </tbody>\n",
       "        <tr>\n",
       "            <td>-0.0596406</td> <td>1.04183 </td> <td>1.26983   </td> <td>-0.697018 </td> <td>2    </td> <td>3           </td> <td>3           </td> <td>2           </td>\n",
       "        </tr>\n",
       "    </tbody>\n",
       "        <tr>\n",
       "            <td>-0.314954 </td> <td>0.134973</td> <td>0.258618  </td> <td>0.423836  </td> <td>2    </td> <td>1           </td> <td>1           </td> <td>1           </td>\n",
       "        </tr>\n",
       "    </tbody>\n",
       "        <tr>\n",
       "            <td>-1.0617   </td> <td>1.04183 </td> <td>-1.46045  </td> <td>-0.0346955</td> <td>1    </td> <td>1           </td> <td>1           </td> <td>1           </td>\n",
       "        </tr>\n",
       "    </tbody>\n",
       "        <tr>\n",
       "            <td>-0.0596406</td> <td>1.04183 </td> <td>1.16871   </td> <td>-0.697018 </td> <td>1    </td> <td>3           </td> <td>2           </td> <td>2           </td>\n",
       "        </tr>\n",
       "    </tbody>\n",
       "        <tr>\n",
       "            <td>-0.328498 </td> <td>0.763775</td> <td>-0.0447462</td> <td>1.49374   </td> <td>3    </td> <td>1           </td> <td>1           </td> <td>1           </td>\n",
       "        </tr>\n",
       "    </tbody>\n",
       "</table>\n",
       "<p>... (2750 rows omitted)</p"
      ],
      "text/plain": [
       "season     | weather  | temp       | hum        | count | predicted_k1 | predicted_k3 | predicted_k7\n",
       "-0.328498  | 0.763775 | 0.663104   | 1.49374    | 3     | 1            | 1            | 1\n",
       "-0.314954  | 0.763775 | 0.561982   | -0.0346955 | 4     | 1            | 1            | 1\n",
       "-1.0617    | 1.04183  | -0.449232  | -1.1046    | 2     | 1            | 3            | 3\n",
       "-0.328498  | 1.04183  | -0.752596  | 0.576679   | 1     | 3            | 1            | 1\n",
       "-0.328498  | 1.04183  | 0.663104   | -0.951758  | 5     | 6            | 2            | 2\n",
       "-0.0596406 | 1.04183  | 1.26983    | -0.697018  | 2     | 3            | 3            | 2\n",
       "-0.314954  | 0.134973 | 0.258618   | 0.423836   | 2     | 1            | 1            | 1\n",
       "-1.0617    | 1.04183  | -1.46045   | -0.0346955 | 1     | 1            | 1            | 1\n",
       "-0.0596406 | 1.04183  | 1.16871    | -0.697018  | 1     | 3            | 2            | 2\n",
       "-0.328498  | 0.763775 | -0.0447462 | 1.49374    | 3     | 1            | 1            | 1\n",
       "... (2750 rows omitted)"
      ]
     },
     "execution_count": 12,
     "metadata": {},
     "output_type": "execute_result"
    }
   ],
   "source": [
    "def predict_count(input_table, to_predict, k):\n",
    "    input_data = input_table.drop('count').values\n",
    "    dists = distance(to_predict, input_data)\n",
    "    inds = np.argsort(dists)[0:k]\n",
    "    most_common_response = np.argmax(np.bincount(input_table['count'][inds]))\n",
    "    return most_common_response\n",
    "\n",
    "# Predict the counts\n",
    "normed_test['predicted_k1'] = normed_test.apply(lambda season, weather, temp, hum: \n",
    "                                              predict_count(normed_train, [season, weather, temp, hum], 1), \n",
    "                                              [0,1,2,3])\n",
    "normed_test['predicted_k3'] = normed_test.apply(lambda season, weather, temp, hum: \n",
    "                                              predict_count(normed_train, [season, weather, temp, hum], 3), \n",
    "                                              [0,1,2,3])\n",
    "normed_test['predicted_k7'] = normed_test.apply(lambda season, weather, temp, hum: \n",
    "                                              predict_count(normed_train, [season, weather, temp, hum], 7), \n",
    "                                              [0,1,2,3])\n",
    "normed_test"
   ]
  },
  {
   "cell_type": "code",
   "execution_count": 13,
   "metadata": {},
   "outputs": [
    {
     "data": {
      "text/plain": [
       "[0.47789855072463766, 0.527536231884058, 0.5427536231884058]"
      ]
     },
     "execution_count": 13,
     "metadata": {},
     "output_type": "execute_result"
    }
   ],
   "source": [
    "# Calculate accuracy\n",
    "accuracy_k1 = np.count_nonzero(normed_test.column('count') == normed_test.column('predicted_k1'))/normed_test.num_rows\n",
    "accuracy_k3 = np.count_nonzero(normed_test.column('count') == normed_test.column('predicted_k3'))/normed_test.num_rows\n",
    "accuracy_k7 = np.count_nonzero(normed_test.column('count') == normed_test.column('predicted_k7'))/normed_test.num_rows\n",
    "[accuracy_k1, accuracy_k3, accuracy_k7]"
   ]
  },
  {
   "cell_type": "code",
   "execution_count": 14,
   "metadata": {},
   "outputs": [
    {
     "data": {
      "image/png": "[encoded data removed]",
      "text/plain": [
       "<matplotlib.figure.Figure at 0x1a099b2588>"
      ]
     },
     "metadata": {},
     "output_type": "display_data"
    }
   ],
   "source": [
    "# Visualize the accuracy by k\n",
    "Table().with_columns(\"k\", make_array(1,3,7), \"Accuracy\", make_array(accuracy_k1, accuracy_k3, accuracy_k7)).plot(0,1)"
   ]
  },
  {
   "cell_type": "markdown",
   "metadata": {},
   "source": [
    "# Load OKpy"
   ]
  },
  {
   "cell_type": "code",
   "execution_count": 168,
   "metadata": {
    "collapsed": true
   },
   "outputs": [],
   "source": [
    "# from client.api.notebook import Notebook\n",
    "# ok = Notebook('HW4.ok')\n",
    "# _ = ok.auth(inline=True)"
   ]
  },
  {
   "cell_type": "markdown",
   "metadata": {},
   "source": [
    "# Submit to OKpy"
   ]
  },
  {
   "cell_type": "code",
   "execution_count": 169,
   "metadata": {
    "collapsed": true
   },
   "outputs": [],
   "source": [
    "# _ = ok.submit()"
   ]
  }
 ],
 "metadata": {
  "kernelspec": {
   "display_name": "Python 3",
   "language": "python",
   "name": "python3"
  },
  "language_info": {
   "codemirror_mode": {
    "name": "ipython",
    "version": 3
   },
   "file_extension": ".py",
   "mimetype": "text/x-python",
   "name": "python",
   "nbconvert_exporter": "python",
   "pygments_lexer": "ipython3",
   "version": "3.6.1"
  },
  "varInspector": {
   "cols": {
    "lenName": 16,
    "lenType": 16,
    "lenVar": 40
   },
   "kernels_config": {
    "python": {
     "delete_cmd_postfix": "",
     "delete_cmd_prefix": "del ",
     "library": "var_list.py",
     "varRefreshCmd": "print(var_dic_list())"
    },
    "r": {
     "delete_cmd_postfix": ") ",
     "delete_cmd_prefix": "rm(",
     "library": "var_list.r",
     "varRefreshCmd": "cat(var_dic_list()) "
    }
   },
   "types_to_exclude": [
    "module",
    "function",
    "builtin_function_or_method",
    "instance",
    "_Feature"
   ],
   "window_display": false
  }
 },
 "nbformat": 4,
 "nbformat_minor": 2
}
